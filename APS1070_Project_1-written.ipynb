{
  "nbformat": 4,
  "nbformat_minor": 0,
  "metadata": {
    "kernelspec": {
      "display_name": "Python 3",
      "language": "python",
      "name": "python3"
    },
    "language_info": {
      "codemirror_mode": {
        "name": "ipython",
        "version": 3
      },
      "file_extension": ".py",
      "mimetype": "text/x-python",
      "name": "python",
      "nbconvert_exporter": "python",
      "pygments_lexer": "ipython3",
      "version": "3.7.4"
    },
    "colab": {
      "provenance": [],
      "collapsed_sections": []
    }
  },
  "cells": [
    {
      "cell_type": "markdown",
      "metadata": {
        "id": "08owH-AVyZCX"
      },
      "source": [
        "# APS1070\n",
        "#### Project 1 --- Basic Principles and Models \n",
        "**Deadline: Oct 6th, 9PM - 10 percent**"
      ]
    },
    {
      "cell_type": "markdown",
      "metadata": {
        "id": "fRZ3wBoe398S"
      },
      "source": [
        "**Academic Integrity**\n",
        "\n",
        "This project is individual - it is to be completed on your own. If you have questions, please post your query in the APS1070 Piazza Q&A forums (the answer might be useful to others!).\n",
        "\n",
        "Do not share your code with others, or post your work online. Do not submit code that you have not written yourself. Students suspected of plagiarism on a project, midterm or exam will be referred to the department for formal discipline for breaches of the Student Code of Conduct."
      ]
    },
    {
      "cell_type": "markdown",
      "metadata": {
        "id": "qonbueFGyemb"
      },
      "source": [
        "Name: Yao Yao  *(here and elsewhere, please replace the underscore with your answer)*\n",
        "\n",
        "Student ID: 1004900388"
      ]
    },
    {
      "cell_type": "markdown",
      "metadata": {
        "id": "Dykrw3cyy7PF"
      },
      "source": [
        "##**Marking Scheme:**\n",
        "\n",
        "This project is worth **10 percent** of your final grade.\n",
        "\n",
        "Draw a plot or table where necessary to summarize your findings. \n",
        "\n",
        "**Practice Vectorized coding**: If you need to write a loop in your solution, think about how you can implement the same functionality with vectorized operations. Try to avoid loops as much as possible (in some cases, loops are inevitable).\n",
        "\n",
        "\n"
      ]
    },
    {
      "cell_type": "markdown",
      "source": [
        "### How to submit **(HTML + IPYNB)**\n",
        "\n",
        "1. Download your notebook: `File -> Download .ipynb`\n",
        "\n",
        "2. Click on the Files icon on the far left menu of Colab\n",
        "\n",
        "3. Select & upload your `.ipynb` file you just downloaded, and then obtain its path (right click) (you might need to hit the Refresh button before your file shows up)\n",
        "\n",
        "\n",
        "4. execute the following in a Colab cell:\n",
        "```\n",
        "%%shell\n",
        "jupyter nbconvert --to html /PATH/TO/YOUR/NOTEBOOKFILE.ipynb\n",
        "```\n",
        "\n",
        "5. An HTML version of your notebook will appear in the files, so you can download it.\n",
        "\n",
        "6. Submit **both** <font color='red'>`HTML` and `IPYNB`</font>  files on Quercus for grading.\n",
        "\n",
        "\n",
        "\n",
        "Ref: https://stackoverflow.com/a/64487858 \n",
        "\n"
      ],
      "metadata": {
        "id": "dBW_phAt5wYk"
      }
    },
    {
      "cell_type": "code",
      "source": [
        "%%shell\n",
        "jupyter nbconvert --to html /PATH/TO/YOUR/NOTEBOOKFILE.ipynb"
      ],
      "metadata": {
        "id": "xEQqizLSbCaI"
      },
      "execution_count": null,
      "outputs": []
    },
    {
      "cell_type": "markdown",
      "metadata": {
        "id": "yYlo7mIXyZFe"
      },
      "source": [
        "# Project 1 [10 Marks] \n",
        "Let's apply the tools we have learned in the tutorial to a new dataset.\n",
        "\n",
        "We're going to work with a breast cancer dataset. Download it using the cell below:"
      ]
    },
    {
      "cell_type": "code",
      "metadata": {
        "id": "YFo8KVcryZFe"
      },
      "source": [
        "from sklearn.datasets import load_breast_cancer\n",
        "dataset = load_breast_cancer()"
      ],
      "execution_count": 2,
      "outputs": []
    },
    {
      "cell_type": "markdown",
      "metadata": {
        "id": "gOGmwyQNyZFh"
      },
      "source": [
        "## Part 1: Getting started [2 Marks]\n",
        "First off, take a look at the `data`, `target` and `feature_names` entries in the `dataset` dictionary. They contain the information we'll be working with here. Then, create a Pandas DataFrame called `df` containing the data and the targets, with the feature names as column headings. If you need help, see [here](https://pandas.pydata.org/pandas-docs/stable/reference/api/pandas.DataFrame.html) for more details on how to achieve this. **[0.4]**\n",
        "* How many features do we have in this dataset?  30\n",
        "* How many observations have a 'mean area' of greater than 700? 171\n",
        "* How many participants tested `Malignant`? 212\n",
        "* How many participants tested `Benign`? 357"
      ]
    },
    {
      "cell_type": "code",
      "source": [
        "import pandas as pd\n",
        "import numpy as np\n",
        "\n",
        "feature_data=dataset.data\n",
        "\n",
        "# number of features in this dataset\n",
        "feature_data.shape[1]"
      ],
      "metadata": {
        "colab": {
          "base_uri": "https://localhost:8080/"
        },
        "id": "ELyubwujYA2D",
        "outputId": "7a1474e5-8686-4382-ca15-40ae989b3483"
      },
      "execution_count": 3,
      "outputs": [
        {
          "output_type": "execute_result",
          "data": {
            "text/plain": [
              "30"
            ]
          },
          "metadata": {},
          "execution_count": 3
        }
      ]
    },
    {
      "cell_type": "code",
      "source": [
        "# number of observations that 'mean_area' > 700\n",
        "count = 0 \n",
        "for i in feature_data[:,dataset.feature_names.tolist().index(\"mean area\")]:\n",
        "  if i > 700:\n",
        "    count = count + 1\n",
        "print(count)"
      ],
      "metadata": {
        "colab": {
          "base_uri": "https://localhost:8080/"
        },
        "id": "UKwN6JF6eSmQ",
        "outputId": "d6ca2bc4-7f2f-495f-ea2b-f1728962d21b"
      },
      "execution_count": 4,
      "outputs": [
        {
          "output_type": "stream",
          "name": "stdout",
          "text": [
            "171\n"
          ]
        }
      ]
    },
    {
      "cell_type": "code",
      "source": [
        "target_data = dataset.target\n",
        "target_names = dataset.target_names\n",
        "# number of participants tested in Malignant\n",
        "malignant_samples= len([t for t in target_data if t == target_names.tolist().index('malignant')])\n",
        "# number of participants tested in Benign\n",
        "benign_samples= len([t for t in target_data if t == target_names.tolist().index('benign')])\n",
        "print(malignant_samples)\n",
        "print(benign_samples)"
      ],
      "metadata": {
        "colab": {
          "base_uri": "https://localhost:8080/"
        },
        "id": "jM0obsrxco73",
        "outputId": "c98f2ab2-89a5-4abb-a177-c4cd1569160c"
      },
      "execution_count": 5,
      "outputs": [
        {
          "output_type": "stream",
          "name": "stdout",
          "text": [
            "212\n",
            "357\n"
          ]
        }
      ]
    },
    {
      "cell_type": "code",
      "source": [
        "dataset"
      ],
      "metadata": {
        "colab": {
          "base_uri": "https://localhost:8080/"
        },
        "id": "ltMuhHD4b5bw",
        "outputId": "058f5adc-4b53-4196-da3f-99af9707d04c"
      },
      "execution_count": 6,
      "outputs": [
        {
          "output_type": "execute_result",
          "data": {
            "text/plain": [
              "{'data': array([[1.799e+01, 1.038e+01, 1.228e+02, ..., 2.654e-01, 4.601e-01,\n",
              "         1.189e-01],\n",
              "        [2.057e+01, 1.777e+01, 1.329e+02, ..., 1.860e-01, 2.750e-01,\n",
              "         8.902e-02],\n",
              "        [1.969e+01, 2.125e+01, 1.300e+02, ..., 2.430e-01, 3.613e-01,\n",
              "         8.758e-02],\n",
              "        ...,\n",
              "        [1.660e+01, 2.808e+01, 1.083e+02, ..., 1.418e-01, 2.218e-01,\n",
              "         7.820e-02],\n",
              "        [2.060e+01, 2.933e+01, 1.401e+02, ..., 2.650e-01, 4.087e-01,\n",
              "         1.240e-01],\n",
              "        [7.760e+00, 2.454e+01, 4.792e+01, ..., 0.000e+00, 2.871e-01,\n",
              "         7.039e-02]]),\n",
              " 'target': array([0, 0, 0, 0, 0, 0, 0, 0, 0, 0, 0, 0, 0, 0, 0, 0, 0, 0, 0, 1, 1, 1,\n",
              "        0, 0, 0, 0, 0, 0, 0, 0, 0, 0, 0, 0, 0, 0, 0, 1, 0, 0, 0, 0, 0, 0,\n",
              "        0, 0, 1, 0, 1, 1, 1, 1, 1, 0, 0, 1, 0, 0, 1, 1, 1, 1, 0, 1, 0, 0,\n",
              "        1, 1, 1, 1, 0, 1, 0, 0, 1, 0, 1, 0, 0, 1, 1, 1, 0, 0, 1, 0, 0, 0,\n",
              "        1, 1, 1, 0, 1, 1, 0, 0, 1, 1, 1, 0, 0, 1, 1, 1, 1, 0, 1, 1, 0, 1,\n",
              "        1, 1, 1, 1, 1, 1, 1, 0, 0, 0, 1, 0, 0, 1, 1, 1, 0, 0, 1, 0, 1, 0,\n",
              "        0, 1, 0, 0, 1, 1, 0, 1, 1, 0, 1, 1, 1, 1, 0, 1, 1, 1, 1, 1, 1, 1,\n",
              "        1, 1, 0, 1, 1, 1, 1, 0, 0, 1, 0, 1, 1, 0, 0, 1, 1, 0, 0, 1, 1, 1,\n",
              "        1, 0, 1, 1, 0, 0, 0, 1, 0, 1, 0, 1, 1, 1, 0, 1, 1, 0, 0, 1, 0, 0,\n",
              "        0, 0, 1, 0, 0, 0, 1, 0, 1, 0, 1, 1, 0, 1, 0, 0, 0, 0, 1, 1, 0, 0,\n",
              "        1, 1, 1, 0, 1, 1, 1, 1, 1, 0, 0, 1, 1, 0, 1, 1, 0, 0, 1, 0, 1, 1,\n",
              "        1, 1, 0, 1, 1, 1, 1, 1, 0, 1, 0, 0, 0, 0, 0, 0, 0, 0, 0, 0, 0, 0,\n",
              "        0, 0, 1, 1, 1, 1, 1, 1, 0, 1, 0, 1, 1, 0, 1, 1, 0, 1, 0, 0, 1, 1,\n",
              "        1, 1, 1, 1, 1, 1, 1, 1, 1, 1, 1, 0, 1, 1, 0, 1, 0, 1, 1, 1, 1, 1,\n",
              "        1, 1, 1, 1, 1, 1, 1, 1, 1, 0, 1, 1, 1, 0, 1, 0, 1, 1, 1, 1, 0, 0,\n",
              "        0, 1, 1, 1, 1, 0, 1, 0, 1, 0, 1, 1, 1, 0, 1, 1, 1, 1, 1, 1, 1, 0,\n",
              "        0, 0, 1, 1, 1, 1, 1, 1, 1, 1, 1, 1, 1, 0, 0, 1, 0, 0, 0, 1, 0, 0,\n",
              "        1, 1, 1, 1, 1, 0, 1, 1, 1, 1, 1, 0, 1, 1, 1, 0, 1, 1, 0, 0, 1, 1,\n",
              "        1, 1, 1, 1, 0, 1, 1, 1, 1, 1, 1, 1, 0, 1, 1, 1, 1, 1, 0, 1, 1, 0,\n",
              "        1, 1, 1, 1, 1, 1, 1, 1, 1, 1, 1, 1, 0, 1, 0, 0, 1, 0, 1, 1, 1, 1,\n",
              "        1, 0, 1, 1, 0, 1, 0, 1, 1, 0, 1, 0, 1, 1, 1, 1, 1, 1, 1, 1, 0, 0,\n",
              "        1, 1, 1, 1, 1, 1, 0, 1, 1, 1, 1, 1, 1, 1, 1, 1, 1, 0, 1, 1, 1, 1,\n",
              "        1, 1, 1, 0, 1, 0, 1, 1, 0, 1, 1, 1, 1, 1, 0, 0, 1, 0, 1, 0, 1, 1,\n",
              "        1, 1, 1, 0, 1, 1, 0, 1, 0, 1, 0, 0, 1, 1, 1, 0, 1, 1, 1, 1, 1, 1,\n",
              "        1, 1, 1, 1, 1, 0, 1, 0, 0, 1, 1, 1, 1, 1, 1, 1, 1, 1, 1, 1, 1, 1,\n",
              "        1, 1, 1, 1, 1, 1, 1, 1, 1, 1, 1, 1, 0, 0, 0, 0, 0, 0, 1]),\n",
              " 'frame': None,\n",
              " 'target_names': array(['malignant', 'benign'], dtype='<U9'),\n",
              " 'DESCR': '.. _breast_cancer_dataset:\\n\\nBreast cancer wisconsin (diagnostic) dataset\\n--------------------------------------------\\n\\n**Data Set Characteristics:**\\n\\n    :Number of Instances: 569\\n\\n    :Number of Attributes: 30 numeric, predictive attributes and the class\\n\\n    :Attribute Information:\\n        - radius (mean of distances from center to points on the perimeter)\\n        - texture (standard deviation of gray-scale values)\\n        - perimeter\\n        - area\\n        - smoothness (local variation in radius lengths)\\n        - compactness (perimeter^2 / area - 1.0)\\n        - concavity (severity of concave portions of the contour)\\n        - concave points (number of concave portions of the contour)\\n        - symmetry\\n        - fractal dimension (\"coastline approximation\" - 1)\\n\\n        The mean, standard error, and \"worst\" or largest (mean of the three\\n        worst/largest values) of these features were computed for each image,\\n        resulting in 30 features.  For instance, field 0 is Mean Radius, field\\n        10 is Radius SE, field 20 is Worst Radius.\\n\\n        - class:\\n                - WDBC-Malignant\\n                - WDBC-Benign\\n\\n    :Summary Statistics:\\n\\n    ===================================== ====== ======\\n                                           Min    Max\\n    ===================================== ====== ======\\n    radius (mean):                        6.981  28.11\\n    texture (mean):                       9.71   39.28\\n    perimeter (mean):                     43.79  188.5\\n    area (mean):                          143.5  2501.0\\n    smoothness (mean):                    0.053  0.163\\n    compactness (mean):                   0.019  0.345\\n    concavity (mean):                     0.0    0.427\\n    concave points (mean):                0.0    0.201\\n    symmetry (mean):                      0.106  0.304\\n    fractal dimension (mean):             0.05   0.097\\n    radius (standard error):              0.112  2.873\\n    texture (standard error):             0.36   4.885\\n    perimeter (standard error):           0.757  21.98\\n    area (standard error):                6.802  542.2\\n    smoothness (standard error):          0.002  0.031\\n    compactness (standard error):         0.002  0.135\\n    concavity (standard error):           0.0    0.396\\n    concave points (standard error):      0.0    0.053\\n    symmetry (standard error):            0.008  0.079\\n    fractal dimension (standard error):   0.001  0.03\\n    radius (worst):                       7.93   36.04\\n    texture (worst):                      12.02  49.54\\n    perimeter (worst):                    50.41  251.2\\n    area (worst):                         185.2  4254.0\\n    smoothness (worst):                   0.071  0.223\\n    compactness (worst):                  0.027  1.058\\n    concavity (worst):                    0.0    1.252\\n    concave points (worst):               0.0    0.291\\n    symmetry (worst):                     0.156  0.664\\n    fractal dimension (worst):            0.055  0.208\\n    ===================================== ====== ======\\n\\n    :Missing Attribute Values: None\\n\\n    :Class Distribution: 212 - Malignant, 357 - Benign\\n\\n    :Creator:  Dr. William H. Wolberg, W. Nick Street, Olvi L. Mangasarian\\n\\n    :Donor: Nick Street\\n\\n    :Date: November, 1995\\n\\nThis is a copy of UCI ML Breast Cancer Wisconsin (Diagnostic) datasets.\\nhttps://goo.gl/U2Uwz2\\n\\nFeatures are computed from a digitized image of a fine needle\\naspirate (FNA) of a breast mass.  They describe\\ncharacteristics of the cell nuclei present in the image.\\n\\nSeparating plane described above was obtained using\\nMultisurface Method-Tree (MSM-T) [K. P. Bennett, \"Decision Tree\\nConstruction Via Linear Programming.\" Proceedings of the 4th\\nMidwest Artificial Intelligence and Cognitive Science Society,\\npp. 97-101, 1992], a classification method which uses linear\\nprogramming to construct a decision tree.  Relevant features\\nwere selected using an exhaustive search in the space of 1-4\\nfeatures and 1-3 separating planes.\\n\\nThe actual linear program used to obtain the separating plane\\nin the 3-dimensional space is that described in:\\n[K. P. Bennett and O. L. Mangasarian: \"Robust Linear\\nProgramming Discrimination of Two Linearly Inseparable Sets\",\\nOptimization Methods and Software 1, 1992, 23-34].\\n\\nThis database is also available through the UW CS ftp server:\\n\\nftp ftp.cs.wisc.edu\\ncd math-prog/cpo-dataset/machine-learn/WDBC/\\n\\n.. topic:: References\\n\\n   - W.N. Street, W.H. Wolberg and O.L. Mangasarian. Nuclear feature extraction \\n     for breast tumor diagnosis. IS&T/SPIE 1993 International Symposium on \\n     Electronic Imaging: Science and Technology, volume 1905, pages 861-870,\\n     San Jose, CA, 1993.\\n   - O.L. Mangasarian, W.N. Street and W.H. Wolberg. Breast cancer diagnosis and \\n     prognosis via linear programming. Operations Research, 43(4), pages 570-577, \\n     July-August 1995.\\n   - W.H. Wolberg, W.N. Street, and O.L. Mangasarian. Machine learning techniques\\n     to diagnose breast cancer from fine-needle aspirates. Cancer Letters 77 (1994) \\n     163-171.',\n",
              " 'feature_names': array(['mean radius', 'mean texture', 'mean perimeter', 'mean area',\n",
              "        'mean smoothness', 'mean compactness', 'mean concavity',\n",
              "        'mean concave points', 'mean symmetry', 'mean fractal dimension',\n",
              "        'radius error', 'texture error', 'perimeter error', 'area error',\n",
              "        'smoothness error', 'compactness error', 'concavity error',\n",
              "        'concave points error', 'symmetry error',\n",
              "        'fractal dimension error', 'worst radius', 'worst texture',\n",
              "        'worst perimeter', 'worst area', 'worst smoothness',\n",
              "        'worst compactness', 'worst concavity', 'worst concave points',\n",
              "        'worst symmetry', 'worst fractal dimension'], dtype='<U23'),\n",
              " 'filename': 'breast_cancer.csv',\n",
              " 'data_module': 'sklearn.datasets.data'}"
            ]
          },
          "metadata": {},
          "execution_count": 6
        }
      ]
    },
    {
      "cell_type": "markdown",
      "metadata": {
        "id": "YyqBEQXGq-B0"
      },
      "source": [
        "### Splitting the data\n",
        "It is best practice to have a training set (from which there is a rotating validation subset) and a test set. Our aim here is to (eventually) obtain the best accuracy we can on the test set (we'll do all our tuning on the training/validation sets, however.) \n",
        "\n",
        "**Split the dataset** into a train and a test set **\"70:30\"**, use **``random_state=0``**. The test set is set aside (untouched) for final evaluation, once hyperparameter optimization is complete. **[0.5]**\n",
        "\n",
        "**Only Split the dataset once within you notebook.** You should not use the `train_test_split` function more than once, regardless of the random state. Keep this in mind for your future projects as well."
      ]
    },
    {
      "cell_type": "code",
      "metadata": {
        "id": "A5equ6ied8eg"
      },
      "source": [
        "### YOUR CODE HERE ###\n",
        "from sklearn.model_selection import train_test_split\n",
        "# train dataset: 70%; test dataset: 30%\n",
        "X_train,X_test, y_train, y_test= train_test_split(feature_data, target_data, test_size=0.3, random_state=0)"
      ],
      "execution_count": 7,
      "outputs": []
    },
    {
      "cell_type": "markdown",
      "metadata": {
        "id": "U_jNtkfce9Eg"
      },
      "source": [
        "### Effect of Standardization (Visual)\n",
        "Use `seaborn.lmplot` ([help here](https://seaborn.pydata.org/generated/seaborn.lmplot.html)) to visualize a few features of the training set. Draw a plot where the x-axis is ``worst smoothness``, the y-axis is ``worst fractal dimension,`` and the color of each datapoint indicates its class.  **[0.5]**\n",
        "\n",
        "Standardizing the data is often critical in machine learning. Show a plot as above, but with two features with very different scales. Standardize the data and plot those features again. What's different? **why do they look similar?** Based on your observation, what is the advantage of standardization? **[0.6]**\n",
        "\n",
        "\n"
      ]
    },
    {
      "cell_type": "code",
      "metadata": {
        "id": "J684emSV8mJd",
        "colab": {
          "base_uri": "https://localhost:8080/",
          "height": 517
        },
        "outputId": "04d07043-e50a-421c-8450-0ab111d49149"
      },
      "source": [
        "### YOUR CODE HERE ###\n",
        "df_training = pd.DataFrame(data = X_train, columns= dataset.feature_names)\n",
        "df_training['class'] = y_train\n",
        "df_training['class'] = df_training['class'].replace([0,1],['malignant','benign'])\n",
        "df_training"
      ],
      "execution_count": 8,
      "outputs": [
        {
          "output_type": "execute_result",
          "data": {
            "text/plain": [
              "     mean radius  mean texture  mean perimeter  mean area  mean smoothness  \\\n",
              "0         11.490         14.59           73.99      404.9          0.10460   \n",
              "1         10.490         18.61           66.86      334.3          0.10680   \n",
              "2         12.250         17.94           78.27      460.3          0.08654   \n",
              "3         18.310         18.58          118.60     1041.0          0.08588   \n",
              "4          6.981         13.43           43.79      143.5          0.11700   \n",
              "..           ...           ...             ...        ...              ...   \n",
              "393       18.810         19.98          120.90     1102.0          0.08923   \n",
              "394       12.460         24.04           83.97      475.9          0.11860   \n",
              "395        9.436         18.32           59.82      278.6          0.10090   \n",
              "396        9.720         18.22           60.73      288.1          0.06950   \n",
              "397       11.510         23.93           74.52      403.5          0.09261   \n",
              "\n",
              "     mean compactness  mean concavity  mean concave points  mean symmetry  \\\n",
              "0             0.08228         0.05308              0.01969         0.1779   \n",
              "1             0.06678         0.02297              0.01780         0.1482   \n",
              "2             0.06679         0.03885              0.02331         0.1970   \n",
              "3             0.08468         0.08169              0.05814         0.1621   \n",
              "4             0.07568         0.00000              0.00000         0.1930   \n",
              "..                ...             ...                  ...            ...   \n",
              "393           0.05884         0.08020              0.05843         0.1550   \n",
              "394           0.23960         0.22730              0.08543         0.2030   \n",
              "395           0.05956         0.02710              0.01406         0.1506   \n",
              "396           0.02344         0.00000              0.00000         0.1653   \n",
              "397           0.10210         0.11120              0.04105         0.1388   \n",
              "\n",
              "     mean fractal dimension  ...  worst texture  worst perimeter  worst area  \\\n",
              "0                   0.06574  ...          21.90            82.04       467.6   \n",
              "1                   0.06600  ...          24.54            70.76       375.4   \n",
              "2                   0.06228  ...          25.22            86.60       564.2   \n",
              "3                   0.05425  ...          26.36           139.20      1410.0   \n",
              "4                   0.07818  ...          19.54            50.41       185.2   \n",
              "..                      ...  ...            ...              ...         ...   \n",
              "393                 0.04996  ...          24.30           129.00      1236.0   \n",
              "394                 0.08243  ...          40.68            97.65       711.4   \n",
              "395                 0.06959  ...          25.02            75.79       439.6   \n",
              "396                 0.06447  ...          20.83            62.25       303.8   \n",
              "397                 0.06570  ...          37.16            82.28       474.2   \n",
              "\n",
              "     worst smoothness  worst compactness  worst concavity  \\\n",
              "0             0.13520            0.20100          0.25960   \n",
              "1             0.14130            0.10440          0.08423   \n",
              "2             0.12170            0.17880          0.19430   \n",
              "3             0.12340            0.24450          0.35380   \n",
              "4             0.15840            0.12020          0.00000   \n",
              "..                ...                ...              ...   \n",
              "393           0.12430            0.11600          0.22100   \n",
              "394           0.18530            1.05800          1.10500   \n",
              "395           0.13330            0.10490          0.11440   \n",
              "396           0.07117            0.02729          0.00000   \n",
              "397           0.12980            0.25170          0.36300   \n",
              "\n",
              "     worst concave points  worst symmetry  worst fractal dimension      class  \n",
              "0                 0.07431          0.2941                  0.09180     benign  \n",
              "1                 0.06528          0.2213                  0.07842     benign  \n",
              "2                 0.08211          0.3113                  0.08132     benign  \n",
              "3                 0.15710          0.3206                  0.06938  malignant  \n",
              "4                 0.00000          0.2932                  0.09382     benign  \n",
              "..                    ...             ...                      ...        ...  \n",
              "393               0.12940          0.2567                  0.05737  malignant  \n",
              "394               0.22100          0.4366                  0.20750  malignant  \n",
              "395               0.05052          0.2454                  0.08136     benign  \n",
              "396               0.00000          0.1909                  0.06559     benign  \n",
              "397               0.09653          0.2112                  0.08732     benign  \n",
              "\n",
              "[398 rows x 31 columns]"
            ],
            "text/html": [
              "\n",
              "  <div id=\"df-747fd283-d29e-4296-9ce4-3f23ee6320c4\">\n",
              "    <div class=\"colab-df-container\">\n",
              "      <div>\n",
              "<style scoped>\n",
              "    .dataframe tbody tr th:only-of-type {\n",
              "        vertical-align: middle;\n",
              "    }\n",
              "\n",
              "    .dataframe tbody tr th {\n",
              "        vertical-align: top;\n",
              "    }\n",
              "\n",
              "    .dataframe thead th {\n",
              "        text-align: right;\n",
              "    }\n",
              "</style>\n",
              "<table border=\"1\" class=\"dataframe\">\n",
              "  <thead>\n",
              "    <tr style=\"text-align: right;\">\n",
              "      <th></th>\n",
              "      <th>mean radius</th>\n",
              "      <th>mean texture</th>\n",
              "      <th>mean perimeter</th>\n",
              "      <th>mean area</th>\n",
              "      <th>mean smoothness</th>\n",
              "      <th>mean compactness</th>\n",
              "      <th>mean concavity</th>\n",
              "      <th>mean concave points</th>\n",
              "      <th>mean symmetry</th>\n",
              "      <th>mean fractal dimension</th>\n",
              "      <th>...</th>\n",
              "      <th>worst texture</th>\n",
              "      <th>worst perimeter</th>\n",
              "      <th>worst area</th>\n",
              "      <th>worst smoothness</th>\n",
              "      <th>worst compactness</th>\n",
              "      <th>worst concavity</th>\n",
              "      <th>worst concave points</th>\n",
              "      <th>worst symmetry</th>\n",
              "      <th>worst fractal dimension</th>\n",
              "      <th>class</th>\n",
              "    </tr>\n",
              "  </thead>\n",
              "  <tbody>\n",
              "    <tr>\n",
              "      <th>0</th>\n",
              "      <td>11.490</td>\n",
              "      <td>14.59</td>\n",
              "      <td>73.99</td>\n",
              "      <td>404.9</td>\n",
              "      <td>0.10460</td>\n",
              "      <td>0.08228</td>\n",
              "      <td>0.05308</td>\n",
              "      <td>0.01969</td>\n",
              "      <td>0.1779</td>\n",
              "      <td>0.06574</td>\n",
              "      <td>...</td>\n",
              "      <td>21.90</td>\n",
              "      <td>82.04</td>\n",
              "      <td>467.6</td>\n",
              "      <td>0.13520</td>\n",
              "      <td>0.20100</td>\n",
              "      <td>0.25960</td>\n",
              "      <td>0.07431</td>\n",
              "      <td>0.2941</td>\n",
              "      <td>0.09180</td>\n",
              "      <td>benign</td>\n",
              "    </tr>\n",
              "    <tr>\n",
              "      <th>1</th>\n",
              "      <td>10.490</td>\n",
              "      <td>18.61</td>\n",
              "      <td>66.86</td>\n",
              "      <td>334.3</td>\n",
              "      <td>0.10680</td>\n",
              "      <td>0.06678</td>\n",
              "      <td>0.02297</td>\n",
              "      <td>0.01780</td>\n",
              "      <td>0.1482</td>\n",
              "      <td>0.06600</td>\n",
              "      <td>...</td>\n",
              "      <td>24.54</td>\n",
              "      <td>70.76</td>\n",
              "      <td>375.4</td>\n",
              "      <td>0.14130</td>\n",
              "      <td>0.10440</td>\n",
              "      <td>0.08423</td>\n",
              "      <td>0.06528</td>\n",
              "      <td>0.2213</td>\n",
              "      <td>0.07842</td>\n",
              "      <td>benign</td>\n",
              "    </tr>\n",
              "    <tr>\n",
              "      <th>2</th>\n",
              "      <td>12.250</td>\n",
              "      <td>17.94</td>\n",
              "      <td>78.27</td>\n",
              "      <td>460.3</td>\n",
              "      <td>0.08654</td>\n",
              "      <td>0.06679</td>\n",
              "      <td>0.03885</td>\n",
              "      <td>0.02331</td>\n",
              "      <td>0.1970</td>\n",
              "      <td>0.06228</td>\n",
              "      <td>...</td>\n",
              "      <td>25.22</td>\n",
              "      <td>86.60</td>\n",
              "      <td>564.2</td>\n",
              "      <td>0.12170</td>\n",
              "      <td>0.17880</td>\n",
              "      <td>0.19430</td>\n",
              "      <td>0.08211</td>\n",
              "      <td>0.3113</td>\n",
              "      <td>0.08132</td>\n",
              "      <td>benign</td>\n",
              "    </tr>\n",
              "    <tr>\n",
              "      <th>3</th>\n",
              "      <td>18.310</td>\n",
              "      <td>18.58</td>\n",
              "      <td>118.60</td>\n",
              "      <td>1041.0</td>\n",
              "      <td>0.08588</td>\n",
              "      <td>0.08468</td>\n",
              "      <td>0.08169</td>\n",
              "      <td>0.05814</td>\n",
              "      <td>0.1621</td>\n",
              "      <td>0.05425</td>\n",
              "      <td>...</td>\n",
              "      <td>26.36</td>\n",
              "      <td>139.20</td>\n",
              "      <td>1410.0</td>\n",
              "      <td>0.12340</td>\n",
              "      <td>0.24450</td>\n",
              "      <td>0.35380</td>\n",
              "      <td>0.15710</td>\n",
              "      <td>0.3206</td>\n",
              "      <td>0.06938</td>\n",
              "      <td>malignant</td>\n",
              "    </tr>\n",
              "    <tr>\n",
              "      <th>4</th>\n",
              "      <td>6.981</td>\n",
              "      <td>13.43</td>\n",
              "      <td>43.79</td>\n",
              "      <td>143.5</td>\n",
              "      <td>0.11700</td>\n",
              "      <td>0.07568</td>\n",
              "      <td>0.00000</td>\n",
              "      <td>0.00000</td>\n",
              "      <td>0.1930</td>\n",
              "      <td>0.07818</td>\n",
              "      <td>...</td>\n",
              "      <td>19.54</td>\n",
              "      <td>50.41</td>\n",
              "      <td>185.2</td>\n",
              "      <td>0.15840</td>\n",
              "      <td>0.12020</td>\n",
              "      <td>0.00000</td>\n",
              "      <td>0.00000</td>\n",
              "      <td>0.2932</td>\n",
              "      <td>0.09382</td>\n",
              "      <td>benign</td>\n",
              "    </tr>\n",
              "    <tr>\n",
              "      <th>...</th>\n",
              "      <td>...</td>\n",
              "      <td>...</td>\n",
              "      <td>...</td>\n",
              "      <td>...</td>\n",
              "      <td>...</td>\n",
              "      <td>...</td>\n",
              "      <td>...</td>\n",
              "      <td>...</td>\n",
              "      <td>...</td>\n",
              "      <td>...</td>\n",
              "      <td>...</td>\n",
              "      <td>...</td>\n",
              "      <td>...</td>\n",
              "      <td>...</td>\n",
              "      <td>...</td>\n",
              "      <td>...</td>\n",
              "      <td>...</td>\n",
              "      <td>...</td>\n",
              "      <td>...</td>\n",
              "      <td>...</td>\n",
              "      <td>...</td>\n",
              "    </tr>\n",
              "    <tr>\n",
              "      <th>393</th>\n",
              "      <td>18.810</td>\n",
              "      <td>19.98</td>\n",
              "      <td>120.90</td>\n",
              "      <td>1102.0</td>\n",
              "      <td>0.08923</td>\n",
              "      <td>0.05884</td>\n",
              "      <td>0.08020</td>\n",
              "      <td>0.05843</td>\n",
              "      <td>0.1550</td>\n",
              "      <td>0.04996</td>\n",
              "      <td>...</td>\n",
              "      <td>24.30</td>\n",
              "      <td>129.00</td>\n",
              "      <td>1236.0</td>\n",
              "      <td>0.12430</td>\n",
              "      <td>0.11600</td>\n",
              "      <td>0.22100</td>\n",
              "      <td>0.12940</td>\n",
              "      <td>0.2567</td>\n",
              "      <td>0.05737</td>\n",
              "      <td>malignant</td>\n",
              "    </tr>\n",
              "    <tr>\n",
              "      <th>394</th>\n",
              "      <td>12.460</td>\n",
              "      <td>24.04</td>\n",
              "      <td>83.97</td>\n",
              "      <td>475.9</td>\n",
              "      <td>0.11860</td>\n",
              "      <td>0.23960</td>\n",
              "      <td>0.22730</td>\n",
              "      <td>0.08543</td>\n",
              "      <td>0.2030</td>\n",
              "      <td>0.08243</td>\n",
              "      <td>...</td>\n",
              "      <td>40.68</td>\n",
              "      <td>97.65</td>\n",
              "      <td>711.4</td>\n",
              "      <td>0.18530</td>\n",
              "      <td>1.05800</td>\n",
              "      <td>1.10500</td>\n",
              "      <td>0.22100</td>\n",
              "      <td>0.4366</td>\n",
              "      <td>0.20750</td>\n",
              "      <td>malignant</td>\n",
              "    </tr>\n",
              "    <tr>\n",
              "      <th>395</th>\n",
              "      <td>9.436</td>\n",
              "      <td>18.32</td>\n",
              "      <td>59.82</td>\n",
              "      <td>278.6</td>\n",
              "      <td>0.10090</td>\n",
              "      <td>0.05956</td>\n",
              "      <td>0.02710</td>\n",
              "      <td>0.01406</td>\n",
              "      <td>0.1506</td>\n",
              "      <td>0.06959</td>\n",
              "      <td>...</td>\n",
              "      <td>25.02</td>\n",
              "      <td>75.79</td>\n",
              "      <td>439.6</td>\n",
              "      <td>0.13330</td>\n",
              "      <td>0.10490</td>\n",
              "      <td>0.11440</td>\n",
              "      <td>0.05052</td>\n",
              "      <td>0.2454</td>\n",
              "      <td>0.08136</td>\n",
              "      <td>benign</td>\n",
              "    </tr>\n",
              "    <tr>\n",
              "      <th>396</th>\n",
              "      <td>9.720</td>\n",
              "      <td>18.22</td>\n",
              "      <td>60.73</td>\n",
              "      <td>288.1</td>\n",
              "      <td>0.06950</td>\n",
              "      <td>0.02344</td>\n",
              "      <td>0.00000</td>\n",
              "      <td>0.00000</td>\n",
              "      <td>0.1653</td>\n",
              "      <td>0.06447</td>\n",
              "      <td>...</td>\n",
              "      <td>20.83</td>\n",
              "      <td>62.25</td>\n",
              "      <td>303.8</td>\n",
              "      <td>0.07117</td>\n",
              "      <td>0.02729</td>\n",
              "      <td>0.00000</td>\n",
              "      <td>0.00000</td>\n",
              "      <td>0.1909</td>\n",
              "      <td>0.06559</td>\n",
              "      <td>benign</td>\n",
              "    </tr>\n",
              "    <tr>\n",
              "      <th>397</th>\n",
              "      <td>11.510</td>\n",
              "      <td>23.93</td>\n",
              "      <td>74.52</td>\n",
              "      <td>403.5</td>\n",
              "      <td>0.09261</td>\n",
              "      <td>0.10210</td>\n",
              "      <td>0.11120</td>\n",
              "      <td>0.04105</td>\n",
              "      <td>0.1388</td>\n",
              "      <td>0.06570</td>\n",
              "      <td>...</td>\n",
              "      <td>37.16</td>\n",
              "      <td>82.28</td>\n",
              "      <td>474.2</td>\n",
              "      <td>0.12980</td>\n",
              "      <td>0.25170</td>\n",
              "      <td>0.36300</td>\n",
              "      <td>0.09653</td>\n",
              "      <td>0.2112</td>\n",
              "      <td>0.08732</td>\n",
              "      <td>benign</td>\n",
              "    </tr>\n",
              "  </tbody>\n",
              "</table>\n",
              "<p>398 rows × 31 columns</p>\n",
              "</div>\n",
              "      <button class=\"colab-df-convert\" onclick=\"convertToInteractive('df-747fd283-d29e-4296-9ce4-3f23ee6320c4')\"\n",
              "              title=\"Convert this dataframe to an interactive table.\"\n",
              "              style=\"display:none;\">\n",
              "        \n",
              "  <svg xmlns=\"http://www.w3.org/2000/svg\" height=\"24px\"viewBox=\"0 0 24 24\"\n",
              "       width=\"24px\">\n",
              "    <path d=\"M0 0h24v24H0V0z\" fill=\"none\"/>\n",
              "    <path d=\"M18.56 5.44l.94 2.06.94-2.06 2.06-.94-2.06-.94-.94-2.06-.94 2.06-2.06.94zm-11 1L8.5 8.5l.94-2.06 2.06-.94-2.06-.94L8.5 2.5l-.94 2.06-2.06.94zm10 10l.94 2.06.94-2.06 2.06-.94-2.06-.94-.94-2.06-.94 2.06-2.06.94z\"/><path d=\"M17.41 7.96l-1.37-1.37c-.4-.4-.92-.59-1.43-.59-.52 0-1.04.2-1.43.59L10.3 9.45l-7.72 7.72c-.78.78-.78 2.05 0 2.83L4 21.41c.39.39.9.59 1.41.59.51 0 1.02-.2 1.41-.59l7.78-7.78 2.81-2.81c.8-.78.8-2.07 0-2.86zM5.41 20L4 18.59l7.72-7.72 1.47 1.35L5.41 20z\"/>\n",
              "  </svg>\n",
              "      </button>\n",
              "      \n",
              "  <style>\n",
              "    .colab-df-container {\n",
              "      display:flex;\n",
              "      flex-wrap:wrap;\n",
              "      gap: 12px;\n",
              "    }\n",
              "\n",
              "    .colab-df-convert {\n",
              "      background-color: #E8F0FE;\n",
              "      border: none;\n",
              "      border-radius: 50%;\n",
              "      cursor: pointer;\n",
              "      display: none;\n",
              "      fill: #1967D2;\n",
              "      height: 32px;\n",
              "      padding: 0 0 0 0;\n",
              "      width: 32px;\n",
              "    }\n",
              "\n",
              "    .colab-df-convert:hover {\n",
              "      background-color: #E2EBFA;\n",
              "      box-shadow: 0px 1px 2px rgba(60, 64, 67, 0.3), 0px 1px 3px 1px rgba(60, 64, 67, 0.15);\n",
              "      fill: #174EA6;\n",
              "    }\n",
              "\n",
              "    [theme=dark] .colab-df-convert {\n",
              "      background-color: #3B4455;\n",
              "      fill: #D2E3FC;\n",
              "    }\n",
              "\n",
              "    [theme=dark] .colab-df-convert:hover {\n",
              "      background-color: #434B5C;\n",
              "      box-shadow: 0px 1px 3px 1px rgba(0, 0, 0, 0.15);\n",
              "      filter: drop-shadow(0px 1px 2px rgba(0, 0, 0, 0.3));\n",
              "      fill: #FFFFFF;\n",
              "    }\n",
              "  </style>\n",
              "\n",
              "      <script>\n",
              "        const buttonEl =\n",
              "          document.querySelector('#df-747fd283-d29e-4296-9ce4-3f23ee6320c4 button.colab-df-convert');\n",
              "        buttonEl.style.display =\n",
              "          google.colab.kernel.accessAllowed ? 'block' : 'none';\n",
              "\n",
              "        async function convertToInteractive(key) {\n",
              "          const element = document.querySelector('#df-747fd283-d29e-4296-9ce4-3f23ee6320c4');\n",
              "          const dataTable =\n",
              "            await google.colab.kernel.invokeFunction('convertToInteractive',\n",
              "                                                     [key], {});\n",
              "          if (!dataTable) return;\n",
              "\n",
              "          const docLinkHtml = 'Like what you see? Visit the ' +\n",
              "            '<a target=\"_blank\" href=https://colab.research.google.com/notebooks/data_table.ipynb>data table notebook</a>'\n",
              "            + ' to learn more about interactive tables.';\n",
              "          element.innerHTML = '';\n",
              "          dataTable['output_type'] = 'display_data';\n",
              "          await google.colab.output.renderOutput(dataTable, element);\n",
              "          const docLink = document.createElement('div');\n",
              "          docLink.innerHTML = docLinkHtml;\n",
              "          element.appendChild(docLink);\n",
              "        }\n",
              "      </script>\n",
              "    </div>\n",
              "  </div>\n",
              "  "
            ]
          },
          "metadata": {},
          "execution_count": 8
        }
      ]
    },
    {
      "cell_type": "code",
      "source": [
        "#plot without normalization\n",
        "import seaborn as sns;sns.set_theme(color_codes=True)\n",
        "g = sns.lmplot(x=\"worst smoothness\", y=\"worst fractal dimension\", hue=\"class\", data=df_training, palette=\"Set1\")"
      ],
      "metadata": {
        "colab": {
          "base_uri": "https://localhost:8080/",
          "height": 365
        },
        "id": "Qcr8RbeUv_DS",
        "outputId": "4625d77b-da6a-4beb-c9c9-5962d4b340b6"
      },
      "execution_count": 9,
      "outputs": [
        {
          "output_type": "display_data",
          "data": {
            "text/plain": [
              "<Figure size 455.475x360 with 1 Axes>"
            ],
            "image/png": "[encoded data removed]"
          },
          "metadata": {}
        }
      ]
    },
    {
      "cell_type": "code",
      "source": [
        "from sklearn.preprocessing import StandardScaler\n",
        "scaler = StandardScaler()\n",
        "\n",
        "# normalization\n",
        "scaler.fit(X_train)\n",
        "X_norm = scaler.transform(X_train)\n",
        "\n",
        "# make the normalized training set a dataframe\n",
        "df_training_nor = pd.DataFrame(data = X_norm, columns= dataset.feature_names)\n",
        "df_training_nor['class'] = y_train\n",
        "df_training_nor['class'] = df_training_nor['class'].replace([0,1],['malignant','benign'])\n",
        "df_training_nor"
      ],
      "metadata": {
        "colab": {
          "base_uri": "https://localhost:8080/",
          "height": 517
        },
        "id": "lOyrkVhD8TMJ",
        "outputId": "dca93814-c6ac-481d-c0f3-95d57b9d173f"
      },
      "execution_count": 10,
      "outputs": [
        {
          "output_type": "execute_result",
          "data": {
            "text/plain": [
              "     mean radius  mean texture  mean perimeter  mean area  mean smoothness  \\\n",
              "0      -0.749980     -1.099787       -0.741586  -0.701887         0.584593   \n",
              "1      -1.028214     -0.139262       -1.029804  -0.894732         0.742882   \n",
              "2      -0.538522     -0.299349       -0.568574  -0.550561        -0.714814   \n",
              "3       1.147577     -0.146430        1.061698   1.035628        -0.762301   \n",
              "4      -2.004538     -1.376954       -1.962370  -1.415904         1.476766   \n",
              "..           ...           ...             ...        ...              ...   \n",
              "393     1.286694      0.188082        1.154672   1.202251        -0.521270   \n",
              "394    -0.480093      1.158165       -0.338161  -0.507950         1.591885   \n",
              "395    -1.321473     -0.208553       -1.314385  -1.046877         0.318380   \n",
              "396    -1.242455     -0.232447       -1.277599  -1.020928        -1.940832   \n",
              "397    -0.744416      1.131882       -0.720162  -0.705711        -0.278081   \n",
              "\n",
              "     mean compactness  mean concavity  mean concave points  mean symmetry  \\\n",
              "0           -0.427726       -0.457550            -0.760550      -0.099860   \n",
              "1           -0.731843       -0.843301            -0.808805      -1.159759   \n",
              "2           -0.731647       -0.639856            -0.668125       0.581758   \n",
              "3           -0.380637       -0.091016             0.221141      -0.663712   \n",
              "4           -0.557221       -1.137578            -1.263267       0.439011   \n",
              "..                ...             ...                  ...            ...   \n",
              "393         -0.887630       -0.110105             0.228545      -0.917089   \n",
              "394          2.658965        1.774450             0.917898       0.795879   \n",
              "395         -0.873503       -0.790390            -0.904293      -1.074111   \n",
              "396         -1.582194       -1.137578            -1.263267      -0.549515   \n",
              "397         -0.038849        0.287048            -0.215195      -1.495216   \n",
              "\n",
              "     mean fractal dimension  ...  worst texture  worst perimeter  worst area  \\\n",
              "0                  0.451444  ...      -0.591967        -0.746602   -0.714529   \n",
              "1                  0.489386  ...      -0.161981        -1.074343   -0.868941   \n",
              "2                 -0.053477  ...      -0.051227        -0.614110   -0.552748   \n",
              "3                 -1.225303  ...       0.134448         0.914190    0.863760   \n",
              "4                  2.266825  ...      -0.976348        -1.665615   -1.187480   \n",
              "..                      ...  ...            ...              ...         ...   \n",
              "393               -1.851347  ...      -0.201071         0.617827    0.572352   \n",
              "394                2.887031  ...       2.466795        -0.293051   -0.306224   \n",
              "395                1.013278  ...      -0.083802        -0.928196   -0.761422   \n",
              "396                0.266111  ...      -0.766242        -1.321603   -0.988854   \n",
              "397                0.445606  ...       1.893481        -0.739628   -0.703476   \n",
              "\n",
              "     worst smoothness  worst compactness  worst concavity  \\\n",
              "0            0.116328          -0.341255        -0.046272   \n",
              "1            0.382001          -0.970737        -0.954894   \n",
              "2           -0.471637          -0.485919        -0.384602   \n",
              "3           -0.397597          -0.057793         0.441794   \n",
              "4            1.126757          -0.867778        -1.391304   \n",
              "..                ...                ...              ...   \n",
              "393         -0.358400          -0.895147        -0.246265   \n",
              "394          2.298333           5.243276         4.333890   \n",
              "395          0.033577          -0.967479        -0.798578   \n",
              "396         -2.672370          -1.473214        -1.391304   \n",
              "397         -0.118858          -0.010875         0.489461   \n",
              "\n",
              "     worst concave points  worst symmetry  worst fractal dimension      class  \n",
              "0               -0.623597        0.077542                 0.450628     benign  \n",
              "1               -0.761238       -1.071453                -0.295414     benign  \n",
              "2               -0.504704        0.349008                -0.133716     benign  \n",
              "3                0.638339        0.495789                -0.799466  malignant  \n",
              "4               -1.756275        0.063338                 0.563260     benign  \n",
              "..                    ...             ...                      ...        ...  \n",
              "393              0.216119       -0.512738                -1.469120  malignant  \n",
              "394              1.612342        2.326606                 6.901830  malignant  \n",
              "395             -0.986219       -0.691085                -0.131485     benign  \n",
              "396             -1.756275       -1.551253                -1.010789     benign  \n",
              "397             -0.284906       -1.230860                 0.200833     benign  \n",
              "\n",
              "[398 rows x 31 columns]"
            ],
            "text/html": [
              "\n",
              "  <div id=\"df-03d08646-1c63-473c-94dc-5a22f8f9a307\">\n",
              "    <div class=\"colab-df-container\">\n",
              "      <div>\n",
              "<style scoped>\n",
              "    .dataframe tbody tr th:only-of-type {\n",
              "        vertical-align: middle;\n",
              "    }\n",
              "\n",
              "    .dataframe tbody tr th {\n",
              "        vertical-align: top;\n",
              "    }\n",
              "\n",
              "    .dataframe thead th {\n",
              "        text-align: right;\n",
              "    }\n",
              "</style>\n",
              "<table border=\"1\" class=\"dataframe\">\n",
              "  <thead>\n",
              "    <tr style=\"text-align: right;\">\n",
              "      <th></th>\n",
              "      <th>mean radius</th>\n",
              "      <th>mean texture</th>\n",
              "      <th>mean perimeter</th>\n",
              "      <th>mean area</th>\n",
              "      <th>mean smoothness</th>\n",
              "      <th>mean compactness</th>\n",
              "      <th>mean concavity</th>\n",
              "      <th>mean concave points</th>\n",
              "      <th>mean symmetry</th>\n",
              "      <th>mean fractal dimension</th>\n",
              "      <th>...</th>\n",
              "      <th>worst texture</th>\n",
              "      <th>worst perimeter</th>\n",
              "      <th>worst area</th>\n",
              "      <th>worst smoothness</th>\n",
              "      <th>worst compactness</th>\n",
              "      <th>worst concavity</th>\n",
              "      <th>worst concave points</th>\n",
              "      <th>worst symmetry</th>\n",
              "      <th>worst fractal dimension</th>\n",
              "      <th>class</th>\n",
              "    </tr>\n",
              "  </thead>\n",
              "  <tbody>\n",
              "    <tr>\n",
              "      <th>0</th>\n",
              "      <td>-0.749980</td>\n",
              "      <td>-1.099787</td>\n",
              "      <td>-0.741586</td>\n",
              "      <td>-0.701887</td>\n",
              "      <td>0.584593</td>\n",
              "      <td>-0.427726</td>\n",
              "      <td>-0.457550</td>\n",
              "      <td>-0.760550</td>\n",
              "      <td>-0.099860</td>\n",
              "      <td>0.451444</td>\n",
              "      <td>...</td>\n",
              "      <td>-0.591967</td>\n",
              "      <td>-0.746602</td>\n",
              "      <td>-0.714529</td>\n",
              "      <td>0.116328</td>\n",
              "      <td>-0.341255</td>\n",
              "      <td>-0.046272</td>\n",
              "      <td>-0.623597</td>\n",
              "      <td>0.077542</td>\n",
              "      <td>0.450628</td>\n",
              "      <td>benign</td>\n",
              "    </tr>\n",
              "    <tr>\n",
              "      <th>1</th>\n",
              "      <td>-1.028214</td>\n",
              "      <td>-0.139262</td>\n",
              "      <td>-1.029804</td>\n",
              "      <td>-0.894732</td>\n",
              "      <td>0.742882</td>\n",
              "      <td>-0.731843</td>\n",
              "      <td>-0.843301</td>\n",
              "      <td>-0.808805</td>\n",
              "      <td>-1.159759</td>\n",
              "      <td>0.489386</td>\n",
              "      <td>...</td>\n",
              "      <td>-0.161981</td>\n",
              "      <td>-1.074343</td>\n",
              "      <td>-0.868941</td>\n",
              "      <td>0.382001</td>\n",
              "      <td>-0.970737</td>\n",
              "      <td>-0.954894</td>\n",
              "      <td>-0.761238</td>\n",
              "      <td>-1.071453</td>\n",
              "      <td>-0.295414</td>\n",
              "      <td>benign</td>\n",
              "    </tr>\n",
              "    <tr>\n",
              "      <th>2</th>\n",
              "      <td>-0.538522</td>\n",
              "      <td>-0.299349</td>\n",
              "      <td>-0.568574</td>\n",
              "      <td>-0.550561</td>\n",
              "      <td>-0.714814</td>\n",
              "      <td>-0.731647</td>\n",
              "      <td>-0.639856</td>\n",
              "      <td>-0.668125</td>\n",
              "      <td>0.581758</td>\n",
              "      <td>-0.053477</td>\n",
              "      <td>...</td>\n",
              "      <td>-0.051227</td>\n",
              "      <td>-0.614110</td>\n",
              "      <td>-0.552748</td>\n",
              "      <td>-0.471637</td>\n",
              "      <td>-0.485919</td>\n",
              "      <td>-0.384602</td>\n",
              "      <td>-0.504704</td>\n",
              "      <td>0.349008</td>\n",
              "      <td>-0.133716</td>\n",
              "      <td>benign</td>\n",
              "    </tr>\n",
              "    <tr>\n",
              "      <th>3</th>\n",
              "      <td>1.147577</td>\n",
              "      <td>-0.146430</td>\n",
              "      <td>1.061698</td>\n",
              "      <td>1.035628</td>\n",
              "      <td>-0.762301</td>\n",
              "      <td>-0.380637</td>\n",
              "      <td>-0.091016</td>\n",
              "      <td>0.221141</td>\n",
              "      <td>-0.663712</td>\n",
              "      <td>-1.225303</td>\n",
              "      <td>...</td>\n",
              "      <td>0.134448</td>\n",
              "      <td>0.914190</td>\n",
              "      <td>0.863760</td>\n",
              "      <td>-0.397597</td>\n",
              "      <td>-0.057793</td>\n",
              "      <td>0.441794</td>\n",
              "      <td>0.638339</td>\n",
              "      <td>0.495789</td>\n",
              "      <td>-0.799466</td>\n",
              "      <td>malignant</td>\n",
              "    </tr>\n",
              "    <tr>\n",
              "      <th>4</th>\n",
              "      <td>-2.004538</td>\n",
              "      <td>-1.376954</td>\n",
              "      <td>-1.962370</td>\n",
              "      <td>-1.415904</td>\n",
              "      <td>1.476766</td>\n",
              "      <td>-0.557221</td>\n",
              "      <td>-1.137578</td>\n",
              "      <td>-1.263267</td>\n",
              "      <td>0.439011</td>\n",
              "      <td>2.266825</td>\n",
              "      <td>...</td>\n",
              "      <td>-0.976348</td>\n",
              "      <td>-1.665615</td>\n",
              "      <td>-1.187480</td>\n",
              "      <td>1.126757</td>\n",
              "      <td>-0.867778</td>\n",
              "      <td>-1.391304</td>\n",
              "      <td>-1.756275</td>\n",
              "      <td>0.063338</td>\n",
              "      <td>0.563260</td>\n",
              "      <td>benign</td>\n",
              "    </tr>\n",
              "    <tr>\n",
              "      <th>...</th>\n",
              "      <td>...</td>\n",
              "      <td>...</td>\n",
              "      <td>...</td>\n",
              "      <td>...</td>\n",
              "      <td>...</td>\n",
              "      <td>...</td>\n",
              "      <td>...</td>\n",
              "      <td>...</td>\n",
              "      <td>...</td>\n",
              "      <td>...</td>\n",
              "      <td>...</td>\n",
              "      <td>...</td>\n",
              "      <td>...</td>\n",
              "      <td>...</td>\n",
              "      <td>...</td>\n",
              "      <td>...</td>\n",
              "      <td>...</td>\n",
              "      <td>...</td>\n",
              "      <td>...</td>\n",
              "      <td>...</td>\n",
              "      <td>...</td>\n",
              "    </tr>\n",
              "    <tr>\n",
              "      <th>393</th>\n",
              "      <td>1.286694</td>\n",
              "      <td>0.188082</td>\n",
              "      <td>1.154672</td>\n",
              "      <td>1.202251</td>\n",
              "      <td>-0.521270</td>\n",
              "      <td>-0.887630</td>\n",
              "      <td>-0.110105</td>\n",
              "      <td>0.228545</td>\n",
              "      <td>-0.917089</td>\n",
              "      <td>-1.851347</td>\n",
              "      <td>...</td>\n",
              "      <td>-0.201071</td>\n",
              "      <td>0.617827</td>\n",
              "      <td>0.572352</td>\n",
              "      <td>-0.358400</td>\n",
              "      <td>-0.895147</td>\n",
              "      <td>-0.246265</td>\n",
              "      <td>0.216119</td>\n",
              "      <td>-0.512738</td>\n",
              "      <td>-1.469120</td>\n",
              "      <td>malignant</td>\n",
              "    </tr>\n",
              "    <tr>\n",
              "      <th>394</th>\n",
              "      <td>-0.480093</td>\n",
              "      <td>1.158165</td>\n",
              "      <td>-0.338161</td>\n",
              "      <td>-0.507950</td>\n",
              "      <td>1.591885</td>\n",
              "      <td>2.658965</td>\n",
              "      <td>1.774450</td>\n",
              "      <td>0.917898</td>\n",
              "      <td>0.795879</td>\n",
              "      <td>2.887031</td>\n",
              "      <td>...</td>\n",
              "      <td>2.466795</td>\n",
              "      <td>-0.293051</td>\n",
              "      <td>-0.306224</td>\n",
              "      <td>2.298333</td>\n",
              "      <td>5.243276</td>\n",
              "      <td>4.333890</td>\n",
              "      <td>1.612342</td>\n",
              "      <td>2.326606</td>\n",
              "      <td>6.901830</td>\n",
              "      <td>malignant</td>\n",
              "    </tr>\n",
              "    <tr>\n",
              "      <th>395</th>\n",
              "      <td>-1.321473</td>\n",
              "      <td>-0.208553</td>\n",
              "      <td>-1.314385</td>\n",
              "      <td>-1.046877</td>\n",
              "      <td>0.318380</td>\n",
              "      <td>-0.873503</td>\n",
              "      <td>-0.790390</td>\n",
              "      <td>-0.904293</td>\n",
              "      <td>-1.074111</td>\n",
              "      <td>1.013278</td>\n",
              "      <td>...</td>\n",
              "      <td>-0.083802</td>\n",
              "      <td>-0.928196</td>\n",
              "      <td>-0.761422</td>\n",
              "      <td>0.033577</td>\n",
              "      <td>-0.967479</td>\n",
              "      <td>-0.798578</td>\n",
              "      <td>-0.986219</td>\n",
              "      <td>-0.691085</td>\n",
              "      <td>-0.131485</td>\n",
              "      <td>benign</td>\n",
              "    </tr>\n",
              "    <tr>\n",
              "      <th>396</th>\n",
              "      <td>-1.242455</td>\n",
              "      <td>-0.232447</td>\n",
              "      <td>-1.277599</td>\n",
              "      <td>-1.020928</td>\n",
              "      <td>-1.940832</td>\n",
              "      <td>-1.582194</td>\n",
              "      <td>-1.137578</td>\n",
              "      <td>-1.263267</td>\n",
              "      <td>-0.549515</td>\n",
              "      <td>0.266111</td>\n",
              "      <td>...</td>\n",
              "      <td>-0.766242</td>\n",
              "      <td>-1.321603</td>\n",
              "      <td>-0.988854</td>\n",
              "      <td>-2.672370</td>\n",
              "      <td>-1.473214</td>\n",
              "      <td>-1.391304</td>\n",
              "      <td>-1.756275</td>\n",
              "      <td>-1.551253</td>\n",
              "      <td>-1.010789</td>\n",
              "      <td>benign</td>\n",
              "    </tr>\n",
              "    <tr>\n",
              "      <th>397</th>\n",
              "      <td>-0.744416</td>\n",
              "      <td>1.131882</td>\n",
              "      <td>-0.720162</td>\n",
              "      <td>-0.705711</td>\n",
              "      <td>-0.278081</td>\n",
              "      <td>-0.038849</td>\n",
              "      <td>0.287048</td>\n",
              "      <td>-0.215195</td>\n",
              "      <td>-1.495216</td>\n",
              "      <td>0.445606</td>\n",
              "      <td>...</td>\n",
              "      <td>1.893481</td>\n",
              "      <td>-0.739628</td>\n",
              "      <td>-0.703476</td>\n",
              "      <td>-0.118858</td>\n",
              "      <td>-0.010875</td>\n",
              "      <td>0.489461</td>\n",
              "      <td>-0.284906</td>\n",
              "      <td>-1.230860</td>\n",
              "      <td>0.200833</td>\n",
              "      <td>benign</td>\n",
              "    </tr>\n",
              "  </tbody>\n",
              "</table>\n",
              "<p>398 rows × 31 columns</p>\n",
              "</div>\n",
              "      <button class=\"colab-df-convert\" onclick=\"convertToInteractive('df-03d08646-1c63-473c-94dc-5a22f8f9a307')\"\n",
              "              title=\"Convert this dataframe to an interactive table.\"\n",
              "              style=\"display:none;\">\n",
              "        \n",
              "  <svg xmlns=\"http://www.w3.org/2000/svg\" height=\"24px\"viewBox=\"0 0 24 24\"\n",
              "       width=\"24px\">\n",
              "    <path d=\"M0 0h24v24H0V0z\" fill=\"none\"/>\n",
              "    <path d=\"M18.56 5.44l.94 2.06.94-2.06 2.06-.94-2.06-.94-.94-2.06-.94 2.06-2.06.94zm-11 1L8.5 8.5l.94-2.06 2.06-.94-2.06-.94L8.5 2.5l-.94 2.06-2.06.94zm10 10l.94 2.06.94-2.06 2.06-.94-2.06-.94-.94-2.06-.94 2.06-2.06.94z\"/><path d=\"M17.41 7.96l-1.37-1.37c-.4-.4-.92-.59-1.43-.59-.52 0-1.04.2-1.43.59L10.3 9.45l-7.72 7.72c-.78.78-.78 2.05 0 2.83L4 21.41c.39.39.9.59 1.41.59.51 0 1.02-.2 1.41-.59l7.78-7.78 2.81-2.81c.8-.78.8-2.07 0-2.86zM5.41 20L4 18.59l7.72-7.72 1.47 1.35L5.41 20z\"/>\n",
              "  </svg>\n",
              "      </button>\n",
              "      \n",
              "  <style>\n",
              "    .colab-df-container {\n",
              "      display:flex;\n",
              "      flex-wrap:wrap;\n",
              "      gap: 12px;\n",
              "    }\n",
              "\n",
              "    .colab-df-convert {\n",
              "      background-color: #E8F0FE;\n",
              "      border: none;\n",
              "      border-radius: 50%;\n",
              "      cursor: pointer;\n",
              "      display: none;\n",
              "      fill: #1967D2;\n",
              "      height: 32px;\n",
              "      padding: 0 0 0 0;\n",
              "      width: 32px;\n",
              "    }\n",
              "\n",
              "    .colab-df-convert:hover {\n",
              "      background-color: #E2EBFA;\n",
              "      box-shadow: 0px 1px 2px rgba(60, 64, 67, 0.3), 0px 1px 3px 1px rgba(60, 64, 67, 0.15);\n",
              "      fill: #174EA6;\n",
              "    }\n",
              "\n",
              "    [theme=dark] .colab-df-convert {\n",
              "      background-color: #3B4455;\n",
              "      fill: #D2E3FC;\n",
              "    }\n",
              "\n",
              "    [theme=dark] .colab-df-convert:hover {\n",
              "      background-color: #434B5C;\n",
              "      box-shadow: 0px 1px 3px 1px rgba(0, 0, 0, 0.15);\n",
              "      filter: drop-shadow(0px 1px 2px rgba(0, 0, 0, 0.3));\n",
              "      fill: #FFFFFF;\n",
              "    }\n",
              "  </style>\n",
              "\n",
              "      <script>\n",
              "        const buttonEl =\n",
              "          document.querySelector('#df-03d08646-1c63-473c-94dc-5a22f8f9a307 button.colab-df-convert');\n",
              "        buttonEl.style.display =\n",
              "          google.colab.kernel.accessAllowed ? 'block' : 'none';\n",
              "\n",
              "        async function convertToInteractive(key) {\n",
              "          const element = document.querySelector('#df-03d08646-1c63-473c-94dc-5a22f8f9a307');\n",
              "          const dataTable =\n",
              "            await google.colab.kernel.invokeFunction('convertToInteractive',\n",
              "                                                     [key], {});\n",
              "          if (!dataTable) return;\n",
              "\n",
              "          const docLinkHtml = 'Like what you see? Visit the ' +\n",
              "            '<a target=\"_blank\" href=https://colab.research.google.com/notebooks/data_table.ipynb>data table notebook</a>'\n",
              "            + ' to learn more about interactive tables.';\n",
              "          element.innerHTML = '';\n",
              "          dataTable['output_type'] = 'display_data';\n",
              "          await google.colab.output.renderOutput(dataTable, element);\n",
              "          const docLink = document.createElement('div');\n",
              "          docLink.innerHTML = docLinkHtml;\n",
              "          element.appendChild(docLink);\n",
              "        }\n",
              "      </script>\n",
              "    </div>\n",
              "  </div>\n",
              "  "
            ]
          },
          "metadata": {},
          "execution_count": 10
        }
      ]
    },
    {
      "cell_type": "code",
      "source": [
        "#plot the normalized training set with features 'worst smoothness' and 'worst fractal dimension'\n",
        "import seaborn as sns;sns.set_theme(color_codes=True)\n",
        "g = sns.lmplot(x=\"worst smoothness\", y=\"worst fractal dimension\", hue=\"class\", data=df_training_nor, palette=\"Set1\")"
      ],
      "metadata": {
        "colab": {
          "base_uri": "https://localhost:8080/",
          "height": 365
        },
        "id": "pVEmh3Gj__mm",
        "outputId": "f795c248-cac8-4d56-e3a1-47552c918b2a"
      },
      "execution_count": 11,
      "outputs": [
        {
          "output_type": "display_data",
          "data": {
            "text/plain": [
              "<Figure size 455.475x360 with 1 Axes>"
            ],
            "image/png": "[encoded data removed]"
          },
          "metadata": {}
        }
      ]
    },
    {
      "cell_type": "markdown",
      "source": [
        "The scale of these two features is different. Before normalization, the scale is 0.05 to 0.2 and 0.075 to 0.225 for worst fractal dimension and worst smoothness,respectively. After normalization, the scale changed to -2 to 6 and -3 to 4 for worst fractal dimension and worst smoothness, respectively. Besides, the mean of data in each features after normalization is 0, which indicates consistency.\n",
        "\n",
        "Since normalization won't change the original information of the data such as the distribution, the overall shape won't change too much. Hence they look similar.\n",
        "\n",
        "The advantage of normalization is eliminating redundant data, imporving the overall organization and making the data consistent.\n"
      ],
      "metadata": {
        "id": "nF2BvtQlFLMT"
      }
    },
    {
      "cell_type": "markdown",
      "metadata": {
        "id": "aBmo0-W1yZFs"
      },
      "source": [
        "## Part 2: KNN Classifier without Standardization [2 Marks]\n",
        "Normally, standardizing data is a key step in preparing data for a KNN classifier. However, for educational purposes, let's first try to build a model without standardization. Let's create a KNN classifier to predict whether a patient has a malignant or benign tumor. \n",
        "\n",
        "Follow these steps: \n",
        "\n",
        "1.   Train a KNN Classifier using cross-validation on the dataset. Sweep `k` (number of neighbours) from 1 to 100, and show a plot of the mean cross-validation accuracy vs `k`. **[1]**\n",
        "2.   What is the best `k`? What is the highest cross-validation accuracy? **[0.5]**\n",
        "3. Comment on  which ranges of `k` lead to underfitted or overfitted models (hint: compare training and validation curves!). **[0.5]**\n",
        "\n",
        "\n"
      ]
    },
    {
      "cell_type": "code",
      "metadata": {
        "id": "cyEV-mVSAMaV"
      },
      "source": [
        "### YOUR CODE HERE ###\n",
        "from sklearn import neighbors\n",
        "from sklearn.model_selection import cross_validate\n",
        "import matplotlib.pyplot as plt\n",
        "\n",
        "mean_cv_accuracy = []\n",
        "mean_val_accuracy = []\n",
        "k = []\n",
        "\n",
        "\n",
        "for i in range(1,101):\n",
        "  knn = neighbors.KNeighborsClassifier(n_neighbors=i)\n",
        "  scores = cross_validate(knn, X_train,y_train, cv=5,return_train_score=True)\n",
        "  mean_cv_accuracy.append(scores['train_score'].mean())\n",
        "  mean_val_accuracy.append(scores['test_score'].mean())\n",
        "\n",
        "  k.append(i)"
      ],
      "execution_count": 12,
      "outputs": []
    },
    {
      "cell_type": "code",
      "source": [
        "# mean cross-validation accuracy curve\n",
        "plt.plot(k, mean_val_accuracy)\n",
        "plt.xlabel(\"k neighbours\")\n",
        "plt.ylabel(\"accuracy\")\n",
        "plt.show()"
      ],
      "metadata": {
        "colab": {
          "base_uri": "https://localhost:8080/",
          "height": 285
        },
        "id": "1KbJnxI2vrr7",
        "outputId": "15856975-7cc5-43cc-9fa6-f9ce743fe40c"
      },
      "execution_count": 13,
      "outputs": [
        {
          "output_type": "display_data",
          "data": {
            "text/plain": [
              "<Figure size 432x288 with 1 Axes>"
            ],
            "image/png": "[encoded data removed]"
          },
          "metadata": {}
        }
      ]
    },
    {
      "cell_type": "code",
      "source": [
        "# find the best k and its accuracy\n",
        "k_accuarcy_dic = {}\n",
        "for i in range(100):\n",
        "  k_accuarcy_dic[str(k[i])] = mean_val_accuracy[i]\n",
        "max_k = max(k_accuarcy_dic, key = k_accuarcy_dic.get)\n",
        "print(max_k, k_accuarcy_dic[max_k])"
      ],
      "metadata": {
        "colab": {
          "base_uri": "https://localhost:8080/"
        },
        "id": "e-JZLGLBuO5H",
        "outputId": "d2313e92-1d7d-4baa-dcd4-b430f0ce0a5b"
      },
      "execution_count": 14,
      "outputs": [
        {
          "output_type": "stream",
          "name": "stdout",
          "text": [
            "10 0.9346518987341772\n"
          ]
        }
      ]
    },
    {
      "cell_type": "markdown",
      "source": [
        "Q2. The best k is 10 and its mean cross-validation accuracy is 93.47%.\n",
        "\n",
        "\n"
      ],
      "metadata": {
        "id": "RPpEo5oW4YCJ"
      }
    },
    {
      "cell_type": "code",
      "source": [
        "plt.plot(k, mean_cv_accuracy, label=\"Training curve \")\n",
        "plt.plot(k, mean_val_accuracy, label=\"Validation curve\")\n",
        "plt.legend(loc=\"best\")\n",
        "plt.xlabel(\"k neighbours\")\n",
        "plt.ylabel(\"accuracy\")\n",
        "plt.show()"
      ],
      "metadata": {
        "colab": {
          "base_uri": "https://localhost:8080/",
          "height": 285
        },
        "id": "MRR9T4WNz-yl",
        "outputId": "292f9acc-598e-4fda-a13b-90bdadecafc9"
      },
      "execution_count": null,
      "outputs": [
        {
          "output_type": "display_data",
          "data": {
            "text/plain": [
              "<Figure size 432x288 with 1 Axes>"
            ],
            "image/png": "[encoded data removed]"
          },
          "metadata": {}
        }
      ]
    },
    {
      "cell_type": "markdown",
      "source": [
        "Q3. Compared to training and validation curves, we could observe that the accuracy of training curve is higher than validation curve accuracy before k = 37. Hence we may conclude that the model is overfitting in the range of (1,37).\n",
        "\n",
        "Also, we could observe that after k = 37, the accuracy of training and validation is not that high, besides we could oberserve that the validation curve is sometimes higher than training curve. Therefore, we may conclude that the model is underfitting in the range (38,100) of k."
      ],
      "metadata": {
        "id": "BfXyWLbLxhWx"
      }
    },
    {
      "cell_type": "markdown",
      "metadata": {
        "id": "VCyFm5S3srCO"
      },
      "source": [
        "## Part 3: Feature Selection [3 Marks]\n",
        "In this part, we aim to investigate the importance of each feature on the final classification accuracy. \n",
        "If we want to try every possible combination of features, we would have to test  $2^F$ different cases,  where F is the number of features, and in each case, we have to do a hyperparameter search (finding K, in KNN using cross-validation). That will take days!. \n",
        "\n",
        "To find more important features we will use a decision tree. based on a decision tree we can compute feature importance that is a metric for our feature selection (code is provided below).\n",
        "\n",
        "You can use [this link](https://machinelearningmastery.com/calculate-feature-importance-with-python/\n",
        ") to get familiar with extracting the feature impotance order of machine learning algorithms in Python.\n",
        "\n",
        "After we identified and removed the least important feature and evaluated a new KNN model on the new set of features, if the stop conditions (see step 7 below) are not met, we need to repeat the process and remove another feature.\n",
        "\n",
        "\n",
        "Design a function ( `Feature_selector`) that accepts your dataset (X_train , y_train) and a threshold as inputs and: **[1]**\n",
        "1. Fits a decision tree classifier on the training set.\n",
        "\n",
        "2. Extracts the feature importance order of the decision tree model.\n",
        "\n",
        "3. Removes the least important feature based on step 2. \n",
        "4. Then, a KNN model is trained on the remaining features. The number of neighbors (`k`) for each KNN model should be tuned using a 5-fold cross-validation.\n",
        "5. Store the best `mean cross-validation` score and the corresponding `k` (number of neighbours) value in two lists.\n",
        "6. Go back to step 3 and follow all the steps until you meet the stop condition (step 7). \n",
        " \n",
        "7. We will stop this process when (1) there is only one feature left, or (2) our cross-validation accuracy is dropped significantly compared to a model that uses all the features. In this function, we accept a threshold as an input argument. For example, if threshold=0.95 we do not continue removing features if our mean cross-validation accuracy after tuning `k` is bellow **0.95 $\\times$ Full Feature cross-validation accuracy**.\n",
        "\n",
        "8. Your function returns the list of removed features, and the corresponding mean cross-validation accuracy and `k` value when a feature was removed.\n",
        "\n",
        "* Visualize your results by plotting the mean cross-validation accuracy (with a tuned `k` on y axis) vs. the on the number of features (x axis). This plot describes: what is the best cv score with 1 feature, 2 features, 3 features ... and all the features. **[0.5]**\n",
        "\n",
        "* Plot the best value of `k` (y-axis) vs. the number of features. This plot explains the trend of number of neighbours with respect to the number of features.  **[0.5]**\n",
        "\n",
        "* State what is the number of essential features for classification and justify your answer. **[1]**\n",
        "  \n",
        "  \n",
        "\n",
        "\n",
        "\n",
        "\n",
        "\n",
        "\n",
        "\n",
        " "
      ]
    },
    {
      "cell_type": "markdown",
      "metadata": {
        "id": "LPcG6_UIdAaT"
      },
      "source": [
        "You can use the following piece of code to start training a decision tree classifier and obtain its feature importance order. \n",
        "```\n",
        "from sklearn import tree\n",
        "dt = tree.DecisionTreeClassifier()\n",
        "dt.fit(X_train,y_train)\n",
        "importance = dt.feature_importances_\n",
        "```\n"
      ]
    },
    {
      "cell_type": "code",
      "metadata": {
        "id": "oiFUWWnE0QVc"
      },
      "source": [
        "from pandas.core.ops.mask_ops import kleene_and\n",
        "from sklearn import tree\n",
        "from sklearn.tree import DecisionTreeClassifier\n",
        "\n",
        "def best_k_cv(X_train, y_train):\n",
        "  # store k and mean cross-validation score of the adjust dataframe(k:1-100)\n",
        "  mean_val_accuracy1 = []\n",
        "  k1 = []\n",
        "\n",
        "  for i in range(1,101):\n",
        "    knn = neighbors.KNeighborsClassifier(n_neighbors=i)\n",
        "    scores = cross_validate(knn, X_train,y_train, cv=5,return_train_score=True)\n",
        "    mean_val_accuracy1.append(scores['test_score'].mean())\n",
        "\n",
        "    k1.append(i)\n",
        "\n",
        "  # find and store the best k and cross-validation score in the list\n",
        "  k_accuarcy_dic = {}\n",
        "  for i in range(100):\n",
        "    k_accuarcy_dic[str(k1[i])] = mean_val_accuracy1[i]\n",
        "  max_k = max(k_accuarcy_dic, key = k_accuarcy_dic.get)\n",
        "\n",
        "  best_k = []\n",
        "  best_mean_cv_score = []\n",
        "  best_k.append(max_k)\n",
        "  best_mean_cv_score.append(k_accuarcy_dic[max_k])\n",
        "\n",
        "  # return 2 lists\n",
        "  return best_k, best_mean_cv_score\n",
        "\n",
        "\n",
        "def step_3(X_train , y_train, removed_features):\n",
        "  feature_importance = {}\n",
        "  model = DecisionTreeClassifier(max_depth=15)\n",
        "  # Fit the model to our training data\n",
        "  model.fit(X_train, y_train)\n",
        "\n",
        "  # extract the importance order\n",
        "  importance = model.feature_importances_\n",
        "\n",
        "  # put corresponding features and feature importance into a dictionary\n",
        "  for i in range(len(importance)):\n",
        "    feature_importance[(list(X_train.columns))[i]] = importance[i]\n",
        "  \n",
        "  #remove the least important features from dataset\n",
        "  min_feature = min(feature_importance, key = feature_importance.get)\n",
        "  X_train.drop(columns=[min_feature], inplace = True)\n",
        "  \n",
        "  removed_features.append(min_feature)\n",
        "\n",
        "  return X_train, y_train, removed_features\n",
        "\n",
        "\n",
        "def Feature_selector(X_train , y_train , tr=0.95):\n",
        "  best_k = []\n",
        "  best_cv = []\n",
        "  #full feature best k and best cross-validation accuracy\n",
        "  full_feature_k, full_feature_cv = best_k_cv(X_train, y_train)\n",
        "\n",
        "  #step3\n",
        "  new_X_train, new_y_train, first_removed_features = step_3(X_train, y_train,[])\n",
        "\n",
        "  #tuned dataframe best k and best cross-validation accuracy\n",
        "  tune_feature_k, tune_feature_cv = best_k_cv(new_X_train, new_y_train)\n",
        "  best_k.append(tune_feature_k[0])\n",
        "  best_cv.append(tune_feature_cv[0])\n",
        "\n",
        "  while new_X_train.shape[1] != 1 and tune_feature_cv[0] >= full_feature_cv[0] * tr:\n",
        "    new_X_train, new_y_train, first_removed_features = step_3(new_X_train, new_y_train, first_removed_features)\n",
        "    tune_feature_k, tune_feature_cv = best_k_cv(new_X_train, new_y_train)\n",
        "    best_k.append(tune_feature_k[0])\n",
        "    best_cv.append(tune_feature_cv[0])\n",
        "\n",
        "  return first_removed_features,best_cv,best_k"
      ],
      "execution_count": null,
      "outputs": []
    },
    {
      "cell_type": "code",
      "source": [
        "X_train,X_test, y_train, y_test= train_test_split(feature_data, target_data, test_size=0.3, random_state=0)\n",
        "X_train = pd.DataFrame(data = X_train, columns= dataset.feature_names)\n",
        "\n",
        "removed_features, best_cv, best_k = Feature_selector(X_train , y_train , tr=0.95)\n"
      ],
      "metadata": {
        "id": "uGw5Ne4tQyS-"
      },
      "execution_count": null,
      "outputs": []
    },
    {
      "cell_type": "code",
      "source": [
        "removed_features"
      ],
      "metadata": {
        "colab": {
          "base_uri": "https://localhost:8080/"
        },
        "id": "tO-oFKMK8MHa",
        "outputId": "6628f45a-7bf3-4faa-8288-ff0d79648872"
      },
      "execution_count": null,
      "outputs": [
        {
          "output_type": "execute_result",
          "data": {
            "text/plain": [
              "['mean radius',\n",
              " 'mean texture',\n",
              " 'mean perimeter',\n",
              " 'mean area',\n",
              " 'mean smoothness',\n",
              " 'mean compactness',\n",
              " 'mean concavity',\n",
              " 'mean concave points',\n",
              " 'mean fractal dimension',\n",
              " 'texture error',\n",
              " 'perimeter error',\n",
              " 'compactness error',\n",
              " 'smoothness error',\n",
              " 'concavity error',\n",
              " 'symmetry error',\n",
              " 'concave points error',\n",
              " 'worst area',\n",
              " 'worst smoothness',\n",
              " 'worst perimeter',\n",
              " 'worst compactness',\n",
              " 'fractal dimension error',\n",
              " 'worst fractal dimension',\n",
              " 'radius error',\n",
              " 'mean symmetry',\n",
              " 'worst texture',\n",
              " 'worst concavity',\n",
              " 'worst symmetry',\n",
              " 'area error',\n",
              " 'worst radius']"
            ]
          },
          "metadata": {},
          "execution_count": 26
        }
      ]
    },
    {
      "cell_type": "code",
      "source": [
        "best_cv"
      ],
      "metadata": {
        "colab": {
          "base_uri": "https://localhost:8080/"
        },
        "id": "Fo69cUTJ8khf",
        "outputId": "0982c05b-4df9-4970-b70c-2b94f213c261"
      },
      "execution_count": null,
      "outputs": [
        {
          "output_type": "execute_result",
          "data": {
            "text/plain": [
              "[0.9346518987341772,\n",
              " 0.9346518987341772,\n",
              " 0.9321518987341773,\n",
              " 0.9145886075949367,\n",
              " 0.9145886075949367,\n",
              " 0.9145886075949367,\n",
              " 0.9145886075949367,\n",
              " 0.9145886075949367,\n",
              " 0.9145886075949367,\n",
              " 0.9145886075949367,\n",
              " 0.9145886075949367,\n",
              " 0.9145886075949367,\n",
              " 0.9145886075949367,\n",
              " 0.9145886075949367,\n",
              " 0.9145886075949367,\n",
              " 0.9145886075949367,\n",
              " 0.9296835443037974,\n",
              " 0.9296835443037974,\n",
              " 0.904493670886076,\n",
              " 0.9020569620253165,\n",
              " 0.9020569620253165,\n",
              " 0.9020569620253165,\n",
              " 0.9020569620253165,\n",
              " 0.9020569620253165,\n",
              " 0.9094620253164557,\n",
              " 0.8993670886075948,\n",
              " 0.8993670886075948,\n",
              " 0.9120569620253164,\n",
              " 0.9246202531645569]"
            ]
          },
          "metadata": {},
          "execution_count": 27
        }
      ]
    },
    {
      "cell_type": "code",
      "source": [
        "list(map(int, best_k))"
      ],
      "metadata": {
        "colab": {
          "base_uri": "https://localhost:8080/"
        },
        "id": "1v1rCltr8mvj",
        "outputId": "7fe1e1d5-0c28-4cd9-e1a4-275d40fafd06"
      },
      "execution_count": null,
      "outputs": [
        {
          "output_type": "execute_result",
          "data": {
            "text/plain": [
              "[10,\n",
              " 10,\n",
              " 7,\n",
              " 34,\n",
              " 34,\n",
              " 34,\n",
              " 34,\n",
              " 34,\n",
              " 34,\n",
              " 34,\n",
              " 34,\n",
              " 34,\n",
              " 34,\n",
              " 34,\n",
              " 34,\n",
              " 34,\n",
              " 20,\n",
              " 20,\n",
              " 1,\n",
              " 5,\n",
              " 5,\n",
              " 5,\n",
              " 5,\n",
              " 5,\n",
              " 3,\n",
              " 3,\n",
              " 3,\n",
              " 38,\n",
              " 34]"
            ]
          },
          "metadata": {},
          "execution_count": 28
        }
      ]
    },
    {
      "cell_type": "code",
      "source": [
        "plt.plot(best_cv[::-1])\n",
        "plt.xlabel(\"number of features\")\n",
        "plt.ylabel(\"accuracy\")"
      ],
      "metadata": {
        "colab": {
          "base_uri": "https://localhost:8080/",
          "height": 302
        },
        "id": "uY-C3xyQy62d",
        "outputId": "e4d27b0f-b145-4733-aeb7-6716bbf6c8e5"
      },
      "execution_count": null,
      "outputs": [
        {
          "output_type": "execute_result",
          "data": {
            "text/plain": [
              "Text(0, 0.5, 'accuracy')"
            ]
          },
          "metadata": {},
          "execution_count": 29
        },
        {
          "output_type": "display_data",
          "data": {
            "text/plain": [
              "<Figure size 432x288 with 1 Axes>"
            ],
            "image/png": "[encoded data removed]"
          },
          "metadata": {}
        }
      ]
    },
    {
      "cell_type": "code",
      "source": [
        "plt.plot(list(map(int, best_k))[::-1])\n",
        "plt.xlabel(\"number of features\")\n",
        "plt.ylabel(\"k neighbours\")"
      ],
      "metadata": {
        "colab": {
          "base_uri": "https://localhost:8080/",
          "height": 302
        },
        "id": "FQmTwoM76ozc",
        "outputId": "63ebd5df-1bc4-4bfe-fc9f-6469be466d2a"
      },
      "execution_count": null,
      "outputs": [
        {
          "output_type": "execute_result",
          "data": {
            "text/plain": [
              "Text(0, 0.5, 'k neighbours')"
            ]
          },
          "metadata": {},
          "execution_count": 31
        },
        {
          "output_type": "display_data",
          "data": {
            "text/plain": [
              "<Figure size 432x288 with 1 Axes>"
            ],
            "image/png": "[encoded data removed]"
          },
          "metadata": {}
        }
      ]
    },
    {
      "cell_type": "code",
      "source": [
        "plt.plot(best_cv)\n",
        "plt.xlabel(\"number of removed features\")\n",
        "plt.ylabel(\"accuracy\")"
      ],
      "metadata": {
        "colab": {
          "base_uri": "https://localhost:8080/",
          "height": 302
        },
        "id": "zxRuE4PzlI0f",
        "outputId": "41729a8b-a12d-41d5-c84f-81cf7b318dd0"
      },
      "execution_count": null,
      "outputs": [
        {
          "output_type": "execute_result",
          "data": {
            "text/plain": [
              "Text(0, 0.5, 'accuracy')"
            ]
          },
          "metadata": {},
          "execution_count": 32
        },
        {
          "output_type": "display_data",
          "data": {
            "text/plain": [
              "<Figure size 432x288 with 1 Axes>"
            ],
            "image/png": "[encoded data removed]"
          },
          "metadata": {}
        }
      ]
    },
    {
      "cell_type": "markdown",
      "source": [
        "The essential number of feature is 27, since the accuracy of cross-validation have a dramtic decrease at the third number of features, which means the essential number of feature is 27 for classification."
      ],
      "metadata": {
        "id": "dXyrpo76Tru4"
      }
    },
    {
      "cell_type": "markdown",
      "metadata": {
        "id": "GTXjb1sWmDZL"
      },
      "source": [
        "## Part 4: Standardization [1 Marks]\n",
        "\n",
        "Standardizing the data usually means scaling our data to have a mean of zero and a standard deviation of one. \n",
        "\n",
        "**Note:** When we standardize a dataset, do we care if the data points are in our training set or test set? Yes! The training set is available for us to train a model - we can use it however we want. The test set, however, represents a subset of data that is not available for us during training. For example, the test set can represent the data that someone who bought our model would use to see how the model performs (which they are not willing to share with us).\n",
        "Therefore, we cannot compute the mean or standard deviation of the whole dataset to standardize it - we can only calculate the mean and standard deviation of the training set. However, when we sell a model to someone, we can say what our scalers (mean and standard deviation of our training set) was. They can scale their data (test set) with our training set's mean and standard deviation. Of course, there is no guarantee that the test set would have a mean of zero and a standard deviation of one, but it should work fine.\n",
        "\n",
        "**To summarize: We fit the StandardScaler only on the training set. We transform both training and test sets with that scaler.**\n",
        "\n",
        "1. Standardize the training  and test data ([Help](https://scikit-learn.org/stable/modules/preprocessing.html)) \n",
        "\n",
        "2. Call your ``Feature_selector`` function on the standardized training data with a threshold of 95\\%. \n",
        " * Plot the Cross validation accuracy when we have the standardized data (this part) and the original training data (last part) vs. the Number of features in a single plot (to compare them easily).\n",
        "\n",
        "3. Discuss how standardization (helped/hurt) your model and its performance? Discuss which cases lead to a higher cross validation accuracy (how many features? which features? What K?)\n"
      ]
    },
    {
      "cell_type": "code",
      "metadata": {
        "id": "xAwAGR6_2bu3"
      },
      "source": [
        "from sklearn.preprocessing import StandardScaler\n",
        "\n",
        "scaler.fit(X_test)\n",
        "X_test_norm = scaler.transform(X_test)"
      ],
      "execution_count": 15,
      "outputs": []
    },
    {
      "cell_type": "code",
      "source": [
        "X_norm = pd.DataFrame(data = X_norm, columns= dataset.feature_names)\n",
        "\n",
        "removed_features_nor, best_cv_nor, best_k_nor = Feature_selector(X_norm , y_train , tr=0.95)"
      ],
      "metadata": {
        "id": "kjDPjhm0QDiD"
      },
      "execution_count": null,
      "outputs": []
    },
    {
      "cell_type": "code",
      "source": [
        "plt.plot(best_cv[::-1], label=\"original training data\")\n",
        "plt.plot(best_cv_nor[::-1], label=\"standardized training data\")\n",
        "plt.legend(loc=\"best\")\n",
        "plt.xlabel(\"number of features\")\n",
        "plt.ylabel(\"cross-validation accuracy\")\n",
        "plt.show()"
      ],
      "metadata": {
        "colab": {
          "base_uri": "https://localhost:8080/",
          "height": 285
        },
        "id": "DEor0-h2Rmqs",
        "outputId": "3ca1dc9c-6060-4b76-e274-82f762a7be14"
      },
      "execution_count": null,
      "outputs": [
        {
          "output_type": "display_data",
          "data": {
            "text/plain": [
              "<Figure size 432x288 with 1 Axes>"
            ],
            "image/png": "[encoded data removed]"
          },
          "metadata": {}
        }
      ]
    },
    {
      "cell_type": "code",
      "source": [
        "plt.plot(list(map(int, best_k))[::-1], label=\"original training data\")\n",
        "plt.plot(list(map(int, best_k_nor))[::-1], label=\"standardized training data\")\n",
        "plt.legend(loc=\"best\")\n",
        "plt.xlabel(\"number of features\")\n",
        "plt.ylabel(\"k neighbours\")\n",
        "plt.show()"
      ],
      "metadata": {
        "colab": {
          "base_uri": "https://localhost:8080/",
          "height": 285
        },
        "id": "BWLUO2pXW89q",
        "outputId": "c26ef9f0-e840-4cb9-a55c-390cf941edcc"
      },
      "execution_count": null,
      "outputs": [
        {
          "output_type": "display_data",
          "data": {
            "text/plain": [
              "<Figure size 432x288 with 1 Axes>"
            ],
            "image/png": "[encoded data removed]"
          },
          "metadata": {}
        }
      ]
    },
    {
      "cell_type": "markdown",
      "source": [
        "\n",
        "The mean of data in each features after normalization is 0 and the standard deviation is 1, which indicates consistency. Furthermore, normalization is elminating redundant data, improving the overall organization and making the data consistent. \n",
        "\n",
        "Therefore, the standardized training data has a higher cross validation accuracy about all number of features. \n",
        "\n",
        "From the k-neighbours vs number of features plot, we could observe that when 'mean radius','mean texture', 'mean perimeter', 'mean area', 'mean smoothness', 'mean compactness', 'mean concavity', 'mean concave points', 'mean fractal dimension', 'texture error' and 'perimeter error' in total 11 features were removed, the standardized training data has a greater k than original data(i.e from 6 to 81). \n"
      ],
      "metadata": {
        "id": "M1GarbOJU4am"
      }
    },
    {
      "cell_type": "markdown",
      "source": [
        "## Part 5: Decision Tree Classifier [1.5 Mark]\n",
        "\n",
        "Train a decision tree classifier on the standardized dataset (read the [documentation](https://scikit-learn.org/stable/modules/generated/sklearn.tree.DecisionTreeClassifier.html) and check the example there.) Tune the `max_depth` and `min_samples_split` parameters of the tree using cross-validation (CV).\n",
        " * Compare the decision tree's performance (mean CV score) with KNN, both using all the features. \n"
      ],
      "metadata": {
        "id": "HdmuHF4kGH5M"
      }
    },
    {
      "cell_type": "code",
      "source": [
        "### YOUR CODE HERE ###\n",
        "from pandas.core.ops.mask_ops import kleene_and\n",
        "from sklearn import tree\n",
        "from sklearn.model_selection import cross_val_score\n",
        "from sklearn.tree import DecisionTreeClassifier\n",
        "\n",
        "dt_mean_cv_score = []\n",
        "for i in range(1,20):\n",
        "  for k in range(2,20):\n",
        "    model = DecisionTreeClassifier(max_depth = i, min_samples_split = k)\n",
        "    scores_dt = cross_validate(model, X_norm,y_train, cv=5,return_train_score=True)\n",
        "    dt_mean_cv_score.append(scores_dt['test_score'].mean())\n",
        "max(dt_mean_cv_score)\n",
        "  "
      ],
      "metadata": {
        "id": "laYRhTK4Kytl",
        "colab": {
          "base_uri": "https://localhost:8080/"
        },
        "outputId": "07ab0756-ea2d-44f5-9363-9efefdc63ce0"
      },
      "execution_count": null,
      "outputs": [
        {
          "output_type": "execute_result",
          "data": {
            "text/plain": [
              "0.916993670886076"
            ]
          },
          "metadata": {},
          "execution_count": 38
        }
      ]
    },
    {
      "cell_type": "code",
      "source": [
        "mean_val_accuracy2 = []\n",
        "k2 = []\n",
        "\n",
        "\n",
        "for i in range(1,101):\n",
        "  knn = neighbors.KNeighborsClassifier(n_neighbors=i)\n",
        "  scores = cross_validate(knn, X_norm,y_train, cv=5,return_train_score=True)\n",
        "  mean_val_accuracy2.append(scores['test_score'].mean())\n",
        "\n",
        "  k2.append(i)\n",
        "\n",
        "# find the best k and its accuracy\n",
        "k_accuarcy_dic2 = {}\n",
        "for i in range(100):\n",
        "  k_accuarcy_dic2[str(k2[i])] = mean_val_accuracy2[i]\n",
        "max_k2 = max(k_accuarcy_dic2, key = k_accuarcy_dic2.get)\n",
        "\n",
        "print(max_k2, k_accuarcy_dic2[max_k2])\n"
      ],
      "metadata": {
        "colab": {
          "base_uri": "https://localhost:8080/"
        },
        "id": "9mNKOOD_rFBY",
        "outputId": "f97b58e0-1eba-44e9-88ab-7b596c1cd39c"
      },
      "execution_count": null,
      "outputs": [
        {
          "output_type": "stream",
          "name": "stdout",
          "text": [
            "10 0.9674367088607594\n"
          ]
        }
      ]
    },
    {
      "cell_type": "markdown",
      "source": [
        "The decision tree's performance(mean CV score) on standardized data is 91.6994% accuracy and with knn is 96.7437% accuracy. Compared these two data, the decision tree with knn has a higher accuracy.\n",
        "\n",
        "\n"
      ],
      "metadata": {
        "id": "yQ7bYkzUwWHG"
      }
    },
    {
      "cell_type": "markdown",
      "metadata": {
        "id": "k7QjKjHn2TZR"
      },
      "source": [
        "## Part 6: Test Data [0.5 Mark]\n",
        "\n",
        "Now that you've created several models, pick your best one (highest CV accuracy) and apply it to the test dataset you had initially set aside. Discuss your results."
      ]
    },
    {
      "cell_type": "code",
      "metadata": {
        "id": "acdJ7EijBYqB",
        "colab": {
          "base_uri": "https://localhost:8080/"
        },
        "outputId": "2e627ba6-8ca9-4f31-e4a4-8f6f0c3d8f82"
      },
      "source": [
        "### YOUR CODE HERE ###\n",
        "\n",
        "knn = neighbors.KNeighborsClassifier(n_neighbors=10)\n",
        "\n",
        "# Fit the model to our training data\n",
        "knn.fit(X_norm, y_train)\n",
        "\n",
        "# Make predictions\n",
        "test_predicted = knn.predict(X_test_norm)\n",
        "score = 100*(1-sum(abs(test_predicted-y_test))/len(test_predicted))\n",
        "print(\"KNN accuracy:\", score)"
      ],
      "execution_count": 18,
      "outputs": [
        {
          "output_type": "stream",
          "name": "stdout",
          "text": [
            "KNN accuracy: 95.90643274853801\n"
          ]
        }
      ]
    },
    {
      "cell_type": "code",
      "source": [
        "# obtain survival predictions on all training data\n",
        "train_predicted = knn.predict(X_norm)\n",
        "\n",
        "# obtain a percentage score of performance on all training data\n",
        "score = 100*(1-sum(abs(train_predicted-y_train))/len(train_predicted))\n",
        "print('Training data performance', score, '% correctly predicted')"
      ],
      "metadata": {
        "colab": {
          "base_uri": "https://localhost:8080/"
        },
        "id": "tHlLchTn1PiI",
        "outputId": "05cccf91-b67b-4ae0-d451-dfc44f45d1f7"
      },
      "execution_count": 19,
      "outputs": [
        {
          "output_type": "stream",
          "name": "stdout",
          "text": [
            "Training data performance 96.73366834170855 % correctly predicted\n"
          ]
        }
      ]
    },
    {
      "cell_type": "markdown",
      "source": [
        "Upon all the trained models, we found the knn model with k = 10 on standardized data has the highest CV accuracy. Hence we use that model to test our dataset.\n",
        "\n",
        "After fitting the model, the KNN accuracy of test model is 95.9064% correctly predicted and the accuracy of training model is 96.7337% correctly predicted. \n",
        "\n",
        "The prediction achieved better performance on the training data than the training data since we keep training our model on training dataset. But the accuracy for the testing data also good. Therefore, we may apply that model to other dataset for prediction.\n",
        "\n",
        "(although the instruction mentioned we need to use the initially set aside data to make prediction, since our model with the highest accuracy is knn on standardized model, in this case I will choose the standardized testing data to test our acccuracy.)"
      ],
      "metadata": {
        "id": "luH5FO360Ypv"
      }
    },
    {
      "cell_type": "markdown",
      "metadata": {
        "id": "yhCf82AOe3IS"
      },
      "source": [
        "References:\n",
        "\n",
        "https://towardsdatascience.com/decision-trees-in-machine-learning-641b9c4e8052\n",
        "\n",
        "https://www.analyticsvidhya.com/blog/2021/02/machine-learning-101-decision-tree-algorithm-for-classification/"
      ]
    }
  ]
}