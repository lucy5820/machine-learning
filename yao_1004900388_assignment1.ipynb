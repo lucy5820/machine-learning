{
  "nbformat": 4,
  "nbformat_minor": 0,
  "metadata": {
    "colab": {
      "provenance": []
    },
    "kernelspec": {
      "name": "python3",
      "display_name": "Python 3"
    },
    "language_info": {
      "name": "python"
    }
  },
  "cells": [
    {
      "cell_type": "markdown",
      "source": [
        "## MIE1624-Assignment1:"
      ],
      "metadata": {
        "id": "H2fp5eFUsR7d"
      }
    },
    {
      "cell_type": "markdown",
      "source": [
        "####Q1"
      ],
      "metadata": {
        "id": "StOwEebkRxAJ"
      }
    },
    {
      "cell_type": "markdown",
      "source": [
        "In recent years, with the development of data science, more and more people have started to pay attention to this field. This report investigates the gender composition and the effects of education levels on compensation in Data Science and Machine Learning. All analyses in this study are based on the survey results of the 2021 \"Kaggle ML and DS Survey Challenge\" competition."
      ],
      "metadata": {
        "id": "7_a5WOyeFuMB"
      }
    },
    {
      "cell_type": "code",
      "execution_count": null,
      "metadata": {
        "id": "0gmTs4-srwzY"
      },
      "outputs": [],
      "source": [
        "# import libraries\n",
        "import pandas as pd\n",
        "import matplotlib.pyplot as plt\n",
        "import scipy\n",
        "from scipy import stats\n",
        "import random"
      ]
    },
    {
      "cell_type": "code",
      "source": [
        "# read dataset\n",
        "data = pd.read_csv(\"clean_kaggle_data.csv\")"
      ],
      "metadata": {
        "id": "OSkR1tjj8Ygj",
        "colab": {
          "base_uri": "https://localhost:8080/"
        },
        "outputId": "7b2a3a39-91da-47cd-aacb-e1ddd63484f0"
      },
      "execution_count": null,
      "outputs": [
        {
          "output_type": "stream",
          "name": "stderr",
          "text": [
            "/usr/local/lib/python3.8/dist-packages/IPython/core/interactiveshell.py:3326: DtypeWarning: Columns (285) have mixed types.Specify dtype option on import or set low_memory=False.\n",
            "  exec(code_obj, self.user_global_ns, self.user_ns)\n"
          ]
        }
      ]
    },
    {
      "cell_type": "code",
      "source": [
        "# select the specific columns to analyze\n",
        "selected_data = data[['Q1', 'Q2', 'Q3', 'Q4', 'Q5', 'Q25']]\n",
        "selected_data = selected_data.rename(columns={'Q1': 'Age', 'Q2': 'Gender', 'Q3': 'Country', 'Q4': 'Education', 'Q5': 'Experience', 'Q25': 'Compensation'})\n",
        "selected_data"
      ],
      "metadata": {
        "id": "U8Mj7DzF8osk",
        "colab": {
          "base_uri": "https://localhost:8080/",
          "height": 419
        },
        "outputId": "cf9aefea-15e2-4236-f27a-6331a093b291"
      },
      "execution_count": null,
      "outputs": [
        {
          "output_type": "execute_result",
          "data": {
            "text/plain": [
              "         Age Gender      Country          Education               Experience  \\\n",
              "0      50-54    Man        India  Bachelor’s degree                    Other   \n",
              "1      50-54    Man    Indonesia    Master’s degree  Program/Project Manager   \n",
              "2      22-24    Man     Pakistan    Master’s degree        Software Engineer   \n",
              "3      45-49    Man       Mexico    Doctoral degree       Research Scientist   \n",
              "4      45-49    Man        India    Doctoral degree                    Other   \n",
              "...      ...    ...          ...                ...                      ...   \n",
              "15386  30-34    Man        India  Bachelor’s degree             Data Analyst   \n",
              "15387  35-39    Man  South Korea  Bachelor’s degree        Software Engineer   \n",
              "15388  30-34    Man        Egypt  Bachelor’s degree             Data Analyst   \n",
              "15389  50-54    Man       Sweden    Doctoral degree       Research Scientist   \n",
              "15390  18-21    Man        India  Bachelor’s degree         Business Analyst   \n",
              "\n",
              "       Compensation  \n",
              "0             30000  \n",
              "1             70000  \n",
              "2              1000  \n",
              "3             40000  \n",
              "4             40000  \n",
              "...             ...  \n",
              "15386          4000  \n",
              "15387         90000  \n",
              "15388         20000  \n",
              "15389          1000  \n",
              "15390          1000  \n",
              "\n",
              "[15391 rows x 6 columns]"
            ],
            "text/html": [
              "\n",
              "  <div id=\"df-48f4073d-f164-4d2f-8fd4-ec687f8a180b\">\n",
              "    <div class=\"colab-df-container\">\n",
              "      <div>\n",
              "<style scoped>\n",
              "    .dataframe tbody tr th:only-of-type {\n",
              "        vertical-align: middle;\n",
              "    }\n",
              "\n",
              "    .dataframe tbody tr th {\n",
              "        vertical-align: top;\n",
              "    }\n",
              "\n",
              "    .dataframe thead th {\n",
              "        text-align: right;\n",
              "    }\n",
              "</style>\n",
              "<table border=\"1\" class=\"dataframe\">\n",
              "  <thead>\n",
              "    <tr style=\"text-align: right;\">\n",
              "      <th></th>\n",
              "      <th>Age</th>\n",
              "      <th>Gender</th>\n",
              "      <th>Country</th>\n",
              "      <th>Education</th>\n",
              "      <th>Experience</th>\n",
              "      <th>Compensation</th>\n",
              "    </tr>\n",
              "  </thead>\n",
              "  <tbody>\n",
              "    <tr>\n",
              "      <th>0</th>\n",
              "      <td>50-54</td>\n",
              "      <td>Man</td>\n",
              "      <td>India</td>\n",
              "      <td>Bachelor’s degree</td>\n",
              "      <td>Other</td>\n",
              "      <td>30000</td>\n",
              "    </tr>\n",
              "    <tr>\n",
              "      <th>1</th>\n",
              "      <td>50-54</td>\n",
              "      <td>Man</td>\n",
              "      <td>Indonesia</td>\n",
              "      <td>Master’s degree</td>\n",
              "      <td>Program/Project Manager</td>\n",
              "      <td>70000</td>\n",
              "    </tr>\n",
              "    <tr>\n",
              "      <th>2</th>\n",
              "      <td>22-24</td>\n",
              "      <td>Man</td>\n",
              "      <td>Pakistan</td>\n",
              "      <td>Master’s degree</td>\n",
              "      <td>Software Engineer</td>\n",
              "      <td>1000</td>\n",
              "    </tr>\n",
              "    <tr>\n",
              "      <th>3</th>\n",
              "      <td>45-49</td>\n",
              "      <td>Man</td>\n",
              "      <td>Mexico</td>\n",
              "      <td>Doctoral degree</td>\n",
              "      <td>Research Scientist</td>\n",
              "      <td>40000</td>\n",
              "    </tr>\n",
              "    <tr>\n",
              "      <th>4</th>\n",
              "      <td>45-49</td>\n",
              "      <td>Man</td>\n",
              "      <td>India</td>\n",
              "      <td>Doctoral degree</td>\n",
              "      <td>Other</td>\n",
              "      <td>40000</td>\n",
              "    </tr>\n",
              "    <tr>\n",
              "      <th>...</th>\n",
              "      <td>...</td>\n",
              "      <td>...</td>\n",
              "      <td>...</td>\n",
              "      <td>...</td>\n",
              "      <td>...</td>\n",
              "      <td>...</td>\n",
              "    </tr>\n",
              "    <tr>\n",
              "      <th>15386</th>\n",
              "      <td>30-34</td>\n",
              "      <td>Man</td>\n",
              "      <td>India</td>\n",
              "      <td>Bachelor’s degree</td>\n",
              "      <td>Data Analyst</td>\n",
              "      <td>4000</td>\n",
              "    </tr>\n",
              "    <tr>\n",
              "      <th>15387</th>\n",
              "      <td>35-39</td>\n",
              "      <td>Man</td>\n",
              "      <td>South Korea</td>\n",
              "      <td>Bachelor’s degree</td>\n",
              "      <td>Software Engineer</td>\n",
              "      <td>90000</td>\n",
              "    </tr>\n",
              "    <tr>\n",
              "      <th>15388</th>\n",
              "      <td>30-34</td>\n",
              "      <td>Man</td>\n",
              "      <td>Egypt</td>\n",
              "      <td>Bachelor’s degree</td>\n",
              "      <td>Data Analyst</td>\n",
              "      <td>20000</td>\n",
              "    </tr>\n",
              "    <tr>\n",
              "      <th>15389</th>\n",
              "      <td>50-54</td>\n",
              "      <td>Man</td>\n",
              "      <td>Sweden</td>\n",
              "      <td>Doctoral degree</td>\n",
              "      <td>Research Scientist</td>\n",
              "      <td>1000</td>\n",
              "    </tr>\n",
              "    <tr>\n",
              "      <th>15390</th>\n",
              "      <td>18-21</td>\n",
              "      <td>Man</td>\n",
              "      <td>India</td>\n",
              "      <td>Bachelor’s degree</td>\n",
              "      <td>Business Analyst</td>\n",
              "      <td>1000</td>\n",
              "    </tr>\n",
              "  </tbody>\n",
              "</table>\n",
              "<p>15391 rows × 6 columns</p>\n",
              "</div>\n",
              "      <button class=\"colab-df-convert\" onclick=\"convertToInteractive('df-48f4073d-f164-4d2f-8fd4-ec687f8a180b')\"\n",
              "              title=\"Convert this dataframe to an interactive table.\"\n",
              "              style=\"display:none;\">\n",
              "        \n",
              "  <svg xmlns=\"http://www.w3.org/2000/svg\" height=\"24px\"viewBox=\"0 0 24 24\"\n",
              "       width=\"24px\">\n",
              "    <path d=\"M0 0h24v24H0V0z\" fill=\"none\"/>\n",
              "    <path d=\"M18.56 5.44l.94 2.06.94-2.06 2.06-.94-2.06-.94-.94-2.06-.94 2.06-2.06.94zm-11 1L8.5 8.5l.94-2.06 2.06-.94-2.06-.94L8.5 2.5l-.94 2.06-2.06.94zm10 10l.94 2.06.94-2.06 2.06-.94-2.06-.94-.94-2.06-.94 2.06-2.06.94z\"/><path d=\"M17.41 7.96l-1.37-1.37c-.4-.4-.92-.59-1.43-.59-.52 0-1.04.2-1.43.59L10.3 9.45l-7.72 7.72c-.78.78-.78 2.05 0 2.83L4 21.41c.39.39.9.59 1.41.59.51 0 1.02-.2 1.41-.59l7.78-7.78 2.81-2.81c.8-.78.8-2.07 0-2.86zM5.41 20L4 18.59l7.72-7.72 1.47 1.35L5.41 20z\"/>\n",
              "  </svg>\n",
              "      </button>\n",
              "      \n",
              "  <style>\n",
              "    .colab-df-container {\n",
              "      display:flex;\n",
              "      flex-wrap:wrap;\n",
              "      gap: 12px;\n",
              "    }\n",
              "\n",
              "    .colab-df-convert {\n",
              "      background-color: #E8F0FE;\n",
              "      border: none;\n",
              "      border-radius: 50%;\n",
              "      cursor: pointer;\n",
              "      display: none;\n",
              "      fill: #1967D2;\n",
              "      height: 32px;\n",
              "      padding: 0 0 0 0;\n",
              "      width: 32px;\n",
              "    }\n",
              "\n",
              "    .colab-df-convert:hover {\n",
              "      background-color: #E2EBFA;\n",
              "      box-shadow: 0px 1px 2px rgba(60, 64, 67, 0.3), 0px 1px 3px 1px rgba(60, 64, 67, 0.15);\n",
              "      fill: #174EA6;\n",
              "    }\n",
              "\n",
              "    [theme=dark] .colab-df-convert {\n",
              "      background-color: #3B4455;\n",
              "      fill: #D2E3FC;\n",
              "    }\n",
              "\n",
              "    [theme=dark] .colab-df-convert:hover {\n",
              "      background-color: #434B5C;\n",
              "      box-shadow: 0px 1px 3px 1px rgba(0, 0, 0, 0.15);\n",
              "      filter: drop-shadow(0px 1px 2px rgba(0, 0, 0, 0.3));\n",
              "      fill: #FFFFFF;\n",
              "    }\n",
              "  </style>\n",
              "\n",
              "      <script>\n",
              "        const buttonEl =\n",
              "          document.querySelector('#df-48f4073d-f164-4d2f-8fd4-ec687f8a180b button.colab-df-convert');\n",
              "        buttonEl.style.display =\n",
              "          google.colab.kernel.accessAllowed ? 'block' : 'none';\n",
              "\n",
              "        async function convertToInteractive(key) {\n",
              "          const element = document.querySelector('#df-48f4073d-f164-4d2f-8fd4-ec687f8a180b');\n",
              "          const dataTable =\n",
              "            await google.colab.kernel.invokeFunction('convertToInteractive',\n",
              "                                                     [key], {});\n",
              "          if (!dataTable) return;\n",
              "\n",
              "          const docLinkHtml = 'Like what you see? Visit the ' +\n",
              "            '<a target=\"_blank\" href=https://colab.research.google.com/notebooks/data_table.ipynb>data table notebook</a>'\n",
              "            + ' to learn more about interactive tables.';\n",
              "          element.innerHTML = '';\n",
              "          dataTable['output_type'] = 'display_data';\n",
              "          await google.colab.output.renderOutput(dataTable, element);\n",
              "          const docLink = document.createElement('div');\n",
              "          docLink.innerHTML = docLinkHtml;\n",
              "          element.appendChild(docLink);\n",
              "        }\n",
              "      </script>\n",
              "    </div>\n",
              "  </div>\n",
              "  "
            ]
          },
          "metadata": {},
          "execution_count": 3
        }
      ]
    },
    {
      "cell_type": "code",
      "source": [
        "# subset the composition of the participants' education levels.\n",
        "df4 = selected_data.groupby(['Education'])['Education'].count()\n",
        "df4 = pd.DataFrame({'Education':df4.index, 'Count':df4.values})\n",
        "df4"
      ],
      "metadata": {
        "id": "NhKiKO22-vb-",
        "colab": {
          "base_uri": "https://localhost:8080/",
          "height": 266
        },
        "outputId": "07f7d283-c383-42e5-f934-a07e7565fb10"
      },
      "execution_count": null,
      "outputs": [
        {
          "output_type": "execute_result",
          "data": {
            "text/plain": [
              "                                           Education  Count\n",
              "0                                  Bachelor’s degree   4777\n",
              "1                                    Doctoral degree   2217\n",
              "2                             I prefer not to answer    334\n",
              "3                                    Master’s degree   6799\n",
              "4               No formal education past high school    228\n",
              "5                             Professional doctorate    290\n",
              "6  Some college/university study without earning ...    746"
            ],
            "text/html": [
              "\n",
              "  <div id=\"df-df356f56-f952-4ca6-abeb-ddba7ea5aff6\">\n",
              "    <div class=\"colab-df-container\">\n",
              "      <div>\n",
              "<style scoped>\n",
              "    .dataframe tbody tr th:only-of-type {\n",
              "        vertical-align: middle;\n",
              "    }\n",
              "\n",
              "    .dataframe tbody tr th {\n",
              "        vertical-align: top;\n",
              "    }\n",
              "\n",
              "    .dataframe thead th {\n",
              "        text-align: right;\n",
              "    }\n",
              "</style>\n",
              "<table border=\"1\" class=\"dataframe\">\n",
              "  <thead>\n",
              "    <tr style=\"text-align: right;\">\n",
              "      <th></th>\n",
              "      <th>Education</th>\n",
              "      <th>Count</th>\n",
              "    </tr>\n",
              "  </thead>\n",
              "  <tbody>\n",
              "    <tr>\n",
              "      <th>0</th>\n",
              "      <td>Bachelor’s degree</td>\n",
              "      <td>4777</td>\n",
              "    </tr>\n",
              "    <tr>\n",
              "      <th>1</th>\n",
              "      <td>Doctoral degree</td>\n",
              "      <td>2217</td>\n",
              "    </tr>\n",
              "    <tr>\n",
              "      <th>2</th>\n",
              "      <td>I prefer not to answer</td>\n",
              "      <td>334</td>\n",
              "    </tr>\n",
              "    <tr>\n",
              "      <th>3</th>\n",
              "      <td>Master’s degree</td>\n",
              "      <td>6799</td>\n",
              "    </tr>\n",
              "    <tr>\n",
              "      <th>4</th>\n",
              "      <td>No formal education past high school</td>\n",
              "      <td>228</td>\n",
              "    </tr>\n",
              "    <tr>\n",
              "      <th>5</th>\n",
              "      <td>Professional doctorate</td>\n",
              "      <td>290</td>\n",
              "    </tr>\n",
              "    <tr>\n",
              "      <th>6</th>\n",
              "      <td>Some college/university study without earning ...</td>\n",
              "      <td>746</td>\n",
              "    </tr>\n",
              "  </tbody>\n",
              "</table>\n",
              "</div>\n",
              "      <button class=\"colab-df-convert\" onclick=\"convertToInteractive('df-df356f56-f952-4ca6-abeb-ddba7ea5aff6')\"\n",
              "              title=\"Convert this dataframe to an interactive table.\"\n",
              "              style=\"display:none;\">\n",
              "        \n",
              "  <svg xmlns=\"http://www.w3.org/2000/svg\" height=\"24px\"viewBox=\"0 0 24 24\"\n",
              "       width=\"24px\">\n",
              "    <path d=\"M0 0h24v24H0V0z\" fill=\"none\"/>\n",
              "    <path d=\"M18.56 5.44l.94 2.06.94-2.06 2.06-.94-2.06-.94-.94-2.06-.94 2.06-2.06.94zm-11 1L8.5 8.5l.94-2.06 2.06-.94-2.06-.94L8.5 2.5l-.94 2.06-2.06.94zm10 10l.94 2.06.94-2.06 2.06-.94-2.06-.94-.94-2.06-.94 2.06-2.06.94z\"/><path d=\"M17.41 7.96l-1.37-1.37c-.4-.4-.92-.59-1.43-.59-.52 0-1.04.2-1.43.59L10.3 9.45l-7.72 7.72c-.78.78-.78 2.05 0 2.83L4 21.41c.39.39.9.59 1.41.59.51 0 1.02-.2 1.41-.59l7.78-7.78 2.81-2.81c.8-.78.8-2.07 0-2.86zM5.41 20L4 18.59l7.72-7.72 1.47 1.35L5.41 20z\"/>\n",
              "  </svg>\n",
              "      </button>\n",
              "      \n",
              "  <style>\n",
              "    .colab-df-container {\n",
              "      display:flex;\n",
              "      flex-wrap:wrap;\n",
              "      gap: 12px;\n",
              "    }\n",
              "\n",
              "    .colab-df-convert {\n",
              "      background-color: #E8F0FE;\n",
              "      border: none;\n",
              "      border-radius: 50%;\n",
              "      cursor: pointer;\n",
              "      display: none;\n",
              "      fill: #1967D2;\n",
              "      height: 32px;\n",
              "      padding: 0 0 0 0;\n",
              "      width: 32px;\n",
              "    }\n",
              "\n",
              "    .colab-df-convert:hover {\n",
              "      background-color: #E2EBFA;\n",
              "      box-shadow: 0px 1px 2px rgba(60, 64, 67, 0.3), 0px 1px 3px 1px rgba(60, 64, 67, 0.15);\n",
              "      fill: #174EA6;\n",
              "    }\n",
              "\n",
              "    [theme=dark] .colab-df-convert {\n",
              "      background-color: #3B4455;\n",
              "      fill: #D2E3FC;\n",
              "    }\n",
              "\n",
              "    [theme=dark] .colab-df-convert:hover {\n",
              "      background-color: #434B5C;\n",
              "      box-shadow: 0px 1px 3px 1px rgba(0, 0, 0, 0.15);\n",
              "      filter: drop-shadow(0px 1px 2px rgba(0, 0, 0, 0.3));\n",
              "      fill: #FFFFFF;\n",
              "    }\n",
              "  </style>\n",
              "\n",
              "      <script>\n",
              "        const buttonEl =\n",
              "          document.querySelector('#df-df356f56-f952-4ca6-abeb-ddba7ea5aff6 button.colab-df-convert');\n",
              "        buttonEl.style.display =\n",
              "          google.colab.kernel.accessAllowed ? 'block' : 'none';\n",
              "\n",
              "        async function convertToInteractive(key) {\n",
              "          const element = document.querySelector('#df-df356f56-f952-4ca6-abeb-ddba7ea5aff6');\n",
              "          const dataTable =\n",
              "            await google.colab.kernel.invokeFunction('convertToInteractive',\n",
              "                                                     [key], {});\n",
              "          if (!dataTable) return;\n",
              "\n",
              "          const docLinkHtml = 'Like what you see? Visit the ' +\n",
              "            '<a target=\"_blank\" href=https://colab.research.google.com/notebooks/data_table.ipynb>data table notebook</a>'\n",
              "            + ' to learn more about interactive tables.';\n",
              "          element.innerHTML = '';\n",
              "          dataTable['output_type'] = 'display_data';\n",
              "          await google.colab.output.renderOutput(dataTable, element);\n",
              "          const docLink = document.createElement('div');\n",
              "          docLink.innerHTML = docLinkHtml;\n",
              "          element.appendChild(docLink);\n",
              "        }\n",
              "      </script>\n",
              "    </div>\n",
              "  </div>\n",
              "  "
            ]
          },
          "metadata": {},
          "execution_count": 4
        }
      ]
    },
    {
      "cell_type": "code",
      "source": [
        "# subset the composition of the participants' roles.\n",
        "df5 = selected_data.groupby(['Experience'])['Experience'].count()\n",
        "df5 = pd.DataFrame({'Experience':df5.index, 'Count':df5.values})\n",
        "df5"
      ],
      "metadata": {
        "id": "NzI5BJET32mO",
        "colab": {
          "base_uri": "https://localhost:8080/",
          "height": 452
        },
        "outputId": "55b003b2-4e3d-419f-c908-4668ba4a61c0"
      },
      "execution_count": null,
      "outputs": [
        {
          "output_type": "execute_result",
          "data": {
            "text/plain": [
              "                      Experience  Count\n",
              "0               Business Analyst    885\n",
              "1          DBA/Database Engineer    151\n",
              "2                   Data Analyst   2039\n",
              "3                  Data Engineer    597\n",
              "4                 Data Scientist   3240\n",
              "5   Developer Relations/Advocacy     86\n",
              "6      Machine Learning Engineer   1327\n",
              "7                          Other   2204\n",
              "8                Product Manager    285\n",
              "9        Program/Project Manager    784\n",
              "10            Research Scientist   1404\n",
              "11             Software Engineer   2110\n",
              "12                  Statistician    279"
            ],
            "text/html": [
              "\n",
              "  <div id=\"df-4ad2af43-d558-4224-8268-3b0d90ff6333\">\n",
              "    <div class=\"colab-df-container\">\n",
              "      <div>\n",
              "<style scoped>\n",
              "    .dataframe tbody tr th:only-of-type {\n",
              "        vertical-align: middle;\n",
              "    }\n",
              "\n",
              "    .dataframe tbody tr th {\n",
              "        vertical-align: top;\n",
              "    }\n",
              "\n",
              "    .dataframe thead th {\n",
              "        text-align: right;\n",
              "    }\n",
              "</style>\n",
              "<table border=\"1\" class=\"dataframe\">\n",
              "  <thead>\n",
              "    <tr style=\"text-align: right;\">\n",
              "      <th></th>\n",
              "      <th>Experience</th>\n",
              "      <th>Count</th>\n",
              "    </tr>\n",
              "  </thead>\n",
              "  <tbody>\n",
              "    <tr>\n",
              "      <th>0</th>\n",
              "      <td>Business Analyst</td>\n",
              "      <td>885</td>\n",
              "    </tr>\n",
              "    <tr>\n",
              "      <th>1</th>\n",
              "      <td>DBA/Database Engineer</td>\n",
              "      <td>151</td>\n",
              "    </tr>\n",
              "    <tr>\n",
              "      <th>2</th>\n",
              "      <td>Data Analyst</td>\n",
              "      <td>2039</td>\n",
              "    </tr>\n",
              "    <tr>\n",
              "      <th>3</th>\n",
              "      <td>Data Engineer</td>\n",
              "      <td>597</td>\n",
              "    </tr>\n",
              "    <tr>\n",
              "      <th>4</th>\n",
              "      <td>Data Scientist</td>\n",
              "      <td>3240</td>\n",
              "    </tr>\n",
              "    <tr>\n",
              "      <th>5</th>\n",
              "      <td>Developer Relations/Advocacy</td>\n",
              "      <td>86</td>\n",
              "    </tr>\n",
              "    <tr>\n",
              "      <th>6</th>\n",
              "      <td>Machine Learning Engineer</td>\n",
              "      <td>1327</td>\n",
              "    </tr>\n",
              "    <tr>\n",
              "      <th>7</th>\n",
              "      <td>Other</td>\n",
              "      <td>2204</td>\n",
              "    </tr>\n",
              "    <tr>\n",
              "      <th>8</th>\n",
              "      <td>Product Manager</td>\n",
              "      <td>285</td>\n",
              "    </tr>\n",
              "    <tr>\n",
              "      <th>9</th>\n",
              "      <td>Program/Project Manager</td>\n",
              "      <td>784</td>\n",
              "    </tr>\n",
              "    <tr>\n",
              "      <th>10</th>\n",
              "      <td>Research Scientist</td>\n",
              "      <td>1404</td>\n",
              "    </tr>\n",
              "    <tr>\n",
              "      <th>11</th>\n",
              "      <td>Software Engineer</td>\n",
              "      <td>2110</td>\n",
              "    </tr>\n",
              "    <tr>\n",
              "      <th>12</th>\n",
              "      <td>Statistician</td>\n",
              "      <td>279</td>\n",
              "    </tr>\n",
              "  </tbody>\n",
              "</table>\n",
              "</div>\n",
              "      <button class=\"colab-df-convert\" onclick=\"convertToInteractive('df-4ad2af43-d558-4224-8268-3b0d90ff6333')\"\n",
              "              title=\"Convert this dataframe to an interactive table.\"\n",
              "              style=\"display:none;\">\n",
              "        \n",
              "  <svg xmlns=\"http://www.w3.org/2000/svg\" height=\"24px\"viewBox=\"0 0 24 24\"\n",
              "       width=\"24px\">\n",
              "    <path d=\"M0 0h24v24H0V0z\" fill=\"none\"/>\n",
              "    <path d=\"M18.56 5.44l.94 2.06.94-2.06 2.06-.94-2.06-.94-.94-2.06-.94 2.06-2.06.94zm-11 1L8.5 8.5l.94-2.06 2.06-.94-2.06-.94L8.5 2.5l-.94 2.06-2.06.94zm10 10l.94 2.06.94-2.06 2.06-.94-2.06-.94-.94-2.06-.94 2.06-2.06.94z\"/><path d=\"M17.41 7.96l-1.37-1.37c-.4-.4-.92-.59-1.43-.59-.52 0-1.04.2-1.43.59L10.3 9.45l-7.72 7.72c-.78.78-.78 2.05 0 2.83L4 21.41c.39.39.9.59 1.41.59.51 0 1.02-.2 1.41-.59l7.78-7.78 2.81-2.81c.8-.78.8-2.07 0-2.86zM5.41 20L4 18.59l7.72-7.72 1.47 1.35L5.41 20z\"/>\n",
              "  </svg>\n",
              "      </button>\n",
              "      \n",
              "  <style>\n",
              "    .colab-df-container {\n",
              "      display:flex;\n",
              "      flex-wrap:wrap;\n",
              "      gap: 12px;\n",
              "    }\n",
              "\n",
              "    .colab-df-convert {\n",
              "      background-color: #E8F0FE;\n",
              "      border: none;\n",
              "      border-radius: 50%;\n",
              "      cursor: pointer;\n",
              "      display: none;\n",
              "      fill: #1967D2;\n",
              "      height: 32px;\n",
              "      padding: 0 0 0 0;\n",
              "      width: 32px;\n",
              "    }\n",
              "\n",
              "    .colab-df-convert:hover {\n",
              "      background-color: #E2EBFA;\n",
              "      box-shadow: 0px 1px 2px rgba(60, 64, 67, 0.3), 0px 1px 3px 1px rgba(60, 64, 67, 0.15);\n",
              "      fill: #174EA6;\n",
              "    }\n",
              "\n",
              "    [theme=dark] .colab-df-convert {\n",
              "      background-color: #3B4455;\n",
              "      fill: #D2E3FC;\n",
              "    }\n",
              "\n",
              "    [theme=dark] .colab-df-convert:hover {\n",
              "      background-color: #434B5C;\n",
              "      box-shadow: 0px 1px 3px 1px rgba(0, 0, 0, 0.15);\n",
              "      filter: drop-shadow(0px 1px 2px rgba(0, 0, 0, 0.3));\n",
              "      fill: #FFFFFF;\n",
              "    }\n",
              "  </style>\n",
              "\n",
              "      <script>\n",
              "        const buttonEl =\n",
              "          document.querySelector('#df-4ad2af43-d558-4224-8268-3b0d90ff6333 button.colab-df-convert');\n",
              "        buttonEl.style.display =\n",
              "          google.colab.kernel.accessAllowed ? 'block' : 'none';\n",
              "\n",
              "        async function convertToInteractive(key) {\n",
              "          const element = document.querySelector('#df-4ad2af43-d558-4224-8268-3b0d90ff6333');\n",
              "          const dataTable =\n",
              "            await google.colab.kernel.invokeFunction('convertToInteractive',\n",
              "                                                     [key], {});\n",
              "          if (!dataTable) return;\n",
              "\n",
              "          const docLinkHtml = 'Like what you see? Visit the ' +\n",
              "            '<a target=\"_blank\" href=https://colab.research.google.com/notebooks/data_table.ipynb>data table notebook</a>'\n",
              "            + ' to learn more about interactive tables.';\n",
              "          element.innerHTML = '';\n",
              "          dataTable['output_type'] = 'display_data';\n",
              "          await google.colab.output.renderOutput(dataTable, element);\n",
              "          const docLink = document.createElement('div');\n",
              "          docLink.innerHTML = docLinkHtml;\n",
              "          element.appendChild(docLink);\n",
              "        }\n",
              "      </script>\n",
              "    </div>\n",
              "  </div>\n",
              "  "
            ]
          },
          "metadata": {},
          "execution_count": 5
        }
      ]
    },
    {
      "cell_type": "markdown",
      "source": [
        "First, we did a data analysis of the main characteristics. The histogram below shows the average annual compensation of each participant in the survey. The histogram distribution is right-skewed, with the vast majority of participants having less than 200,000 in yearly salary. The peak of the histogram sits in the range of 0 to 50,000, while some outliers lie between the range from 950000 to 10^6."
      ],
      "metadata": {
        "id": "W04TQ3sgJEiV"
      }
    },
    {
      "cell_type": "code",
      "source": [
        "# histogram of Salary for all participants\n",
        "# Figure1\n",
        "selected_data[['Compensation']].hist()\n",
        "plt.xlabel('Salary')\n",
        "plt.ylabel('Count')\n",
        "plt.show()"
      ],
      "metadata": {
        "colab": {
          "base_uri": "https://localhost:8080/",
          "height": 295
        },
        "id": "r2A5SbST9LqU",
        "outputId": "6b48cc47-6658-473e-d65b-96d547940264"
      },
      "execution_count": null,
      "outputs": [
        {
          "output_type": "display_data",
          "data": {
            "text/plain": [
              "<Figure size 432x288 with 1 Axes>"
            ],
            "image/png": "[encoded data removed]"
          },
          "metadata": {
            "needs_background": "light"
          }
        }
      ]
    },
    {
      "cell_type": "markdown",
      "source": [
        "Then I analyzed the participants' highest level of formal education. Since education level is a categorical variable, analyzing through a bar chart would be a better choice. The horizontal bar chart below demonstrates that more than 6,500 people have received or plan to attain a master's degree within the next two years, which is the most. Followed by this is the bachelor's degree, with more than 4,500 people choosing this option. And over 2,000 people chose the doctoral degree option. This bar chart indicates that the majority of participants in Data Science and Machine Learning are inclined to obtain a higher degree. "
      ],
      "metadata": {
        "id": "EISONtgyJFOV"
      }
    },
    {
      "cell_type": "code",
      "source": [
        "# horizontal bar chart of Education for all participants\n",
        "# Figure2\n",
        "df4.plot.barh(x='Education', y='Count', rot=0)"
      ],
      "metadata": {
        "colab": {
          "base_uri": "https://localhost:8080/",
          "height": 282
        },
        "id": "8Uch7oLbBwnb",
        "outputId": "b34c92ba-1de2-4e2c-8b9d-24f9c1338d25"
      },
      "execution_count": null,
      "outputs": [
        {
          "output_type": "execute_result",
          "data": {
            "text/plain": [
              "<matplotlib.axes._subplots.AxesSubplot at 0x7fe00e9199a0>"
            ]
          },
          "metadata": {},
          "execution_count": 7
        },
        {
          "output_type": "display_data",
          "data": {
            "text/plain": [
              "<Figure size 432x288 with 1 Axes>"
            ],
            "image/png": "[encoded data removed]"
          },
          "metadata": {
            "needs_background": "light"
          }
        }
      ]
    },
    {
      "cell_type": "markdown",
      "source": [
        "Furthermore, I analyzed the composition of the current roles for all participants. According to the horizontal chart below, most people are in data scientist positions, with over 3000 people. The following preferred choices were software engineer and data analyst; the difference between these positions is minimal. Besides, a large portion of participants chose the 'other' option. This may indicate that Data Science and Machine Learning are growing rapidly, and the positions are constantly being updated."
      ],
      "metadata": {
        "id": "KVoFCzwZJF0m"
      }
    },
    {
      "cell_type": "code",
      "source": [
        "# horizontal bar chart of Professional Experience for all participants\n",
        "# Figure3\n",
        "df5.plot.barh(x='Experience', y=\"Count\", rot = 0)"
      ],
      "metadata": {
        "colab": {
          "base_uri": "https://localhost:8080/",
          "height": 282
        },
        "id": "eAuL9M3AE04T",
        "outputId": "91a9f586-0837-4755-d7df-76c58b72f7d2"
      },
      "execution_count": null,
      "outputs": [
        {
          "output_type": "execute_result",
          "data": {
            "text/plain": [
              "<matplotlib.axes._subplots.AxesSubplot at 0x7fe00e883b20>"
            ]
          },
          "metadata": {},
          "execution_count": 8
        },
        {
          "output_type": "display_data",
          "data": {
            "text/plain": [
              "<Figure size 432x288 with 1 Axes>"
            ],
            "image/png": "[encoded data removed]"
          },
          "metadata": {
            "needs_background": "light"
          }
        }
      ]
    },
    {
      "cell_type": "code",
      "source": [
        "# check whether the Salary and Gender columns have nan values.\n",
        "check_for_nan_G = selected_data['Gender'].isnull().values.any()\n",
        "check_for_nan_S = selected_data['Compensation'].isnull().values.any()\n",
        "print (check_for_nan_G, check_for_nan_S) # no missing values to be removed."
      ],
      "metadata": {
        "colab": {
          "base_uri": "https://localhost:8080/"
        },
        "id": "Ne0W0Kr0AYrI",
        "outputId": "7d8bac1e-5605-4d5a-bd9d-dec9e489bb53"
      },
      "execution_count": null,
      "outputs": [
        {
          "output_type": "stream",
          "name": "stdout",
          "text": [
            "False False\n"
          ]
        }
      ]
    },
    {
      "cell_type": "code",
      "source": [
        "# select the columns about gender and yearly salary of all the participants\n",
        "# subset the rows answered \"Man\" and \"Woman\" in the Gender question\n",
        "salary_gender = selected_data[['Gender', 'Compensation']]\n",
        "salary_gender = salary_gender[(salary_gender[\"Gender\"] == 'Man') | (salary_gender[\"Gender\"] == 'Woman')]"
      ],
      "metadata": {
        "id": "FoOTcAR3W6Fn"
      },
      "execution_count": null,
      "outputs": []
    },
    {
      "cell_type": "markdown",
      "source": [
        "####Q2"
      ],
      "metadata": {
        "id": "WZQOxiYBR0zW"
      }
    },
    {
      "cell_type": "markdown",
      "source": [
        "To meet our research objective on the difference between the salary of males and females, I checked the dataset for missing values. After that, I reported descriptive statistics for each group by plotting a box plot and a descriptive table. Both the plot and table below showed the annual salary summary for females and males. In both gender groups, most of the participant's compensation is below 150,000, and only some outliers are distributed in the range of 200,000 to 10^6. Furthermore, compared to female salaries, male salaries are higher than female salaries at all stages according to the plot, such as median, 75th percentile and maximum. And the table proved this point as well."
      ],
      "metadata": {
        "id": "Lqh6wzZckKbg"
      }
    },
    {
      "cell_type": "code",
      "source": [
        "# Figure4\n",
        "from matplotlib.pyplot import figure\n",
        "\n",
        "figure(figsize=(7, 4))\n",
        "\n",
        "# plot a box plot of compensation of both woman and man based on the response of question 25\n",
        "female_salary = salary_gender[salary_gender['Gender'] == 'Woman']['Compensation']\n",
        "male_salary = salary_gender[salary_gender['Gender'] == 'Man']['Compensation']\n",
        "\n",
        "gend = list(['Woman', 'Man'])\n",
        "\n",
        "plt.boxplot([female_salary,male_salary],labels=gend)\n",
        "plt.ylabel(\"Yearly Salary\")\n",
        "plt.show()"
      ],
      "metadata": {
        "colab": {
          "base_uri": "https://localhost:8080/",
          "height": 330
        },
        "id": "smcf29NBc7ih",
        "outputId": "59bc1ab7-4755-42af-c0bc-8d9f63148189"
      },
      "execution_count": null,
      "outputs": [
        {
          "output_type": "stream",
          "name": "stderr",
          "text": [
            "/usr/local/lib/python3.8/dist-packages/matplotlib/cbook/__init__.py:1376: VisibleDeprecationWarning: Creating an ndarray from ragged nested sequences (which is a list-or-tuple of lists-or-tuples-or ndarrays with different lengths or shapes) is deprecated. If you meant to do this, you must specify 'dtype=object' when creating the ndarray.\n",
            "  X = np.atleast_1d(X.T if isinstance(X, np.ndarray) else np.asarray(X))\n"
          ]
        },
        {
          "output_type": "display_data",
          "data": {
            "text/plain": [
              "<Figure size 504x288 with 1 Axes>"
            ],
            "image/png": "[encoded data removed]"
          },
          "metadata": {
            "needs_background": "light"
          }
        }
      ]
    },
    {
      "cell_type": "code",
      "source": [
        "#Table1\n",
        "# a descriptive table showing the compensation of males and females\n",
        "gender_data_salary = salary_gender.groupby('Gender')\n",
        "gender_data_salary.describe()"
      ],
      "metadata": {
        "colab": {
          "base_uri": "https://localhost:8080/",
          "height": 173
        },
        "id": "T-5cLRmUqV3Z",
        "outputId": "702d3284-3c51-45e2-e96f-1615f383cfba"
      },
      "execution_count": null,
      "outputs": [
        {
          "output_type": "execute_result",
          "data": {
            "text/plain": [
              "       Compensation                                                       \\\n",
              "              count          mean           std     min     25%      50%   \n",
              "Gender                                                                     \n",
              "Man         12642.0  51193.600696  99979.274378  1000.0  2000.0  20000.0   \n",
              "Woman        2482.0  34816.881547  72017.347888  1000.0  1000.0   7500.0   \n",
              "\n",
              "                            \n",
              "            75%        max  \n",
              "Gender                      \n",
              "Man     60000.0  1000000.0  \n",
              "Woman   50000.0  1000000.0  "
            ],
            "text/html": [
              "\n",
              "  <div id=\"df-3378dac0-cfdb-4b5e-820a-9fac5f94008a\">\n",
              "    <div class=\"colab-df-container\">\n",
              "      <div>\n",
              "<style scoped>\n",
              "    .dataframe tbody tr th:only-of-type {\n",
              "        vertical-align: middle;\n",
              "    }\n",
              "\n",
              "    .dataframe tbody tr th {\n",
              "        vertical-align: top;\n",
              "    }\n",
              "\n",
              "    .dataframe thead tr th {\n",
              "        text-align: left;\n",
              "    }\n",
              "\n",
              "    .dataframe thead tr:last-of-type th {\n",
              "        text-align: right;\n",
              "    }\n",
              "</style>\n",
              "<table border=\"1\" class=\"dataframe\">\n",
              "  <thead>\n",
              "    <tr>\n",
              "      <th></th>\n",
              "      <th colspan=\"8\" halign=\"left\">Compensation</th>\n",
              "    </tr>\n",
              "    <tr>\n",
              "      <th></th>\n",
              "      <th>count</th>\n",
              "      <th>mean</th>\n",
              "      <th>std</th>\n",
              "      <th>min</th>\n",
              "      <th>25%</th>\n",
              "      <th>50%</th>\n",
              "      <th>75%</th>\n",
              "      <th>max</th>\n",
              "    </tr>\n",
              "    <tr>\n",
              "      <th>Gender</th>\n",
              "      <th></th>\n",
              "      <th></th>\n",
              "      <th></th>\n",
              "      <th></th>\n",
              "      <th></th>\n",
              "      <th></th>\n",
              "      <th></th>\n",
              "      <th></th>\n",
              "    </tr>\n",
              "  </thead>\n",
              "  <tbody>\n",
              "    <tr>\n",
              "      <th>Man</th>\n",
              "      <td>12642.0</td>\n",
              "      <td>51193.600696</td>\n",
              "      <td>99979.274378</td>\n",
              "      <td>1000.0</td>\n",
              "      <td>2000.0</td>\n",
              "      <td>20000.0</td>\n",
              "      <td>60000.0</td>\n",
              "      <td>1000000.0</td>\n",
              "    </tr>\n",
              "    <tr>\n",
              "      <th>Woman</th>\n",
              "      <td>2482.0</td>\n",
              "      <td>34816.881547</td>\n",
              "      <td>72017.347888</td>\n",
              "      <td>1000.0</td>\n",
              "      <td>1000.0</td>\n",
              "      <td>7500.0</td>\n",
              "      <td>50000.0</td>\n",
              "      <td>1000000.0</td>\n",
              "    </tr>\n",
              "  </tbody>\n",
              "</table>\n",
              "</div>\n",
              "      <button class=\"colab-df-convert\" onclick=\"convertToInteractive('df-3378dac0-cfdb-4b5e-820a-9fac5f94008a')\"\n",
              "              title=\"Convert this dataframe to an interactive table.\"\n",
              "              style=\"display:none;\">\n",
              "        \n",
              "  <svg xmlns=\"http://www.w3.org/2000/svg\" height=\"24px\"viewBox=\"0 0 24 24\"\n",
              "       width=\"24px\">\n",
              "    <path d=\"M0 0h24v24H0V0z\" fill=\"none\"/>\n",
              "    <path d=\"M18.56 5.44l.94 2.06.94-2.06 2.06-.94-2.06-.94-.94-2.06-.94 2.06-2.06.94zm-11 1L8.5 8.5l.94-2.06 2.06-.94-2.06-.94L8.5 2.5l-.94 2.06-2.06.94zm10 10l.94 2.06.94-2.06 2.06-.94-2.06-.94-.94-2.06-.94 2.06-2.06.94z\"/><path d=\"M17.41 7.96l-1.37-1.37c-.4-.4-.92-.59-1.43-.59-.52 0-1.04.2-1.43.59L10.3 9.45l-7.72 7.72c-.78.78-.78 2.05 0 2.83L4 21.41c.39.39.9.59 1.41.59.51 0 1.02-.2 1.41-.59l7.78-7.78 2.81-2.81c.8-.78.8-2.07 0-2.86zM5.41 20L4 18.59l7.72-7.72 1.47 1.35L5.41 20z\"/>\n",
              "  </svg>\n",
              "      </button>\n",
              "      \n",
              "  <style>\n",
              "    .colab-df-container {\n",
              "      display:flex;\n",
              "      flex-wrap:wrap;\n",
              "      gap: 12px;\n",
              "    }\n",
              "\n",
              "    .colab-df-convert {\n",
              "      background-color: #E8F0FE;\n",
              "      border: none;\n",
              "      border-radius: 50%;\n",
              "      cursor: pointer;\n",
              "      display: none;\n",
              "      fill: #1967D2;\n",
              "      height: 32px;\n",
              "      padding: 0 0 0 0;\n",
              "      width: 32px;\n",
              "    }\n",
              "\n",
              "    .colab-df-convert:hover {\n",
              "      background-color: #E2EBFA;\n",
              "      box-shadow: 0px 1px 2px rgba(60, 64, 67, 0.3), 0px 1px 3px 1px rgba(60, 64, 67, 0.15);\n",
              "      fill: #174EA6;\n",
              "    }\n",
              "\n",
              "    [theme=dark] .colab-df-convert {\n",
              "      background-color: #3B4455;\n",
              "      fill: #D2E3FC;\n",
              "    }\n",
              "\n",
              "    [theme=dark] .colab-df-convert:hover {\n",
              "      background-color: #434B5C;\n",
              "      box-shadow: 0px 1px 3px 1px rgba(0, 0, 0, 0.15);\n",
              "      filter: drop-shadow(0px 1px 2px rgba(0, 0, 0, 0.3));\n",
              "      fill: #FFFFFF;\n",
              "    }\n",
              "  </style>\n",
              "\n",
              "      <script>\n",
              "        const buttonEl =\n",
              "          document.querySelector('#df-3378dac0-cfdb-4b5e-820a-9fac5f94008a button.colab-df-convert');\n",
              "        buttonEl.style.display =\n",
              "          google.colab.kernel.accessAllowed ? 'block' : 'none';\n",
              "\n",
              "        async function convertToInteractive(key) {\n",
              "          const element = document.querySelector('#df-3378dac0-cfdb-4b5e-820a-9fac5f94008a');\n",
              "          const dataTable =\n",
              "            await google.colab.kernel.invokeFunction('convertToInteractive',\n",
              "                                                     [key], {});\n",
              "          if (!dataTable) return;\n",
              "\n",
              "          const docLinkHtml = 'Like what you see? Visit the ' +\n",
              "            '<a target=\"_blank\" href=https://colab.research.google.com/notebooks/data_table.ipynb>data table notebook</a>'\n",
              "            + ' to learn more about interactive tables.';\n",
              "          element.innerHTML = '';\n",
              "          dataTable['output_type'] = 'display_data';\n",
              "          await google.colab.output.renderOutput(dataTable, element);\n",
              "          const docLink = document.createElement('div');\n",
              "          docLink.innerHTML = docLinkHtml;\n",
              "          element.appendChild(docLink);\n",
              "        }\n",
              "      </script>\n",
              "    </div>\n",
              "  </div>\n",
              "  "
            ]
          },
          "metadata": {},
          "execution_count": 12
        }
      ]
    },
    {
      "cell_type": "markdown",
      "source": [
        "The null hypothesis for our research objective is there is no difference of the expected salary between genders ($μ_1$ = $μ_2$, where $μ_1$ and $μ_2$ represents the population mean of salary on males and females, respectively) , while the alternative hypothesis is the expected salary in gender is different to each other. \n",
        "\n",
        "To examine our hypothesis, I performed a two sample t-test and the result is shown below. The result showed the p-value is smaller than 0.05, which indicates the difference observe in data is most likely not due to chance. Thus, we could conclude it is statistically significant and there is a difference of compensation between males and females."
      ],
      "metadata": {
        "id": "q5KEIIzBsQhD"
      }
    },
    {
      "cell_type": "code",
      "source": [
        "#table2\n",
        "ts, ps = stats.ttest_ind(female_salary, male_salary)\n",
        "print (\"t-test: t = %g  p = %g\" % (ts, ps))"
      ],
      "metadata": {
        "colab": {
          "base_uri": "https://localhost:8080/"
        },
        "id": "u4-0Djgirltt",
        "outputId": "2d3f735e-464a-4e01-ecd5-eeac6ff7ced3"
      },
      "execution_count": null,
      "outputs": [
        {
          "output_type": "stream",
          "name": "stdout",
          "text": [
            "t-test: t = -7.77406  p = 8.08881e-15\n"
          ]
        }
      ]
    },
    {
      "cell_type": "markdown",
      "source": [
        "Bootstrapping could obtained suitably accurate information from an appropriately drawn sample. Hence I bootstrapped the data 1000iterations on two groups for comparing the mean of salary. Since the bootstrapped sample size is relative small to the group size, the sample size I chose for the males are 1200 observations and 200 observations for the females."
      ],
      "metadata": {
        "id": "3DXLSkYl6_zV"
      }
    },
    {
      "cell_type": "code",
      "source": [
        "random.seed(500)\n",
        "# bootstrapped for the males with sample size = 1200 on 1000 iterations. \n",
        "# bootstrapped for the females with sample size = 200 on 1000 iterations. \n",
        "\n",
        "boot_mean_male = []\n",
        "boot_mean_female = []\n",
        "boot_mean_diff = []\n",
        "for i in range(1000):\n",
        "  boot_sample_m = male_salary.sample(n = 1200, replace = True)\n",
        "  boot_sample_f = female_salary.sample(n = 200, replace = True)\n",
        "\n",
        "  boot_mean_m = boot_sample_m.mean()\n",
        "  boot_mean_f = boot_sample_f.mean()\n",
        "\n",
        "  boot_mean_male.append(boot_mean_m)\n",
        "  boot_mean_female.append(boot_mean_f)\n",
        "  boot_mean_diff.append(abs(boot_mean_m - boot_mean_f))\n"
      ],
      "metadata": {
        "id": "ftbJ9vEzz5ry"
      },
      "execution_count": null,
      "outputs": []
    },
    {
      "cell_type": "markdown",
      "source": [
        "To test whether the bootstrapped sample could represent the population statistically, I did the Shapiro test for two groups after 1000 iterations since the Shapiro test is able to examine how close the sample data fit a normal distribution. The p-values in the result of both bootstrapped samples are less than 0.05, proving that the sampling distribution obtained through bootstrapping can be used for hypothesis testing. Moreover, the histogram distributions of both groups are normally distributed so that we could conclude the same result based on the Central Limit Theorem."
      ],
      "metadata": {
        "id": "7ax25jS7ByAW"
      }
    },
    {
      "cell_type": "code",
      "source": [
        "#table3\n",
        "shapiro_test_m = stats.shapiro(boot_mean_male)\n",
        "shapiro_test_f = stats.shapiro((boot_mean_female))\n",
        "print(shapiro_test_m, shapiro_test_f)"
      ],
      "metadata": {
        "colab": {
          "base_uri": "https://localhost:8080/"
        },
        "id": "ONmeGgQY8CJX",
        "outputId": "e2efa9a6-af92-4389-c65f-5bb53d045039"
      },
      "execution_count": null,
      "outputs": [
        {
          "output_type": "stream",
          "name": "stdout",
          "text": [
            "ShapiroResult(statistic=0.9933409690856934, pvalue=0.00018989447562489659) ShapiroResult(statistic=0.9845420718193054, pvalue=8.539536189289265e-09)\n"
          ]
        }
      ]
    },
    {
      "cell_type": "markdown",
      "source": [
        "The bootstrapped distributions showed both distributions are normally distributed. Besides, the center of the females is around 35000 while the males is around 52000. The yearly compensation of the males is higher than the females based on the overall trend of the distributions"
      ],
      "metadata": {
        "id": "N-uUBwG8Gq91"
      }
    },
    {
      "cell_type": "code",
      "source": [
        "# Figure5\n",
        "figure(figsize=(7, 4))\n",
        "\n",
        "# plot the bootstrapped distributions\n",
        "plt.hist(boot_mean_male, edgecolor='black', label = \"male\")\n",
        "plt.hist(boot_mean_female, edgecolor='black',label = \"female\")\n",
        "plt.title(\"Bootstrapped Distributions\")\n",
        "plt.legend(loc='upper right')"
      ],
      "metadata": {
        "colab": {
          "base_uri": "https://localhost:8080/",
          "height": 298
        },
        "id": "4Htqbak21_Cg",
        "outputId": "b57f7ece-25b0-4fbe-8aec-18424b2a5ae0"
      },
      "execution_count": null,
      "outputs": [
        {
          "output_type": "execute_result",
          "data": {
            "text/plain": [
              "<matplotlib.legend.Legend at 0x7fe00e6d6eb0>"
            ]
          },
          "metadata": {},
          "execution_count": 16
        },
        {
          "output_type": "display_data",
          "data": {
            "text/plain": [
              "<Figure size 504x288 with 1 Axes>"
            ],
            "image/png": "[encoded data removed]"
          },
          "metadata": {
            "needs_background": "light"
          }
        }
      ]
    },
    {
      "cell_type": "markdown",
      "source": [
        "The center of the distribution of the difference is around 17000, indicating the approximate difference in means of salary between the two groups."
      ],
      "metadata": {
        "id": "NgTxBL9jIeyR"
      }
    },
    {
      "cell_type": "code",
      "source": [
        "# Figure6\n",
        "figure(figsize=(7, 4))\n",
        "# plot the distribution of the difference in Means of Salaries\n",
        "plt.hist(boot_mean_diff, edgecolor='black')\n",
        "plt.xlabel('Difference in Salary')\n",
        "plt.title('Distribution of the Difference in Means.')\n",
        "plt.show()"
      ],
      "metadata": {
        "colab": {
          "base_uri": "https://localhost:8080/",
          "height": 295
        },
        "id": "-AYUivoCE2hX",
        "outputId": "58e9b28f-8533-4d88-e300-273e6d160dfa"
      },
      "execution_count": null,
      "outputs": [
        {
          "output_type": "display_data",
          "data": {
            "text/plain": [
              "<Figure size 504x288 with 1 Axes>"
            ],
            "image/png": "[encoded data removed]"
          },
          "metadata": {
            "needs_background": "light"
          }
        }
      ]
    },
    {
      "cell_type": "markdown",
      "source": [
        "The t-test result on bootstrapped samples showed the p-value is smaller than 0.05, which indicates the difference observe in data is most likely not due to chance. Thus, we could conclude it is statistically significant and there is a difference of compensation between males and females."
      ],
      "metadata": {
        "id": "i7kYUZAJKAcj"
      }
    },
    {
      "cell_type": "code",
      "source": [
        "#Table4\n",
        "# t-tests on bootstrapped samples.\n",
        "tb, pb = stats.ttest_ind(boot_mean_female, boot_mean_male)\n",
        "print (\"t-test: t = %g  p = %g\" % (tb, pb))"
      ],
      "metadata": {
        "colab": {
          "base_uri": "https://localhost:8080/"
        },
        "id": "SbkJJZlsJRsW",
        "outputId": "1bd972a3-794f-4d20-eb2f-982aaa121fab"
      },
      "execution_count": null,
      "outputs": [
        {
          "output_type": "stream",
          "name": "stdout",
          "text": [
            "t-test: t = -87.3128  p = 0\n"
          ]
        }
      ]
    },
    {
      "cell_type": "markdown",
      "source": [
        "####Q3"
      ],
      "metadata": {
        "id": "Bukr6IUSKpk1"
      }
    },
    {
      "cell_type": "code",
      "source": [
        "# check whether the Education have nan values.\n",
        "check_for_nan_E = selected_data['Education'].isnull().values.any()\n",
        "print (check_for_nan_E) # no missing values to be removed."
      ],
      "metadata": {
        "colab": {
          "base_uri": "https://localhost:8080/"
        },
        "id": "9MIS5gh7Vk8o",
        "outputId": "dbbcb27f-b298-4bdd-c94b-5be1175130b6"
      },
      "execution_count": null,
      "outputs": [
        {
          "output_type": "stream",
          "name": "stdout",
          "text": [
            "False\n"
          ]
        }
      ]
    },
    {
      "cell_type": "code",
      "source": [
        "# select the columns about gender and Education of all the participants\n",
        "# subset the rows answered \"Bachelor’s degree\", \"Master’s degree\", \"Doctoral degree\"\n",
        "edu_salary = selected_data[['Compensation', 'Education']]\n",
        "edu_salary = edu_salary [(edu_salary [\"Education\"] == 'Bachelor’s degree') | (edu_salary [\"Education\"] == 'Master’s degree')| (edu_salary [\"Education\"] == 'Doctoral degree')]\n"
      ],
      "metadata": {
        "id": "JOL8DFzXV6km"
      },
      "execution_count": null,
      "outputs": []
    },
    {
      "cell_type": "markdown",
      "source": [
        "To investigate the effects of education on income level (mainly focused on Bachelor's Degree, Master's Degree and Doctoral Degree), the boxplot and descriptive table are shown below. Both of them demonstrated that the annual compensation of a Doctoral Degree is higher than Master's Degree higher than Bachelor's Degree at all stages, such as median, 75th percentile and maximum."
      ],
      "metadata": {
        "id": "G8w3HjOgYOaA"
      }
    },
    {
      "cell_type": "code",
      "source": [
        "# Figure7\n",
        "from matplotlib.pyplot import figure\n",
        "\n",
        "figure(figsize=(7, 4))\n",
        "\n",
        "# plot a box plot of Education on salary \n",
        "bachelor_salary = edu_salary [edu_salary [\"Education\"] == 'Bachelor’s degree']['Compensation']\n",
        "master_salary = edu_salary [edu_salary [\"Education\"] == 'Master’s degree']['Compensation']\n",
        "doctoral_salary = edu_salary [edu_salary [\"Education\"] == 'Doctoral degree']['Compensation']\n",
        "\n",
        "gend = list(['Bachelor', 'Master', 'Doctoral'])\n",
        "\n",
        "plt.boxplot([bachelor_salary,master_salary, doctoral_salary],labels=gend)\n",
        "plt.ylabel(\"Yearly Salary\")\n",
        "plt.show()"
      ],
      "metadata": {
        "colab": {
          "base_uri": "https://localhost:8080/",
          "height": 330
        },
        "id": "4oeHv2RIWumv",
        "outputId": "74300d7b-59aa-410c-84af-feec114727a2"
      },
      "execution_count": null,
      "outputs": [
        {
          "output_type": "stream",
          "name": "stderr",
          "text": [
            "/usr/local/lib/python3.8/dist-packages/matplotlib/cbook/__init__.py:1376: VisibleDeprecationWarning: Creating an ndarray from ragged nested sequences (which is a list-or-tuple of lists-or-tuples-or ndarrays with different lengths or shapes) is deprecated. If you meant to do this, you must specify 'dtype=object' when creating the ndarray.\n",
            "  X = np.atleast_1d(X.T if isinstance(X, np.ndarray) else np.asarray(X))\n"
          ]
        },
        {
          "output_type": "display_data",
          "data": {
            "text/plain": [
              "<Figure size 504x288 with 1 Axes>"
            ],
            "image/png": "[encoded data removed]"
          },
          "metadata": {
            "needs_background": "light"
          }
        }
      ]
    },
    {
      "cell_type": "code",
      "source": [
        "#Table5\n",
        "# a descriptive table showing the compensation of education levels\n",
        "edu_data_salary = edu_salary.groupby('Education')\n",
        "edu_data_salary.describe()"
      ],
      "metadata": {
        "colab": {
          "base_uri": "https://localhost:8080/",
          "height": 204
        },
        "id": "P1bhcFiHXwli",
        "outputId": "6edf453a-d13b-4fcc-ca25-0cfb694e8c90"
      },
      "execution_count": null,
      "outputs": [
        {
          "output_type": "execute_result",
          "data": {
            "text/plain": [
              "                  Compensation                                               \\\n",
              "                         count          mean            std     min     25%   \n",
              "Education                                                                     \n",
              "Bachelor’s degree       4777.0  35578.291815   89382.060777  1000.0  1000.0   \n",
              "Doctoral degree         2217.0  70641.181777  117160.947589  1000.0  4000.0   \n",
              "Master’s degree         6799.0  52706.868657   90928.786678  1000.0  3000.0   \n",
              "\n",
              "                                                \n",
              "                       50%      75%        max  \n",
              "Education                                       \n",
              "Bachelor’s degree   7500.0  40000.0  1000000.0  \n",
              "Doctoral degree    40000.0  90000.0  1000000.0  \n",
              "Master’s degree    25000.0  70000.0  1000000.0  "
            ],
            "text/html": [
              "\n",
              "  <div id=\"df-96e85543-2e70-42a0-8595-f3f9fa924474\">\n",
              "    <div class=\"colab-df-container\">\n",
              "      <div>\n",
              "<style scoped>\n",
              "    .dataframe tbody tr th:only-of-type {\n",
              "        vertical-align: middle;\n",
              "    }\n",
              "\n",
              "    .dataframe tbody tr th {\n",
              "        vertical-align: top;\n",
              "    }\n",
              "\n",
              "    .dataframe thead tr th {\n",
              "        text-align: left;\n",
              "    }\n",
              "\n",
              "    .dataframe thead tr:last-of-type th {\n",
              "        text-align: right;\n",
              "    }\n",
              "</style>\n",
              "<table border=\"1\" class=\"dataframe\">\n",
              "  <thead>\n",
              "    <tr>\n",
              "      <th></th>\n",
              "      <th colspan=\"8\" halign=\"left\">Compensation</th>\n",
              "    </tr>\n",
              "    <tr>\n",
              "      <th></th>\n",
              "      <th>count</th>\n",
              "      <th>mean</th>\n",
              "      <th>std</th>\n",
              "      <th>min</th>\n",
              "      <th>25%</th>\n",
              "      <th>50%</th>\n",
              "      <th>75%</th>\n",
              "      <th>max</th>\n",
              "    </tr>\n",
              "    <tr>\n",
              "      <th>Education</th>\n",
              "      <th></th>\n",
              "      <th></th>\n",
              "      <th></th>\n",
              "      <th></th>\n",
              "      <th></th>\n",
              "      <th></th>\n",
              "      <th></th>\n",
              "      <th></th>\n",
              "    </tr>\n",
              "  </thead>\n",
              "  <tbody>\n",
              "    <tr>\n",
              "      <th>Bachelor’s degree</th>\n",
              "      <td>4777.0</td>\n",
              "      <td>35578.291815</td>\n",
              "      <td>89382.060777</td>\n",
              "      <td>1000.0</td>\n",
              "      <td>1000.0</td>\n",
              "      <td>7500.0</td>\n",
              "      <td>40000.0</td>\n",
              "      <td>1000000.0</td>\n",
              "    </tr>\n",
              "    <tr>\n",
              "      <th>Doctoral degree</th>\n",
              "      <td>2217.0</td>\n",
              "      <td>70641.181777</td>\n",
              "      <td>117160.947589</td>\n",
              "      <td>1000.0</td>\n",
              "      <td>4000.0</td>\n",
              "      <td>40000.0</td>\n",
              "      <td>90000.0</td>\n",
              "      <td>1000000.0</td>\n",
              "    </tr>\n",
              "    <tr>\n",
              "      <th>Master’s degree</th>\n",
              "      <td>6799.0</td>\n",
              "      <td>52706.868657</td>\n",
              "      <td>90928.786678</td>\n",
              "      <td>1000.0</td>\n",
              "      <td>3000.0</td>\n",
              "      <td>25000.0</td>\n",
              "      <td>70000.0</td>\n",
              "      <td>1000000.0</td>\n",
              "    </tr>\n",
              "  </tbody>\n",
              "</table>\n",
              "</div>\n",
              "      <button class=\"colab-df-convert\" onclick=\"convertToInteractive('df-96e85543-2e70-42a0-8595-f3f9fa924474')\"\n",
              "              title=\"Convert this dataframe to an interactive table.\"\n",
              "              style=\"display:none;\">\n",
              "        \n",
              "  <svg xmlns=\"http://www.w3.org/2000/svg\" height=\"24px\"viewBox=\"0 0 24 24\"\n",
              "       width=\"24px\">\n",
              "    <path d=\"M0 0h24v24H0V0z\" fill=\"none\"/>\n",
              "    <path d=\"M18.56 5.44l.94 2.06.94-2.06 2.06-.94-2.06-.94-.94-2.06-.94 2.06-2.06.94zm-11 1L8.5 8.5l.94-2.06 2.06-.94-2.06-.94L8.5 2.5l-.94 2.06-2.06.94zm10 10l.94 2.06.94-2.06 2.06-.94-2.06-.94-.94-2.06-.94 2.06-2.06.94z\"/><path d=\"M17.41 7.96l-1.37-1.37c-.4-.4-.92-.59-1.43-.59-.52 0-1.04.2-1.43.59L10.3 9.45l-7.72 7.72c-.78.78-.78 2.05 0 2.83L4 21.41c.39.39.9.59 1.41.59.51 0 1.02-.2 1.41-.59l7.78-7.78 2.81-2.81c.8-.78.8-2.07 0-2.86zM5.41 20L4 18.59l7.72-7.72 1.47 1.35L5.41 20z\"/>\n",
              "  </svg>\n",
              "      </button>\n",
              "      \n",
              "  <style>\n",
              "    .colab-df-container {\n",
              "      display:flex;\n",
              "      flex-wrap:wrap;\n",
              "      gap: 12px;\n",
              "    }\n",
              "\n",
              "    .colab-df-convert {\n",
              "      background-color: #E8F0FE;\n",
              "      border: none;\n",
              "      border-radius: 50%;\n",
              "      cursor: pointer;\n",
              "      display: none;\n",
              "      fill: #1967D2;\n",
              "      height: 32px;\n",
              "      padding: 0 0 0 0;\n",
              "      width: 32px;\n",
              "    }\n",
              "\n",
              "    .colab-df-convert:hover {\n",
              "      background-color: #E2EBFA;\n",
              "      box-shadow: 0px 1px 2px rgba(60, 64, 67, 0.3), 0px 1px 3px 1px rgba(60, 64, 67, 0.15);\n",
              "      fill: #174EA6;\n",
              "    }\n",
              "\n",
              "    [theme=dark] .colab-df-convert {\n",
              "      background-color: #3B4455;\n",
              "      fill: #D2E3FC;\n",
              "    }\n",
              "\n",
              "    [theme=dark] .colab-df-convert:hover {\n",
              "      background-color: #434B5C;\n",
              "      box-shadow: 0px 1px 3px 1px rgba(0, 0, 0, 0.15);\n",
              "      filter: drop-shadow(0px 1px 2px rgba(0, 0, 0, 0.3));\n",
              "      fill: #FFFFFF;\n",
              "    }\n",
              "  </style>\n",
              "\n",
              "      <script>\n",
              "        const buttonEl =\n",
              "          document.querySelector('#df-96e85543-2e70-42a0-8595-f3f9fa924474 button.colab-df-convert');\n",
              "        buttonEl.style.display =\n",
              "          google.colab.kernel.accessAllowed ? 'block' : 'none';\n",
              "\n",
              "        async function convertToInteractive(key) {\n",
              "          const element = document.querySelector('#df-96e85543-2e70-42a0-8595-f3f9fa924474');\n",
              "          const dataTable =\n",
              "            await google.colab.kernel.invokeFunction('convertToInteractive',\n",
              "                                                     [key], {});\n",
              "          if (!dataTable) return;\n",
              "\n",
              "          const docLinkHtml = 'Like what you see? Visit the ' +\n",
              "            '<a target=\"_blank\" href=https://colab.research.google.com/notebooks/data_table.ipynb>data table notebook</a>'\n",
              "            + ' to learn more about interactive tables.';\n",
              "          element.innerHTML = '';\n",
              "          dataTable['output_type'] = 'display_data';\n",
              "          await google.colab.output.renderOutput(dataTable, element);\n",
              "          const docLink = document.createElement('div');\n",
              "          docLink.innerHTML = docLinkHtml;\n",
              "          element.appendChild(docLink);\n",
              "        }\n",
              "      </script>\n",
              "    </div>\n",
              "  </div>\n",
              "  "
            ]
          },
          "metadata": {},
          "execution_count": 26
        }
      ]
    },
    {
      "cell_type": "markdown",
      "source": [
        "The null hypothesis for our research objective is there is no difference of the expected salary between educational levels ( μ1  =  μ2 = $μ_3$, where  μ1, μ2, $\\mu_3$ represents the population mean of salary on Bachelor's Degree, Master's Degree and Doctoral Degree respectively) , while the alternative hypothesis is at least one group has a different mean.\n",
        "\n",
        "To examine our hypothesis, I performed a one-way ANOVA test since ANOVA is typically used for more than two independent groups using F distribution. The result is shown below. The result showed the p-value is smaller than 0.05, which indicates it is statistically significant and we should reject the null hypothesis."
      ],
      "metadata": {
        "id": "MZjA_DjzbFfl"
      }
    },
    {
      "cell_type": "code",
      "source": [
        "#Table6\n",
        "# apply one-way anova test\n",
        "from scipy.stats import f_oneway\n",
        "\n",
        "fe, pe = f_oneway(bachelor_salary, master_salary, doctoral_salary)\n",
        "print (\"one-way anova: f = %g  p = %g\" % (fe, pe))"
      ],
      "metadata": {
        "colab": {
          "base_uri": "https://localhost:8080/"
        },
        "id": "KeSU6_zzX98i",
        "outputId": "3ed0f835-7ba4-4946-ddf0-6d8e5a855468"
      },
      "execution_count": null,
      "outputs": [
        {
          "output_type": "stream",
          "name": "stdout",
          "text": [
            "one-way anova: f = 109.758  p = 5.1077e-48\n"
          ]
        }
      ]
    },
    {
      "cell_type": "markdown",
      "source": [
        "Bootstapping is also worked here. The bootstrapped methods are similar to the one we conducted in the previous t-test, the only difference is the sample size I chose for Bachelor's Degree is 400, for Master's Degree is 200 and for Doctoral Degree is 600. All the bootstrapped samples passed the Shapiro test since the p-values are smaller than 0.05, which indicates it is statistically significant."
      ],
      "metadata": {
        "id": "tUq65ITYcoyc"
      }
    },
    {
      "cell_type": "code",
      "source": [
        "random.seed(500)\n",
        "# bootstrapped for the bachelor with sample size = 400 on 1000 iterations. \n",
        "# bootstrapped for the master with sample size = 200 on 1000 iterations. \n",
        "# bootstrapped for the doctoral with sample size = 600 on 1000 iterations. \n",
        "\n",
        "boot_mean_b = []\n",
        "boot_mean_m = []\n",
        "boot_mean_d = []\n",
        "boot_mean_diff_bm = []\n",
        "boot_mean_diff_md = []\n",
        "boot_mean_diff_bd = []\n",
        "\n",
        "for i in range(1000):\n",
        "  boot_sample_ba = bachelor_salary.sample(n = 400, replace = True)\n",
        "  boot_sample_ma = master_salary.sample(n = 200, replace = True)\n",
        "  boot_sample_do = doctoral_salary.sample(n = 600, replace = True)\n",
        "\n",
        "  boot_mean_ba = boot_sample_ba.mean()\n",
        "  boot_mean_ma = boot_sample_ma.mean()\n",
        "  boot_mean_do = boot_sample_do.mean()\n",
        "\n",
        "  boot_mean_b.append(boot_mean_ba)\n",
        "  boot_mean_m.append(boot_mean_ma)\n",
        "  boot_mean_d.append(boot_mean_do)\n",
        "\n",
        "  boot_mean_diff_bm.append(abs(boot_mean_ba - boot_mean_ma))\n",
        "  boot_mean_diff_md.append(abs(boot_mean_ma - boot_mean_do))\n",
        "  boot_mean_diff_bd.append(abs(boot_mean_ba - boot_mean_do))"
      ],
      "metadata": {
        "id": "y2Qedan7ckGj"
      },
      "execution_count": null,
      "outputs": []
    },
    {
      "cell_type": "code",
      "source": [
        "#Table7\n",
        "shapiro_test_b = stats.shapiro(boot_mean_b)\n",
        "shapiro_test_m = stats.shapiro(boot_mean_m)\n",
        "shapiro_test_d = stats.shapiro(boot_mean_d)\n",
        "print(shapiro_test_b.pvalue, shapiro_test_m.pvalue, shapiro_test_d.pvalue)"
      ],
      "metadata": {
        "colab": {
          "base_uri": "https://localhost:8080/"
        },
        "id": "sacNpQuGeyRJ",
        "outputId": "a5f42507-f167-47de-949d-2495d2a0ed01"
      },
      "execution_count": null,
      "outputs": [
        {
          "output_type": "stream",
          "name": "stdout",
          "text": [
            "3.8316053108111703e-10 1.837392915149394e-06 0.02928406186401844\n"
          ]
        }
      ]
    },
    {
      "cell_type": "markdown",
      "source": [
        "The bootstrapped distributions showed all distributions are normally distributed. Besides, the center of Bachelor is around 35000 while Master's is around 52000 and Doctoral is around 72000. The yearly compensation of the Doctoral is higher than the Master higher than the Bachelor based on the overall trend of the distributions."
      ],
      "metadata": {
        "id": "vCAyGRBtfaxv"
      }
    },
    {
      "cell_type": "code",
      "source": [
        "#Figure8\n",
        "figure(figsize=(7, 4))\n",
        "\n",
        "# plot the bootstrapped distributions\n",
        "plt.hist(boot_mean_b, edgecolor='black', label = \"Bachelor\")\n",
        "plt.hist(boot_mean_m, edgecolor='black',label = \"Master\")\n",
        "plt.hist(boot_mean_d, edgecolor='black',label = \"Doctoral\")\n",
        "\n",
        "plt.title(\"Bootstrapped Distributions\")\n",
        "plt.legend(loc='upper right')"
      ],
      "metadata": {
        "colab": {
          "base_uri": "https://localhost:8080/",
          "height": 298
        },
        "id": "koLhnjeNfHj-",
        "outputId": "6cb79c6c-f2fc-4317-e4e2-9703f298847c"
      },
      "execution_count": null,
      "outputs": [
        {
          "output_type": "execute_result",
          "data": {
            "text/plain": [
              "<matplotlib.legend.Legend at 0x7fe008b4d5e0>"
            ]
          },
          "metadata": {},
          "execution_count": 34
        },
        {
          "output_type": "display_data",
          "data": {
            "text/plain": [
              "<Figure size 504x288 with 1 Axes>"
            ],
            "image/png": "[encoded data removed]"
          },
          "metadata": {
            "needs_background": "light"
          }
        }
      ]
    },
    {
      "cell_type": "markdown",
      "source": [
        "Besides, the distribution of the difference in Means showed the centers of difference between Bachelor-Master and Master-Doctoral locate near around 18000, while the center of difference of Bachelor-Doctoral locates at around 35000."
      ],
      "metadata": {
        "id": "-aPmndh7gyaz"
      }
    },
    {
      "cell_type": "code",
      "source": [
        "#Figure9\n",
        "figure(figsize=(7, 4))\n",
        "\n",
        "# plot the bootstrapped distributions of difference\n",
        "plt.hist(boot_mean_diff_bm, alpha=0.5, edgecolor='black', label = \"Bachelor-Master\")\n",
        "plt.hist(boot_mean_diff_md, alpha=0.5, edgecolor='black',label = \"Master-Doctoral\")\n",
        "plt.hist(boot_mean_diff_bd, alpha=0.5, edgecolor='black',label = \"Bachelor-Doctoral\")\n",
        "plt.title(\"Distribution of the Difference in Means.\")\n",
        "plt.legend(loc='upper right')"
      ],
      "metadata": {
        "colab": {
          "base_uri": "https://localhost:8080/",
          "height": 298
        },
        "id": "J_ERhdyzgPgY",
        "outputId": "377603e2-7a18-432c-d221-4aa84f3cb6ef"
      },
      "execution_count": null,
      "outputs": [
        {
          "output_type": "execute_result",
          "data": {
            "text/plain": [
              "<matplotlib.legend.Legend at 0x7fe008e79ac0>"
            ]
          },
          "metadata": {},
          "execution_count": 36
        },
        {
          "output_type": "display_data",
          "data": {
            "text/plain": [
              "<Figure size 504x288 with 1 Axes>"
            ],
            "image/png": "[encoded data removed]"
          },
          "metadata": {
            "needs_background": "light"
          }
        }
      ]
    },
    {
      "cell_type": "markdown",
      "source": [
        "The one-way ANOVA result on bootstrapped samples showed the p-value is also smaller than 0.05. Thus, we could conclude it is statistically significant and conclude the same result as the non-bootstrapped population."
      ],
      "metadata": {
        "id": "LJdaR1UpiPt5"
      }
    },
    {
      "cell_type": "code",
      "source": [
        "#Table8\n",
        "# one-way anova on bootstapped samples\n",
        "feb, peb = f_oneway(boot_mean_b, boot_mean_m, boot_mean_d)\n",
        "print (\"one-way anova: f = %g  p = %g\" % (feb, peb))"
      ],
      "metadata": {
        "colab": {
          "base_uri": "https://localhost:8080/"
        },
        "id": "XViMWqaEh2Ac",
        "outputId": "ab84956b-10e2-4a61-b8ca-1378284164f9"
      },
      "execution_count": null,
      "outputs": [
        {
          "output_type": "stream",
          "name": "stdout",
          "text": [
            "one-way anova: f = 11537.9  p = 0\n"
          ]
        }
      ]
    }
  ]
}