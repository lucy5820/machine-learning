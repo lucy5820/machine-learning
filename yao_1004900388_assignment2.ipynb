{
  "nbformat": 4,
  "nbformat_minor": 0,
  "metadata": {
    "colab": {
      "provenance": []
    },
    "kernelspec": {
      "name": "python3",
      "display_name": "Python 3"
    },
    "language_info": {
      "name": "python"
    }
  },
  "cells": [
    {
      "cell_type": "markdown",
      "source": [
        "## MIE1624-Assignment2"
      ],
      "metadata": {
        "id": "glLv6tMA72uu"
      }
    },
    {
      "cell_type": "markdown",
      "source": [
        "In recent years, with the development of data science, more and more people have started to pay attention to this field. This report aims to build ordinal classification model to predict a survey respondent's current yearly compensation bucket in Data Science and Machine Learning. All analyses in this study are based on the survey results of the \"2022 Kaggle Machine Learning & Data Science Survey.\""
      ],
      "metadata": {
        "id": "JXuSPI9h8UST"
      }
    },
    {
      "cell_type": "markdown",
      "source": [
        "### Q1 - Data Cleaning"
      ],
      "metadata": {
        "id": "SoJbELpI76en"
      }
    },
    {
      "cell_type": "markdown",
      "source": [
        "In the raw dataset, we could observe that several values are missing and some features are categorical. Hence I cleaned the dataset first for data analyzation"
      ],
      "metadata": {
        "id": "8Ad95PM6A-je"
      }
    },
    {
      "cell_type": "code",
      "source": [
        "# import libraries\n",
        "import pandas as pd\n",
        "import matplotlib.pyplot as plt\n",
        "import scipy\n",
        "from scipy import stats\n",
        "import random\n",
        "import numpy as np\n",
        "\n",
        "from sklearn import preprocessing\n",
        "from sklearn.preprocessing import OrdinalEncoder"
      ],
      "metadata": {
        "id": "zwr4us-I77wr"
      },
      "execution_count": null,
      "outputs": []
    },
    {
      "cell_type": "code",
      "execution_count": null,
      "metadata": {
        "colab": {
          "base_uri": "https://localhost:8080/"
        },
        "id": "JlUjy2QU71WM",
        "outputId": "9659243a-5a67-467c-abd8-146be240407b"
      },
      "outputs": [
        {
          "output_type": "stream",
          "name": "stderr",
          "text": [
            "/usr/local/lib/python3.9/dist-packages/IPython/core/interactiveshell.py:3326: DtypeWarning: Columns (0) have mixed types.Specify dtype option on import or set low_memory=False.\n",
            "  exec(code_obj, self.user_global_ns, self.user_ns)\n"
          ]
        }
      ],
      "source": [
        "# read dataset\n",
        "data = pd.read_csv(\"clean_kaggle_data_2022.csv\", encoding = \"ISO-8859-1\")"
      ]
    },
    {
      "cell_type": "code",
      "source": [
        "data.head()"
      ],
      "metadata": {
        "colab": {
          "base_uri": "https://localhost:8080/",
          "height": 739
        },
        "id": "LhKHTiqzCGJk",
        "outputId": "c28b33a5-4183-4804-a1be-f3dca9ee6cc1"
      },
      "execution_count": null,
      "outputs": [
        {
          "output_type": "execute_result",
          "data": {
            "text/plain": [
              "   Duration (in seconds)                           Q2  \\\n",
              "0  Duration (in seconds)  What is your age (# years)?   \n",
              "1                    851                        55-59   \n",
              "2                    501                        30-34   \n",
              "3                    787                          70+   \n",
              "4                   1132                        40-44   \n",
              "\n",
              "                                       Q3  \\\n",
              "0  What is your gender? - Selected Choice   \n",
              "1                                     Man   \n",
              "2                                     Man   \n",
              "3                                     Man   \n",
              "4                                     Man   \n",
              "\n",
              "                                          Q4  \\\n",
              "0  In which country do you currently reside?   \n",
              "1                                     France   \n",
              "2                                    Germany   \n",
              "3                                  Australia   \n",
              "4                   United States of America   \n",
              "\n",
              "                                                  Q5  \\\n",
              "0  Are you currently a student? (high school, uni...   \n",
              "1                                                 No   \n",
              "2                                                 No   \n",
              "3                                                 No   \n",
              "4                                                 No   \n",
              "\n",
              "                                                Q6_1  \\\n",
              "0  On which platforms have you begun or completed...   \n",
              "1                                           Coursera   \n",
              "2                                           Coursera   \n",
              "3                                           Coursera   \n",
              "4                                           Coursera   \n",
              "\n",
              "                                                Q6_2  \\\n",
              "0  On which platforms have you begun or completed...   \n",
              "1                                                NaN   \n",
              "2                                                edX   \n",
              "3                                                NaN   \n",
              "4                                                NaN   \n",
              "\n",
              "                                                Q6_3  \\\n",
              "0  On which platforms have you begun or completed...   \n",
              "1                               Kaggle Learn Courses   \n",
              "2                                                NaN   \n",
              "3                               Kaggle Learn Courses   \n",
              "4                               Kaggle Learn Courses   \n",
              "\n",
              "                                                Q6_4  \\\n",
              "0  On which platforms have you begun or completed...   \n",
              "1                                                NaN   \n",
              "2                                                NaN   \n",
              "3                                                NaN   \n",
              "4                                                NaN   \n",
              "\n",
              "                                                Q6_5  ...  \\\n",
              "0  On which platforms have you begun or completed...  ...   \n",
              "1                                                NaN  ...   \n",
              "2                                                NaN  ...   \n",
              "3                                                NaN  ...   \n",
              "4                                            Fast.ai  ...   \n",
              "\n",
              "                                               Q44_5  \\\n",
              "0  Who/what are your favorite media sources that ...   \n",
              "1  Course Forums (forums.fast.ai, Coursera forums...   \n",
              "2                                                NaN   \n",
              "3                                                NaN   \n",
              "4                                                NaN   \n",
              "\n",
              "                                               Q44_6  \\\n",
              "0  Who/what are your favorite media sources that ...   \n",
              "1                                                NaN   \n",
              "2  YouTube (Kaggle YouTube, Cloud AI Adventures, ...   \n",
              "3                                                NaN   \n",
              "4                                                NaN   \n",
              "\n",
              "                                               Q44_7  \\\n",
              "0  Who/what are your favorite media sources that ...   \n",
              "1                                                NaN   \n",
              "2                                                NaN   \n",
              "3  Podcasts (Chai Time Data Science, OEEReilly...   \n",
              "4  Podcasts (Chai Time Data Science, OEEReilly...   \n",
              "\n",
              "                                               Q44_8  \\\n",
              "0  Who/what are your favorite media sources that ...   \n",
              "1  Blogs (Towards Data Science, Analytics Vidhya,...   \n",
              "2  Blogs (Towards Data Science, Analytics Vidhya,...   \n",
              "3                                                NaN   \n",
              "4  Blogs (Towards Data Science, Analytics Vidhya,...   \n",
              "\n",
              "                                               Q44_9  \\\n",
              "0  Who/what are your favorite media sources that ...   \n",
              "1                                                NaN   \n",
              "2                                                NaN   \n",
              "3                                                NaN   \n",
              "4                                                NaN   \n",
              "\n",
              "                                              Q44_10  \\\n",
              "0  Who/what are your favorite media sources that ...   \n",
              "1                                                NaN   \n",
              "2                                                NaN   \n",
              "3                                                NaN   \n",
              "4                                                NaN   \n",
              "\n",
              "                                              Q44_11  \\\n",
              "0  Who/what are your favorite media sources that ...   \n",
              "1                                                NaN   \n",
              "2                                                NaN   \n",
              "3                                                NaN   \n",
              "4                                                NaN   \n",
              "\n",
              "                                              Q44_12 Q29_Encoded  \\\n",
              "0  Who/what are your favorite media sources that ...         NaN   \n",
              "1                                                NaN         2.0   \n",
              "2                                                NaN        10.0   \n",
              "3                                                NaN        10.0   \n",
              "4                                                NaN        13.0   \n",
              "\n",
              "       Q29_buckets  \n",
              "0              NaN  \n",
              "1    20,000-29,999  \n",
              "2  100,000-124,999  \n",
              "3  100,000-124,999  \n",
              "4  200,000-299,999  \n",
              "\n",
              "[5 rows x 298 columns]"
            ],
            "text/html": [
              "\n",
              "  <div id=\"df-47167bf4-fc83-455f-a35d-145cf1414c2c\">\n",
              "    <div class=\"colab-df-container\">\n",
              "      <div>\n",
              "<style scoped>\n",
              "    .dataframe tbody tr th:only-of-type {\n",
              "        vertical-align: middle;\n",
              "    }\n",
              "\n",
              "    .dataframe tbody tr th {\n",
              "        vertical-align: top;\n",
              "    }\n",
              "\n",
              "    .dataframe thead th {\n",
              "        text-align: right;\n",
              "    }\n",
              "</style>\n",
              "<table border=\"1\" class=\"dataframe\">\n",
              "  <thead>\n",
              "    <tr style=\"text-align: right;\">\n",
              "      <th></th>\n",
              "      <th>Duration (in seconds)</th>\n",
              "      <th>Q2</th>\n",
              "      <th>Q3</th>\n",
              "      <th>Q4</th>\n",
              "      <th>Q5</th>\n",
              "      <th>Q6_1</th>\n",
              "      <th>Q6_2</th>\n",
              "      <th>Q6_3</th>\n",
              "      <th>Q6_4</th>\n",
              "      <th>Q6_5</th>\n",
              "      <th>...</th>\n",
              "      <th>Q44_5</th>\n",
              "      <th>Q44_6</th>\n",
              "      <th>Q44_7</th>\n",
              "      <th>Q44_8</th>\n",
              "      <th>Q44_9</th>\n",
              "      <th>Q44_10</th>\n",
              "      <th>Q44_11</th>\n",
              "      <th>Q44_12</th>\n",
              "      <th>Q29_Encoded</th>\n",
              "      <th>Q29_buckets</th>\n",
              "    </tr>\n",
              "  </thead>\n",
              "  <tbody>\n",
              "    <tr>\n",
              "      <th>0</th>\n",
              "      <td>Duration (in seconds)</td>\n",
              "      <td>What is your age (# years)?</td>\n",
              "      <td>What is your gender? - Selected Choice</td>\n",
              "      <td>In which country do you currently reside?</td>\n",
              "      <td>Are you currently a student? (high school, uni...</td>\n",
              "      <td>On which platforms have you begun or completed...</td>\n",
              "      <td>On which platforms have you begun or completed...</td>\n",
              "      <td>On which platforms have you begun or completed...</td>\n",
              "      <td>On which platforms have you begun or completed...</td>\n",
              "      <td>On which platforms have you begun or completed...</td>\n",
              "      <td>...</td>\n",
              "      <td>Who/what are your favorite media sources that ...</td>\n",
              "      <td>Who/what are your favorite media sources that ...</td>\n",
              "      <td>Who/what are your favorite media sources that ...</td>\n",
              "      <td>Who/what are your favorite media sources that ...</td>\n",
              "      <td>Who/what are your favorite media sources that ...</td>\n",
              "      <td>Who/what are your favorite media sources that ...</td>\n",
              "      <td>Who/what are your favorite media sources that ...</td>\n",
              "      <td>Who/what are your favorite media sources that ...</td>\n",
              "      <td>NaN</td>\n",
              "      <td>NaN</td>\n",
              "    </tr>\n",
              "    <tr>\n",
              "      <th>1</th>\n",
              "      <td>851</td>\n",
              "      <td>55-59</td>\n",
              "      <td>Man</td>\n",
              "      <td>France</td>\n",
              "      <td>No</td>\n",
              "      <td>Coursera</td>\n",
              "      <td>NaN</td>\n",
              "      <td>Kaggle Learn Courses</td>\n",
              "      <td>NaN</td>\n",
              "      <td>NaN</td>\n",
              "      <td>...</td>\n",
              "      <td>Course Forums (forums.fast.ai, Coursera forums...</td>\n",
              "      <td>NaN</td>\n",
              "      <td>NaN</td>\n",
              "      <td>Blogs (Towards Data Science, Analytics Vidhya,...</td>\n",
              "      <td>NaN</td>\n",
              "      <td>NaN</td>\n",
              "      <td>NaN</td>\n",
              "      <td>NaN</td>\n",
              "      <td>2.0</td>\n",
              "      <td>20,000-29,999</td>\n",
              "    </tr>\n",
              "    <tr>\n",
              "      <th>2</th>\n",
              "      <td>501</td>\n",
              "      <td>30-34</td>\n",
              "      <td>Man</td>\n",
              "      <td>Germany</td>\n",
              "      <td>No</td>\n",
              "      <td>Coursera</td>\n",
              "      <td>edX</td>\n",
              "      <td>NaN</td>\n",
              "      <td>NaN</td>\n",
              "      <td>NaN</td>\n",
              "      <td>...</td>\n",
              "      <td>NaN</td>\n",
              "      <td>YouTube (Kaggle YouTube, Cloud AI Adventures, ...</td>\n",
              "      <td>NaN</td>\n",
              "      <td>Blogs (Towards Data Science, Analytics Vidhya,...</td>\n",
              "      <td>NaN</td>\n",
              "      <td>NaN</td>\n",
              "      <td>NaN</td>\n",
              "      <td>NaN</td>\n",
              "      <td>10.0</td>\n",
              "      <td>100,000-124,999</td>\n",
              "    </tr>\n",
              "    <tr>\n",
              "      <th>3</th>\n",
              "      <td>787</td>\n",
              "      <td>70+</td>\n",
              "      <td>Man</td>\n",
              "      <td>Australia</td>\n",
              "      <td>No</td>\n",
              "      <td>Coursera</td>\n",
              "      <td>NaN</td>\n",
              "      <td>Kaggle Learn Courses</td>\n",
              "      <td>NaN</td>\n",
              "      <td>NaN</td>\n",
              "      <td>...</td>\n",
              "      <td>NaN</td>\n",
              "      <td>NaN</td>\n",
              "      <td>Podcasts (Chai Time Data Science, OEEReilly...</td>\n",
              "      <td>NaN</td>\n",
              "      <td>NaN</td>\n",
              "      <td>NaN</td>\n",
              "      <td>NaN</td>\n",
              "      <td>NaN</td>\n",
              "      <td>10.0</td>\n",
              "      <td>100,000-124,999</td>\n",
              "    </tr>\n",
              "    <tr>\n",
              "      <th>4</th>\n",
              "      <td>1132</td>\n",
              "      <td>40-44</td>\n",
              "      <td>Man</td>\n",
              "      <td>United States of America</td>\n",
              "      <td>No</td>\n",
              "      <td>Coursera</td>\n",
              "      <td>NaN</td>\n",
              "      <td>Kaggle Learn Courses</td>\n",
              "      <td>NaN</td>\n",
              "      <td>Fast.ai</td>\n",
              "      <td>...</td>\n",
              "      <td>NaN</td>\n",
              "      <td>NaN</td>\n",
              "      <td>Podcasts (Chai Time Data Science, OEEReilly...</td>\n",
              "      <td>Blogs (Towards Data Science, Analytics Vidhya,...</td>\n",
              "      <td>NaN</td>\n",
              "      <td>NaN</td>\n",
              "      <td>NaN</td>\n",
              "      <td>NaN</td>\n",
              "      <td>13.0</td>\n",
              "      <td>200,000-299,999</td>\n",
              "    </tr>\n",
              "  </tbody>\n",
              "</table>\n",
              "<p>5 rows × 298 columns</p>\n",
              "</div>\n",
              "      <button class=\"colab-df-convert\" onclick=\"convertToInteractive('df-47167bf4-fc83-455f-a35d-145cf1414c2c')\"\n",
              "              title=\"Convert this dataframe to an interactive table.\"\n",
              "              style=\"display:none;\">\n",
              "        \n",
              "  <svg xmlns=\"http://www.w3.org/2000/svg\" height=\"24px\"viewBox=\"0 0 24 24\"\n",
              "       width=\"24px\">\n",
              "    <path d=\"M0 0h24v24H0V0z\" fill=\"none\"/>\n",
              "    <path d=\"M18.56 5.44l.94 2.06.94-2.06 2.06-.94-2.06-.94-.94-2.06-.94 2.06-2.06.94zm-11 1L8.5 8.5l.94-2.06 2.06-.94-2.06-.94L8.5 2.5l-.94 2.06-2.06.94zm10 10l.94 2.06.94-2.06 2.06-.94-2.06-.94-.94-2.06-.94 2.06-2.06.94z\"/><path d=\"M17.41 7.96l-1.37-1.37c-.4-.4-.92-.59-1.43-.59-.52 0-1.04.2-1.43.59L10.3 9.45l-7.72 7.72c-.78.78-.78 2.05 0 2.83L4 21.41c.39.39.9.59 1.41.59.51 0 1.02-.2 1.41-.59l7.78-7.78 2.81-2.81c.8-.78.8-2.07 0-2.86zM5.41 20L4 18.59l7.72-7.72 1.47 1.35L5.41 20z\"/>\n",
              "  </svg>\n",
              "      </button>\n",
              "      \n",
              "  <style>\n",
              "    .colab-df-container {\n",
              "      display:flex;\n",
              "      flex-wrap:wrap;\n",
              "      gap: 12px;\n",
              "    }\n",
              "\n",
              "    .colab-df-convert {\n",
              "      background-color: #E8F0FE;\n",
              "      border: none;\n",
              "      border-radius: 50%;\n",
              "      cursor: pointer;\n",
              "      display: none;\n",
              "      fill: #1967D2;\n",
              "      height: 32px;\n",
              "      padding: 0 0 0 0;\n",
              "      width: 32px;\n",
              "    }\n",
              "\n",
              "    .colab-df-convert:hover {\n",
              "      background-color: #E2EBFA;\n",
              "      box-shadow: 0px 1px 2px rgba(60, 64, 67, 0.3), 0px 1px 3px 1px rgba(60, 64, 67, 0.15);\n",
              "      fill: #174EA6;\n",
              "    }\n",
              "\n",
              "    [theme=dark] .colab-df-convert {\n",
              "      background-color: #3B4455;\n",
              "      fill: #D2E3FC;\n",
              "    }\n",
              "\n",
              "    [theme=dark] .colab-df-convert:hover {\n",
              "      background-color: #434B5C;\n",
              "      box-shadow: 0px 1px 3px 1px rgba(0, 0, 0, 0.15);\n",
              "      filter: drop-shadow(0px 1px 2px rgba(0, 0, 0, 0.3));\n",
              "      fill: #FFFFFF;\n",
              "    }\n",
              "  </style>\n",
              "\n",
              "      <script>\n",
              "        const buttonEl =\n",
              "          document.querySelector('#df-47167bf4-fc83-455f-a35d-145cf1414c2c button.colab-df-convert');\n",
              "        buttonEl.style.display =\n",
              "          google.colab.kernel.accessAllowed ? 'block' : 'none';\n",
              "\n",
              "        async function convertToInteractive(key) {\n",
              "          const element = document.querySelector('#df-47167bf4-fc83-455f-a35d-145cf1414c2c');\n",
              "          const dataTable =\n",
              "            await google.colab.kernel.invokeFunction('convertToInteractive',\n",
              "                                                     [key], {});\n",
              "          if (!dataTable) return;\n",
              "\n",
              "          const docLinkHtml = 'Like what you see? Visit the ' +\n",
              "            '<a target=\"_blank\" href=https://colab.research.google.com/notebooks/data_table.ipynb>data table notebook</a>'\n",
              "            + ' to learn more about interactive tables.';\n",
              "          element.innerHTML = '';\n",
              "          dataTable['output_type'] = 'display_data';\n",
              "          await google.colab.output.renderOutput(dataTable, element);\n",
              "          const docLink = document.createElement('div');\n",
              "          docLink.innerHTML = docLinkHtml;\n",
              "          element.appendChild(docLink);\n",
              "        }\n",
              "      </script>\n",
              "    </div>\n",
              "  </div>\n",
              "  "
            ]
          },
          "metadata": {},
          "execution_count": 5
        }
      ]
    },
    {
      "cell_type": "code",
      "source": [
        "# remove the description row, the final column(Q29_buckets), and Q29\n",
        "# we remove the final column since Q29_encoded is obtained by label encoding Q29_buckets\n",
        "newdata = data.iloc[1:, :-1]\n",
        "newdata = newdata.drop(columns=['Q29'])\n",
        "newdata.head()"
      ],
      "metadata": {
        "colab": {
          "base_uri": "https://localhost:8080/",
          "height": 722
        },
        "id": "Tb6o_UBeOpcV",
        "outputId": "eae88d00-0873-488f-a779-afff95989841"
      },
      "execution_count": null,
      "outputs": [
        {
          "output_type": "execute_result",
          "data": {
            "text/plain": [
              "  Duration (in seconds)     Q2   Q3                        Q4  Q5      Q6_1  \\\n",
              "1                   851  55-59  Man                    France  No  Coursera   \n",
              "2                   501  30-34  Man                   Germany  No  Coursera   \n",
              "3                   787    70+  Man                 Australia  No  Coursera   \n",
              "4                  1132  40-44  Man  United States of America  No  Coursera   \n",
              "5                   679  40-44  Man  United States of America  No  Coursera   \n",
              "\n",
              "  Q6_2                  Q6_3 Q6_4     Q6_5  ...  \\\n",
              "1  NaN  Kaggle Learn Courses  NaN      NaN  ...   \n",
              "2  edX                   NaN  NaN      NaN  ...   \n",
              "3  NaN  Kaggle Learn Courses  NaN      NaN  ...   \n",
              "4  NaN  Kaggle Learn Courses  NaN  Fast.ai  ...   \n",
              "5  NaN                   NaN  NaN      NaN  ...   \n",
              "\n",
              "                             Q44_4  \\\n",
              "1  Kaggle (notebooks, forums, etc)   \n",
              "2                              NaN   \n",
              "3                              NaN   \n",
              "4                              NaN   \n",
              "5                              NaN   \n",
              "\n",
              "                                               Q44_5  \\\n",
              "1  Course Forums (forums.fast.ai, Coursera forums...   \n",
              "2                                                NaN   \n",
              "3                                                NaN   \n",
              "4                                                NaN   \n",
              "5                                                NaN   \n",
              "\n",
              "                                               Q44_6  \\\n",
              "1                                                NaN   \n",
              "2  YouTube (Kaggle YouTube, Cloud AI Adventures, ...   \n",
              "3                                                NaN   \n",
              "4                                                NaN   \n",
              "5                                                NaN   \n",
              "\n",
              "                                               Q44_7  \\\n",
              "1                                                NaN   \n",
              "2                                                NaN   \n",
              "3  Podcasts (Chai Time Data Science, OEEReilly...   \n",
              "4  Podcasts (Chai Time Data Science, OEEReilly...   \n",
              "5  Podcasts (Chai Time Data Science, OEEReilly...   \n",
              "\n",
              "                                               Q44_8  \\\n",
              "1  Blogs (Towards Data Science, Analytics Vidhya,...   \n",
              "2  Blogs (Towards Data Science, Analytics Vidhya,...   \n",
              "3                                                NaN   \n",
              "4  Blogs (Towards Data Science, Analytics Vidhya,...   \n",
              "5  Blogs (Towards Data Science, Analytics Vidhya,...   \n",
              "\n",
              "                                               Q44_9 Q44_10 Q44_11 Q44_12  \\\n",
              "1                                                NaN    NaN    NaN    NaN   \n",
              "2                                                NaN    NaN    NaN    NaN   \n",
              "3                                                NaN    NaN    NaN    NaN   \n",
              "4                                                NaN    NaN    NaN    NaN   \n",
              "5  Journal Publications (peer-reviewed journals, ...    NaN    NaN    NaN   \n",
              "\n",
              "  Q29_Encoded  \n",
              "1         2.0  \n",
              "2        10.0  \n",
              "3        10.0  \n",
              "4        13.0  \n",
              "5        13.0  \n",
              "\n",
              "[5 rows x 296 columns]"
            ],
            "text/html": [
              "\n",
              "  <div id=\"df-71dc6792-aebd-4804-b8c6-46b2fce1be3a\">\n",
              "    <div class=\"colab-df-container\">\n",
              "      <div>\n",
              "<style scoped>\n",
              "    .dataframe tbody tr th:only-of-type {\n",
              "        vertical-align: middle;\n",
              "    }\n",
              "\n",
              "    .dataframe tbody tr th {\n",
              "        vertical-align: top;\n",
              "    }\n",
              "\n",
              "    .dataframe thead th {\n",
              "        text-align: right;\n",
              "    }\n",
              "</style>\n",
              "<table border=\"1\" class=\"dataframe\">\n",
              "  <thead>\n",
              "    <tr style=\"text-align: right;\">\n",
              "      <th></th>\n",
              "      <th>Duration (in seconds)</th>\n",
              "      <th>Q2</th>\n",
              "      <th>Q3</th>\n",
              "      <th>Q4</th>\n",
              "      <th>Q5</th>\n",
              "      <th>Q6_1</th>\n",
              "      <th>Q6_2</th>\n",
              "      <th>Q6_3</th>\n",
              "      <th>Q6_4</th>\n",
              "      <th>Q6_5</th>\n",
              "      <th>...</th>\n",
              "      <th>Q44_4</th>\n",
              "      <th>Q44_5</th>\n",
              "      <th>Q44_6</th>\n",
              "      <th>Q44_7</th>\n",
              "      <th>Q44_8</th>\n",
              "      <th>Q44_9</th>\n",
              "      <th>Q44_10</th>\n",
              "      <th>Q44_11</th>\n",
              "      <th>Q44_12</th>\n",
              "      <th>Q29_Encoded</th>\n",
              "    </tr>\n",
              "  </thead>\n",
              "  <tbody>\n",
              "    <tr>\n",
              "      <th>1</th>\n",
              "      <td>851</td>\n",
              "      <td>55-59</td>\n",
              "      <td>Man</td>\n",
              "      <td>France</td>\n",
              "      <td>No</td>\n",
              "      <td>Coursera</td>\n",
              "      <td>NaN</td>\n",
              "      <td>Kaggle Learn Courses</td>\n",
              "      <td>NaN</td>\n",
              "      <td>NaN</td>\n",
              "      <td>...</td>\n",
              "      <td>Kaggle (notebooks, forums, etc)</td>\n",
              "      <td>Course Forums (forums.fast.ai, Coursera forums...</td>\n",
              "      <td>NaN</td>\n",
              "      <td>NaN</td>\n",
              "      <td>Blogs (Towards Data Science, Analytics Vidhya,...</td>\n",
              "      <td>NaN</td>\n",
              "      <td>NaN</td>\n",
              "      <td>NaN</td>\n",
              "      <td>NaN</td>\n",
              "      <td>2.0</td>\n",
              "    </tr>\n",
              "    <tr>\n",
              "      <th>2</th>\n",
              "      <td>501</td>\n",
              "      <td>30-34</td>\n",
              "      <td>Man</td>\n",
              "      <td>Germany</td>\n",
              "      <td>No</td>\n",
              "      <td>Coursera</td>\n",
              "      <td>edX</td>\n",
              "      <td>NaN</td>\n",
              "      <td>NaN</td>\n",
              "      <td>NaN</td>\n",
              "      <td>...</td>\n",
              "      <td>NaN</td>\n",
              "      <td>NaN</td>\n",
              "      <td>YouTube (Kaggle YouTube, Cloud AI Adventures, ...</td>\n",
              "      <td>NaN</td>\n",
              "      <td>Blogs (Towards Data Science, Analytics Vidhya,...</td>\n",
              "      <td>NaN</td>\n",
              "      <td>NaN</td>\n",
              "      <td>NaN</td>\n",
              "      <td>NaN</td>\n",
              "      <td>10.0</td>\n",
              "    </tr>\n",
              "    <tr>\n",
              "      <th>3</th>\n",
              "      <td>787</td>\n",
              "      <td>70+</td>\n",
              "      <td>Man</td>\n",
              "      <td>Australia</td>\n",
              "      <td>No</td>\n",
              "      <td>Coursera</td>\n",
              "      <td>NaN</td>\n",
              "      <td>Kaggle Learn Courses</td>\n",
              "      <td>NaN</td>\n",
              "      <td>NaN</td>\n",
              "      <td>...</td>\n",
              "      <td>NaN</td>\n",
              "      <td>NaN</td>\n",
              "      <td>NaN</td>\n",
              "      <td>Podcasts (Chai Time Data Science, OEEReilly...</td>\n",
              "      <td>NaN</td>\n",
              "      <td>NaN</td>\n",
              "      <td>NaN</td>\n",
              "      <td>NaN</td>\n",
              "      <td>NaN</td>\n",
              "      <td>10.0</td>\n",
              "    </tr>\n",
              "    <tr>\n",
              "      <th>4</th>\n",
              "      <td>1132</td>\n",
              "      <td>40-44</td>\n",
              "      <td>Man</td>\n",
              "      <td>United States of America</td>\n",
              "      <td>No</td>\n",
              "      <td>Coursera</td>\n",
              "      <td>NaN</td>\n",
              "      <td>Kaggle Learn Courses</td>\n",
              "      <td>NaN</td>\n",
              "      <td>Fast.ai</td>\n",
              "      <td>...</td>\n",
              "      <td>NaN</td>\n",
              "      <td>NaN</td>\n",
              "      <td>NaN</td>\n",
              "      <td>Podcasts (Chai Time Data Science, OEEReilly...</td>\n",
              "      <td>Blogs (Towards Data Science, Analytics Vidhya,...</td>\n",
              "      <td>NaN</td>\n",
              "      <td>NaN</td>\n",
              "      <td>NaN</td>\n",
              "      <td>NaN</td>\n",
              "      <td>13.0</td>\n",
              "    </tr>\n",
              "    <tr>\n",
              "      <th>5</th>\n",
              "      <td>679</td>\n",
              "      <td>40-44</td>\n",
              "      <td>Man</td>\n",
              "      <td>United States of America</td>\n",
              "      <td>No</td>\n",
              "      <td>Coursera</td>\n",
              "      <td>NaN</td>\n",
              "      <td>NaN</td>\n",
              "      <td>NaN</td>\n",
              "      <td>NaN</td>\n",
              "      <td>...</td>\n",
              "      <td>NaN</td>\n",
              "      <td>NaN</td>\n",
              "      <td>NaN</td>\n",
              "      <td>Podcasts (Chai Time Data Science, OEEReilly...</td>\n",
              "      <td>Blogs (Towards Data Science, Analytics Vidhya,...</td>\n",
              "      <td>Journal Publications (peer-reviewed journals, ...</td>\n",
              "      <td>NaN</td>\n",
              "      <td>NaN</td>\n",
              "      <td>NaN</td>\n",
              "      <td>13.0</td>\n",
              "    </tr>\n",
              "  </tbody>\n",
              "</table>\n",
              "<p>5 rows × 296 columns</p>\n",
              "</div>\n",
              "      <button class=\"colab-df-convert\" onclick=\"convertToInteractive('df-71dc6792-aebd-4804-b8c6-46b2fce1be3a')\"\n",
              "              title=\"Convert this dataframe to an interactive table.\"\n",
              "              style=\"display:none;\">\n",
              "        \n",
              "  <svg xmlns=\"http://www.w3.org/2000/svg\" height=\"24px\"viewBox=\"0 0 24 24\"\n",
              "       width=\"24px\">\n",
              "    <path d=\"M0 0h24v24H0V0z\" fill=\"none\"/>\n",
              "    <path d=\"M18.56 5.44l.94 2.06.94-2.06 2.06-.94-2.06-.94-.94-2.06-.94 2.06-2.06.94zm-11 1L8.5 8.5l.94-2.06 2.06-.94-2.06-.94L8.5 2.5l-.94 2.06-2.06.94zm10 10l.94 2.06.94-2.06 2.06-.94-2.06-.94-.94-2.06-.94 2.06-2.06.94z\"/><path d=\"M17.41 7.96l-1.37-1.37c-.4-.4-.92-.59-1.43-.59-.52 0-1.04.2-1.43.59L10.3 9.45l-7.72 7.72c-.78.78-.78 2.05 0 2.83L4 21.41c.39.39.9.59 1.41.59.51 0 1.02-.2 1.41-.59l7.78-7.78 2.81-2.81c.8-.78.8-2.07 0-2.86zM5.41 20L4 18.59l7.72-7.72 1.47 1.35L5.41 20z\"/>\n",
              "  </svg>\n",
              "      </button>\n",
              "      \n",
              "  <style>\n",
              "    .colab-df-container {\n",
              "      display:flex;\n",
              "      flex-wrap:wrap;\n",
              "      gap: 12px;\n",
              "    }\n",
              "\n",
              "    .colab-df-convert {\n",
              "      background-color: #E8F0FE;\n",
              "      border: none;\n",
              "      border-radius: 50%;\n",
              "      cursor: pointer;\n",
              "      display: none;\n",
              "      fill: #1967D2;\n",
              "      height: 32px;\n",
              "      padding: 0 0 0 0;\n",
              "      width: 32px;\n",
              "    }\n",
              "\n",
              "    .colab-df-convert:hover {\n",
              "      background-color: #E2EBFA;\n",
              "      box-shadow: 0px 1px 2px rgba(60, 64, 67, 0.3), 0px 1px 3px 1px rgba(60, 64, 67, 0.15);\n",
              "      fill: #174EA6;\n",
              "    }\n",
              "\n",
              "    [theme=dark] .colab-df-convert {\n",
              "      background-color: #3B4455;\n",
              "      fill: #D2E3FC;\n",
              "    }\n",
              "\n",
              "    [theme=dark] .colab-df-convert:hover {\n",
              "      background-color: #434B5C;\n",
              "      box-shadow: 0px 1px 3px 1px rgba(0, 0, 0, 0.15);\n",
              "      filter: drop-shadow(0px 1px 2px rgba(0, 0, 0, 0.3));\n",
              "      fill: #FFFFFF;\n",
              "    }\n",
              "  </style>\n",
              "\n",
              "      <script>\n",
              "        const buttonEl =\n",
              "          document.querySelector('#df-71dc6792-aebd-4804-b8c6-46b2fce1be3a button.colab-df-convert');\n",
              "        buttonEl.style.display =\n",
              "          google.colab.kernel.accessAllowed ? 'block' : 'none';\n",
              "\n",
              "        async function convertToInteractive(key) {\n",
              "          const element = document.querySelector('#df-71dc6792-aebd-4804-b8c6-46b2fce1be3a');\n",
              "          const dataTable =\n",
              "            await google.colab.kernel.invokeFunction('convertToInteractive',\n",
              "                                                     [key], {});\n",
              "          if (!dataTable) return;\n",
              "\n",
              "          const docLinkHtml = 'Like what you see? Visit the ' +\n",
              "            '<a target=\"_blank\" href=https://colab.research.google.com/notebooks/data_table.ipynb>data table notebook</a>'\n",
              "            + ' to learn more about interactive tables.';\n",
              "          element.innerHTML = '';\n",
              "          dataTable['output_type'] = 'display_data';\n",
              "          await google.colab.output.renderOutput(dataTable, element);\n",
              "          const docLink = document.createElement('div');\n",
              "          docLink.innerHTML = docLinkHtml;\n",
              "          element.appendChild(docLink);\n",
              "        }\n",
              "      </script>\n",
              "    </div>\n",
              "  </div>\n",
              "  "
            ]
          },
          "metadata": {},
          "execution_count": 6
        }
      ]
    },
    {
      "cell_type": "markdown",
      "source": [
        "#### Combining multiple categorical values into a single category (Q4)"
      ],
      "metadata": {
        "id": "LNU0cUGmX5wJ"
      }
    },
    {
      "cell_type": "code",
      "source": [
        "# check how many options does user answer for each column\n",
        "# if the number of answers are greater or equal to 30, then consider combining multiple categorical value to a single category.\n",
        "num_option = []\n",
        "index = 0\n",
        "for i in newdata.columns:\n",
        "  if newdata[i].nunique() >= 30:\n",
        "    num_option.append([newdata[i].nunique(), index])\n",
        "  index += 1\n",
        "num_option"
      ],
      "metadata": {
        "colab": {
          "base_uri": "https://localhost:8080/"
        },
        "id": "XmYs9aoyQyFY",
        "outputId": "95bb5f93-6465-430b-b017-ca48179f2532"
      },
      "execution_count": null,
      "outputs": [
        {
          "output_type": "execute_result",
          "data": {
            "text/plain": [
              "[[3103, 0], [58, 3]]"
            ]
          },
          "metadata": {},
          "execution_count": 7
        }
      ]
    },
    {
      "cell_type": "markdown",
      "source": [
        "First of all, I combined multiple categorical values into a single category such as Q4. Because there were a lot of unique country names based on answers of Q4, we only considered countries that appeared greater or equal to a certain frequency. Everything else we could replace with \"Other\". The frequency threshold was setted to be 140."
      ],
      "metadata": {
        "id": "F_pIgKJZVT5C"
      }
    },
    {
      "cell_type": "code",
      "source": [
        "country_counts = newdata.Q4.value_counts()\n",
        "\n",
        "value_mask = newdata.Q4.isin(country_counts.index[country_counts < 140])\n",
        "newdata.loc[value_mask,'Q4'] = \"Other\"\n",
        "\n",
        "newdata.Q4.value_counts()"
      ],
      "metadata": {
        "colab": {
          "base_uri": "https://localhost:8080/"
        },
        "id": "2spuBkgGVpPl",
        "outputId": "e2de1fcf-9966-441f-9345-212fb18b803c"
      },
      "execution_count": null,
      "outputs": [
        {
          "output_type": "execute_result",
          "data": {
            "text/plain": [
              "Other                       3450\n",
              "India                       2328\n",
              "United States of America    1434\n",
              "Japan                        333\n",
              "Brazil                       292\n",
              "Nigeria                      159\n",
              "Spain                        140\n",
              "Name: Q4, dtype: int64"
            ]
          },
          "metadata": {},
          "execution_count": 8
        }
      ]
    },
    {
      "cell_type": "markdown",
      "source": [
        "#### convert categorical data into numerical data by encoding (including remove na values)"
      ],
      "metadata": {
        "id": "TZyIWOSdj8Cu"
      }
    },
    {
      "cell_type": "markdown",
      "source": [
        "Then I converted several variables which are made of categorical data into numerical data by different types of encoding.\n"
      ],
      "metadata": {
        "id": "uAcHhQL4CdQ5"
      }
    },
    {
      "cell_type": "markdown",
      "source": [
        "##### dummy encodings"
      ],
      "metadata": {
        "id": "zCcAl6Q-zu5I"
      }
    },
    {
      "cell_type": "markdown",
      "source": [
        "This dataset represents survey questions. Some of the questions in this survey could select multiple options, such as question 6. Therefore I chose to use a variation of the one-hot encoding technique called \"dummy variables\". For each observation, set the value of the binary variables to 1 or 0 depending on whether the option was selected or not and in the case where no option was selected, we set a default value of 0.\n",
        "\n"
      ],
      "metadata": {
        "id": "5qUBVMcCkDdi"
      }
    },
    {
      "cell_type": "code",
      "source": [
        "#for multiple-choices question (select all that apply).\n",
        "for col in newdata.columns:\n",
        "  if \"_\" in col and col != \"Q29_Encoded\":\n",
        "    newdata = pd.get_dummies(data=newdata, columns=[col])"
      ],
      "metadata": {
        "id": "2-_kIi-0j3EN"
      },
      "execution_count": null,
      "outputs": []
    },
    {
      "cell_type": "markdown",
      "source": [
        "##### Dealing with N/A values"
      ],
      "metadata": {
        "id": "7zC8-tCmzzaN"
      }
    },
    {
      "cell_type": "markdown",
      "source": [
        "After that, I checked the N/A values for the rest variables. Dropped variables with a great portion of nan values. Besides, there was an inferent ordinal relationship among the answers in Q30, and the portion of nan values were relatively small. Thus I simply removed the rows.\n"
      ],
      "metadata": {
        "id": "myOXA3mCufdz"
      }
    },
    {
      "cell_type": "code",
      "source": [
        "# count the nan values for each column\n",
        "for col in newdata.columns:\n",
        "  if \"_\" not in col and col != \"Q29_Encoded\":\n",
        "    print(col, newdata[col].isna().sum())"
      ],
      "metadata": {
        "colab": {
          "base_uri": "https://localhost:8080/"
        },
        "id": "fSaIwGIjw3-u",
        "outputId": "c38cc83c-120a-4620-c0fe-05722064d003"
      },
      "execution_count": null,
      "outputs": [
        {
          "output_type": "stream",
          "name": "stdout",
          "text": [
            "Duration (in seconds) 0\n",
            "Q2 0\n",
            "Q3 0\n",
            "Q4 0\n",
            "Q5 0\n",
            "Q8 0\n",
            "Q9 2941\n",
            "Q11 0\n",
            "Q16 684\n",
            "Q22 6522\n",
            "Q23 0\n",
            "Q24 0\n",
            "Q25 0\n",
            "Q26 0\n",
            "Q27 0\n",
            "Q30 50\n",
            "Q32 6275\n",
            "Q43 3723\n"
          ]
        }
      ]
    },
    {
      "cell_type": "code",
      "source": [
        "# since the nan values in Q9, Q16, Q22, Q32 and Q43 has a great portion, I decided to drop them.\n",
        "# Besides, there is an inferent ordianl relationship among the answers in Q30, and the portion of nan values are relatively small.\n",
        "# Thus, simply remove the rows.\n",
        "newdata = newdata.drop(columns=['Q9', 'Q16', 'Q22', 'Q32', 'Q43'])\n",
        "newdata = newdata.dropna(subset=['Q30'])"
      ],
      "metadata": {
        "id": "por30Wx3xb7b"
      },
      "execution_count": null,
      "outputs": []
    },
    {
      "cell_type": "markdown",
      "source": [
        "Since Q5 has only 1 category \"no\", we drop this variable. Besides, Q8, Q26 cannot be read properly (garbled code), so we will also drop it."
      ],
      "metadata": {
        "id": "KFE3GkLN6sqK"
      }
    },
    {
      "cell_type": "code",
      "source": [
        "newdata = newdata.drop(columns=['Q5', 'Q8', 'Q26'])"
      ],
      "metadata": {
        "id": "qRBXDuqU7UN5"
      },
      "execution_count": null,
      "outputs": []
    },
    {
      "cell_type": "markdown",
      "source": [
        "##### label encoding"
      ],
      "metadata": {
        "id": "5EjIzxgoz4w-"
      }
    },
    {
      "cell_type": "markdown",
      "source": [
        "For the rest variables, use label encoding if there is an inherent ordinal relationship among answers such as question 2. Otherwise, use one-hot encoding for single-choice questions.\n"
      ],
      "metadata": {
        "id": "r_84BCVjWi3R"
      }
    },
    {
      "cell_type": "code",
      "source": [
        "# Q2\n",
        "# Define the natural order of the categories\n",
        "natural_order2 = [['18-21', '22-24', '25-29', '30-34', '35-39', '40-44', '45-49', '50-54', '55-59', '60-69','70+' ]]\n",
        "oe2 = OrdinalEncoder(categories=natural_order2)\n",
        "# Fit and transform the data using the natural order\n",
        "newdata[\"Q2\"] = oe2.fit_transform(newdata[['Q2']])"
      ],
      "metadata": {
        "id": "qVC27ZmqVZQo"
      },
      "execution_count": null,
      "outputs": []
    },
    {
      "cell_type": "code",
      "source": [
        "# Q11\n",
        "# Define the natural order of the categories\n",
        "natural_order11 = [['I have never written code', '< 1 years', '1-3 years', '3-5 years', '5-10 years', '10-20 years', '20+ years']]\n",
        "oe11 = OrdinalEncoder(categories=natural_order11)\n",
        "# Fit and transform the data using the natural order\n",
        "newdata[\"Q11\"] = oe11.fit_transform(newdata[['Q11']])"
      ],
      "metadata": {
        "id": "tdQSGilh9Hjw"
      },
      "execution_count": null,
      "outputs": []
    },
    {
      "cell_type": "code",
      "source": [
        "# Q25\n",
        "# Define the natural order of the categories\n",
        "natural_order25 = [['0-49 employees', '50-249 employees', '250-999 employees', '1000-9,999 employees', '10,000 or more employees']]\n",
        "oe25 = OrdinalEncoder(categories=natural_order25)\n",
        "# Fit and transform the data using the natural order\n",
        "newdata[\"Q25\"] = oe25.fit_transform(newdata[['Q25']])"
      ],
      "metadata": {
        "id": "xkQ8CeM2Wrga"
      },
      "execution_count": null,
      "outputs": []
    },
    {
      "cell_type": "code",
      "source": [
        "# Q27\n",
        "# Define the natural order of the categories\n",
        "natural_order27 = [['I do not know', 'No (we do not use ML methods)',\n",
        "                    'We use ML methods for generating insights (but do not put working models into production)',\n",
        "                    'We are exploring ML methods (and may one day put a model into production)',\n",
        "                    'We recently started using ML methods (i.e., models in production for less than 2 years)',\n",
        "                    'We have well established ML methods (i.e., models in production for more than 2 years)']]\n",
        "oe27 = OrdinalEncoder(categories=natural_order27)\n",
        "# Fit and transform the data using the natural order\n",
        "newdata[\"Q27\"] = oe27.fit_transform(newdata[['Q27']])"
      ],
      "metadata": {
        "id": "wtbm3vuIXWFz"
      },
      "execution_count": null,
      "outputs": []
    },
    {
      "cell_type": "code",
      "source": [
        "# Q30\n",
        "# Define the natural order of the categories\n",
        "natural_order30 = [['$0 ($USD)', '$1-$99', '$100-$999', '$1000-$9,999', '$10,000-$99,999', '$100,000 or more ($USD)']]\n",
        "oe30 = OrdinalEncoder(categories=natural_order30)\n",
        "# Fit and transform the data using the natural order\n",
        "newdata[\"Q30\"] = oe30.fit_transform(newdata[['Q30']])"
      ],
      "metadata": {
        "id": "X7J1AW_-YDnz"
      },
      "execution_count": null,
      "outputs": []
    },
    {
      "cell_type": "markdown",
      "source": [
        "##### One-hot encoding"
      ],
      "metadata": {
        "id": "TujMhAmGYkym"
      }
    },
    {
      "cell_type": "code",
      "source": [
        "#for single-choices questions.\n",
        "single_choice = [\"Q3\", \"Q4\", \"Q23\", \"Q24\"]\n",
        "for col in single_choice:\n",
        "  newdata = pd.get_dummies(data=newdata, columns=[col])"
      ],
      "metadata": {
        "id": "z2KCqB1TYnBJ"
      },
      "execution_count": null,
      "outputs": []
    },
    {
      "cell_type": "code",
      "source": [
        "newdata.head()"
      ],
      "metadata": {
        "colab": {
          "base_uri": "https://localhost:8080/",
          "height": 331
        },
        "id": "-6nR8xiAZu8c",
        "outputId": "9f2cb053-19f2-498c-8d49-6b93315a9f67"
      },
      "execution_count": null,
      "outputs": [
        {
          "output_type": "execute_result",
          "data": {
            "text/plain": [
              "  Duration (in seconds)    Q2  Q11  Q25  Q27  Q30  Q29_Encoded  Q6_1_Coursera  \\\n",
              "1                   851   8.0  5.0  0.0  4.0  3.0          2.0              1   \n",
              "2                   501   3.0  5.0  2.0  5.0  0.0         10.0              1   \n",
              "3                   787  10.0  6.0  3.0  4.0  2.0         10.0              1   \n",
              "4                  1132   5.0  5.0  3.0  5.0  2.0         13.0              1   \n",
              "5                   679   5.0  5.0  3.0  5.0  5.0         13.0              1   \n",
              "\n",
              "   Q6_2_edX  Q6_3_Kaggle Learn Courses  ...  Q24_Government/Public Service  \\\n",
              "1         0                          1  ...                              0   \n",
              "2         1                          0  ...                              0   \n",
              "3         0                          1  ...                              1   \n",
              "4         0                          1  ...                              0   \n",
              "5         0                          0  ...                              0   \n",
              "\n",
              "   Q24_Insurance/Risk Assessment  Q24_Manufacturing/Fabrication  \\\n",
              "1                              0                              0   \n",
              "2                              1                              0   \n",
              "3                              0                              0   \n",
              "4                              0                              0   \n",
              "5                              0                              0   \n",
              "\n",
              "   Q24_Marketing/CRM  Q24_Medical/Pharmaceutical  Q24_Non-profit/Service  \\\n",
              "1                  0                           0                       0   \n",
              "2                  0                           0                       0   \n",
              "3                  0                           0                       0   \n",
              "4                  0                           0                       0   \n",
              "5                  0                           0                       0   \n",
              "\n",
              "   Q24_Online Service/Internet-based Services  Q24_Other  Q24_Retail/Sales  \\\n",
              "1                                           1          0                 0   \n",
              "2                                           0          0                 0   \n",
              "3                                           0          0                 0   \n",
              "4                                           0          0                 0   \n",
              "5                                           0          0                 0   \n",
              "\n",
              "   Q24_Shipping/Transportation  \n",
              "1                            0  \n",
              "2                            0  \n",
              "3                            0  \n",
              "4                            0  \n",
              "5                            0  \n",
              "\n",
              "[5 rows x 325 columns]"
            ],
            "text/html": [
              "\n",
              "  <div id=\"df-f08ae690-7548-4fd6-96d0-8aef72f2063f\">\n",
              "    <div class=\"colab-df-container\">\n",
              "      <div>\n",
              "<style scoped>\n",
              "    .dataframe tbody tr th:only-of-type {\n",
              "        vertical-align: middle;\n",
              "    }\n",
              "\n",
              "    .dataframe tbody tr th {\n",
              "        vertical-align: top;\n",
              "    }\n",
              "\n",
              "    .dataframe thead th {\n",
              "        text-align: right;\n",
              "    }\n",
              "</style>\n",
              "<table border=\"1\" class=\"dataframe\">\n",
              "  <thead>\n",
              "    <tr style=\"text-align: right;\">\n",
              "      <th></th>\n",
              "      <th>Duration (in seconds)</th>\n",
              "      <th>Q2</th>\n",
              "      <th>Q11</th>\n",
              "      <th>Q25</th>\n",
              "      <th>Q27</th>\n",
              "      <th>Q30</th>\n",
              "      <th>Q29_Encoded</th>\n",
              "      <th>Q6_1_Coursera</th>\n",
              "      <th>Q6_2_edX</th>\n",
              "      <th>Q6_3_Kaggle Learn Courses</th>\n",
              "      <th>...</th>\n",
              "      <th>Q24_Government/Public Service</th>\n",
              "      <th>Q24_Insurance/Risk Assessment</th>\n",
              "      <th>Q24_Manufacturing/Fabrication</th>\n",
              "      <th>Q24_Marketing/CRM</th>\n",
              "      <th>Q24_Medical/Pharmaceutical</th>\n",
              "      <th>Q24_Non-profit/Service</th>\n",
              "      <th>Q24_Online Service/Internet-based Services</th>\n",
              "      <th>Q24_Other</th>\n",
              "      <th>Q24_Retail/Sales</th>\n",
              "      <th>Q24_Shipping/Transportation</th>\n",
              "    </tr>\n",
              "  </thead>\n",
              "  <tbody>\n",
              "    <tr>\n",
              "      <th>1</th>\n",
              "      <td>851</td>\n",
              "      <td>8.0</td>\n",
              "      <td>5.0</td>\n",
              "      <td>0.0</td>\n",
              "      <td>4.0</td>\n",
              "      <td>3.0</td>\n",
              "      <td>2.0</td>\n",
              "      <td>1</td>\n",
              "      <td>0</td>\n",
              "      <td>1</td>\n",
              "      <td>...</td>\n",
              "      <td>0</td>\n",
              "      <td>0</td>\n",
              "      <td>0</td>\n",
              "      <td>0</td>\n",
              "      <td>0</td>\n",
              "      <td>0</td>\n",
              "      <td>1</td>\n",
              "      <td>0</td>\n",
              "      <td>0</td>\n",
              "      <td>0</td>\n",
              "    </tr>\n",
              "    <tr>\n",
              "      <th>2</th>\n",
              "      <td>501</td>\n",
              "      <td>3.0</td>\n",
              "      <td>5.0</td>\n",
              "      <td>2.0</td>\n",
              "      <td>5.0</td>\n",
              "      <td>0.0</td>\n",
              "      <td>10.0</td>\n",
              "      <td>1</td>\n",
              "      <td>1</td>\n",
              "      <td>0</td>\n",
              "      <td>...</td>\n",
              "      <td>0</td>\n",
              "      <td>1</td>\n",
              "      <td>0</td>\n",
              "      <td>0</td>\n",
              "      <td>0</td>\n",
              "      <td>0</td>\n",
              "      <td>0</td>\n",
              "      <td>0</td>\n",
              "      <td>0</td>\n",
              "      <td>0</td>\n",
              "    </tr>\n",
              "    <tr>\n",
              "      <th>3</th>\n",
              "      <td>787</td>\n",
              "      <td>10.0</td>\n",
              "      <td>6.0</td>\n",
              "      <td>3.0</td>\n",
              "      <td>4.0</td>\n",
              "      <td>2.0</td>\n",
              "      <td>10.0</td>\n",
              "      <td>1</td>\n",
              "      <td>0</td>\n",
              "      <td>1</td>\n",
              "      <td>...</td>\n",
              "      <td>1</td>\n",
              "      <td>0</td>\n",
              "      <td>0</td>\n",
              "      <td>0</td>\n",
              "      <td>0</td>\n",
              "      <td>0</td>\n",
              "      <td>0</td>\n",
              "      <td>0</td>\n",
              "      <td>0</td>\n",
              "      <td>0</td>\n",
              "    </tr>\n",
              "    <tr>\n",
              "      <th>4</th>\n",
              "      <td>1132</td>\n",
              "      <td>5.0</td>\n",
              "      <td>5.0</td>\n",
              "      <td>3.0</td>\n",
              "      <td>5.0</td>\n",
              "      <td>2.0</td>\n",
              "      <td>13.0</td>\n",
              "      <td>1</td>\n",
              "      <td>0</td>\n",
              "      <td>1</td>\n",
              "      <td>...</td>\n",
              "      <td>0</td>\n",
              "      <td>0</td>\n",
              "      <td>0</td>\n",
              "      <td>0</td>\n",
              "      <td>0</td>\n",
              "      <td>0</td>\n",
              "      <td>0</td>\n",
              "      <td>0</td>\n",
              "      <td>0</td>\n",
              "      <td>0</td>\n",
              "    </tr>\n",
              "    <tr>\n",
              "      <th>5</th>\n",
              "      <td>679</td>\n",
              "      <td>5.0</td>\n",
              "      <td>5.0</td>\n",
              "      <td>3.0</td>\n",
              "      <td>5.0</td>\n",
              "      <td>5.0</td>\n",
              "      <td>13.0</td>\n",
              "      <td>1</td>\n",
              "      <td>0</td>\n",
              "      <td>0</td>\n",
              "      <td>...</td>\n",
              "      <td>0</td>\n",
              "      <td>0</td>\n",
              "      <td>0</td>\n",
              "      <td>0</td>\n",
              "      <td>0</td>\n",
              "      <td>0</td>\n",
              "      <td>0</td>\n",
              "      <td>0</td>\n",
              "      <td>0</td>\n",
              "      <td>0</td>\n",
              "    </tr>\n",
              "  </tbody>\n",
              "</table>\n",
              "<p>5 rows × 325 columns</p>\n",
              "</div>\n",
              "      <button class=\"colab-df-convert\" onclick=\"convertToInteractive('df-f08ae690-7548-4fd6-96d0-8aef72f2063f')\"\n",
              "              title=\"Convert this dataframe to an interactive table.\"\n",
              "              style=\"display:none;\">\n",
              "        \n",
              "  <svg xmlns=\"http://www.w3.org/2000/svg\" height=\"24px\"viewBox=\"0 0 24 24\"\n",
              "       width=\"24px\">\n",
              "    <path d=\"M0 0h24v24H0V0z\" fill=\"none\"/>\n",
              "    <path d=\"M18.56 5.44l.94 2.06.94-2.06 2.06-.94-2.06-.94-.94-2.06-.94 2.06-2.06.94zm-11 1L8.5 8.5l.94-2.06 2.06-.94-2.06-.94L8.5 2.5l-.94 2.06-2.06.94zm10 10l.94 2.06.94-2.06 2.06-.94-2.06-.94-.94-2.06-.94 2.06-2.06.94z\"/><path d=\"M17.41 7.96l-1.37-1.37c-.4-.4-.92-.59-1.43-.59-.52 0-1.04.2-1.43.59L10.3 9.45l-7.72 7.72c-.78.78-.78 2.05 0 2.83L4 21.41c.39.39.9.59 1.41.59.51 0 1.02-.2 1.41-.59l7.78-7.78 2.81-2.81c.8-.78.8-2.07 0-2.86zM5.41 20L4 18.59l7.72-7.72 1.47 1.35L5.41 20z\"/>\n",
              "  </svg>\n",
              "      </button>\n",
              "      \n",
              "  <style>\n",
              "    .colab-df-container {\n",
              "      display:flex;\n",
              "      flex-wrap:wrap;\n",
              "      gap: 12px;\n",
              "    }\n",
              "\n",
              "    .colab-df-convert {\n",
              "      background-color: #E8F0FE;\n",
              "      border: none;\n",
              "      border-radius: 50%;\n",
              "      cursor: pointer;\n",
              "      display: none;\n",
              "      fill: #1967D2;\n",
              "      height: 32px;\n",
              "      padding: 0 0 0 0;\n",
              "      width: 32px;\n",
              "    }\n",
              "\n",
              "    .colab-df-convert:hover {\n",
              "      background-color: #E2EBFA;\n",
              "      box-shadow: 0px 1px 2px rgba(60, 64, 67, 0.3), 0px 1px 3px 1px rgba(60, 64, 67, 0.15);\n",
              "      fill: #174EA6;\n",
              "    }\n",
              "\n",
              "    [theme=dark] .colab-df-convert {\n",
              "      background-color: #3B4455;\n",
              "      fill: #D2E3FC;\n",
              "    }\n",
              "\n",
              "    [theme=dark] .colab-df-convert:hover {\n",
              "      background-color: #434B5C;\n",
              "      box-shadow: 0px 1px 3px 1px rgba(0, 0, 0, 0.15);\n",
              "      filter: drop-shadow(0px 1px 2px rgba(0, 0, 0, 0.3));\n",
              "      fill: #FFFFFF;\n",
              "    }\n",
              "  </style>\n",
              "\n",
              "      <script>\n",
              "        const buttonEl =\n",
              "          document.querySelector('#df-f08ae690-7548-4fd6-96d0-8aef72f2063f button.colab-df-convert');\n",
              "        buttonEl.style.display =\n",
              "          google.colab.kernel.accessAllowed ? 'block' : 'none';\n",
              "\n",
              "        async function convertToInteractive(key) {\n",
              "          const element = document.querySelector('#df-f08ae690-7548-4fd6-96d0-8aef72f2063f');\n",
              "          const dataTable =\n",
              "            await google.colab.kernel.invokeFunction('convertToInteractive',\n",
              "                                                     [key], {});\n",
              "          if (!dataTable) return;\n",
              "\n",
              "          const docLinkHtml = 'Like what you see? Visit the ' +\n",
              "            '<a target=\"_blank\" href=https://colab.research.google.com/notebooks/data_table.ipynb>data table notebook</a>'\n",
              "            + ' to learn more about interactive tables.';\n",
              "          element.innerHTML = '';\n",
              "          dataTable['output_type'] = 'display_data';\n",
              "          await google.colab.output.renderOutput(dataTable, element);\n",
              "          const docLink = document.createElement('div');\n",
              "          docLink.innerHTML = docLinkHtml;\n",
              "          element.appendChild(docLink);\n",
              "        }\n",
              "      </script>\n",
              "    </div>\n",
              "  </div>\n",
              "  "
            ]
          },
          "metadata": {},
          "execution_count": 19
        }
      ]
    },
    {
      "cell_type": "markdown",
      "source": [
        "### Q2. Exploratory data analysis and feature selection"
      ],
      "metadata": {
        "id": "XV1Lhw7CaYxA"
      }
    },
    {
      "cell_type": "markdown",
      "source": [
        "#### exploratory data analysis"
      ],
      "metadata": {
        "id": "dYWSwkE1XdhY"
      }
    },
    {
      "cell_type": "markdown",
      "source": [
        "In order to pick the most related to Q29_Encoded variables among 325 features to fit the logistic regression model, we will visualize the order of feature importance through a heatmap of correlation."
      ],
      "metadata": {
        "id": "XEckdI5zYp0s"
      }
    },
    {
      "cell_type": "code",
      "source": [
        "# using corr plot to visualizes the order of feature importance\n",
        "# Since there are over 300 variables, we will choose the top 10 variables that has the highest correlation score to Q29_Encoded.\n",
        "\n",
        "import seaborn as sns\n",
        "\n",
        "corr = newdata.corr()\n",
        "q29corr = corr[\"Q29_Encoded\"]\n",
        "q29top = q29corr.nlargest(10).index.tolist()\n",
        "corr = corr.loc[q29top, q29top]\n",
        "\n",
        "sns.heatmap(corr, annot=True, cmap='spring')\n"
      ],
      "metadata": {
        "colab": {
          "base_uri": "https://localhost:8080/",
          "height": 652
        },
        "id": "5zbwwtVRXcb2",
        "outputId": "4d35e16d-b456-444a-822e-96bceea1c450"
      },
      "execution_count": null,
      "outputs": [
        {
          "output_type": "execute_result",
          "data": {
            "text/plain": [
              "<AxesSubplot:>"
            ]
          },
          "metadata": {},
          "execution_count": 20
        },
        {
          "output_type": "display_data",
          "data": {
            "text/plain": [
              "<Figure size 432x288 with 2 Axes>"
            ],
            "image/png": "[encoded data removed]"
          },
          "metadata": {
            "needs_background": "light"
          }
        }
      ]
    },
    {
      "cell_type": "markdown",
      "source": [
        "According to the heatmap, the most important features related to respondent’s yearly compensation are respondents living in United States of America (Q4_United States of America), years have been programming(Q11), age(Q2), employer incorporate machine learning methods or not(Q27) and amount of money spent on machine learning(Q30)."
      ],
      "metadata": {
        "id": "4HC1txroca1M"
      }
    },
    {
      "cell_type": "markdown",
      "source": [
        "#### Feature engineering/selection"
      ],
      "metadata": {
        "id": "LZOaP4lmd5Gz"
      }
    },
    {
      "cell_type": "markdown",
      "source": [
        "Feature engineering is the process of selecting and manipulating raw data to generate meaningful features for predictions or analysis. Since the performance of the predictive model is highly dependent on input features, feature engineering could improve model accuracy and interpretation. If feature engineering does not apply in this task, the model would be built depending on over 300 features, which would cause a higher probability of overfitting.\n"
      ],
      "metadata": {
        "id": "wDY1tG7-fZJa"
      }
    },
    {
      "cell_type": "markdown",
      "source": [
        "Hence we use Lasso regression to select features based on our training data. Lasso regression is a regularized regression that is used to select important features by shrinking the coefficients of less important features to zero. We also tune the hyperparameter alpha to make Lasso regression perform best"
      ],
      "metadata": {
        "id": "omYfUKbFmTxB"
      }
    },
    {
      "cell_type": "markdown",
      "source": [
        "First of all, we need to split the data into training and testing dataset. After that, we use grid search to find the best value for the hyperparameter alpha of Lasso regression(set alpha = 0.1). Then we check the performance of the regression using the optimal hyperparameters via cross validation. In cross-validation, we partition the training set into various training and testing sets and we use these sets to train and test the model multiple times.Finally, use 10000 iterations to find the top 10 important features.\n"
      ],
      "metadata": {
        "id": "gpjDwPUbwv97"
      }
    },
    {
      "cell_type": "code",
      "source": [
        "# split the data into training and testing dataset\n",
        "from sklearn.model_selection import train_test_split\n",
        "\n",
        "target_data = newdata['Q29_Encoded']\n",
        "feature_data = newdata.drop(columns=['Q29_Encoded'])\n",
        "\n",
        "X_train,X_test, y_train, y_test= train_test_split(feature_data, target_data, test_size=0.33, random_state=13)"
      ],
      "metadata": {
        "id": "Wv6A9Xc5d-aZ"
      },
      "execution_count": null,
      "outputs": []
    },
    {
      "cell_type": "code",
      "source": [
        "#set up cross validation\n",
        "from sklearn.model_selection import GridSearchCV, KFold\n",
        "from sklearn.metrics import make_scorer, r2_score, mean_squared_error, auc, mean_absolute_error\n",
        "\n",
        "def run_kfold(model, X, Y):\n",
        "\n",
        "    kf = KFold(n_splits=10) #n_splits previously n_folds\n",
        "\n",
        "    scores = []\n",
        "    fold = 0\n",
        "\n",
        "    for train_index, test_index in kf.split(X):\n",
        "        fold += 1\n",
        "        X_train, X_test = X.values[train_index], X.values[test_index]\n",
        "        Y_train, Y_test = Y.values[train_index], Y.values[test_index]\n",
        "\n",
        "        model.fit(X_train, Y_train)\n",
        "        predictions = model.predict(X_test)\n",
        "\n",
        "        score = r2_score(Y_test, predictions) # can try different metrics (e.g., Mean absolute error)\n",
        "        scores.append(score)\n",
        "        print(\"Fold {0} R2 score: {1}\".format(fold, score))\n",
        "\n",
        "    mean_score = np.mean(scores)\n",
        "    std_score=np.std(scores)\n",
        "    print(\"Mean R2 score: {0}\".format(mean_score))\n",
        "    print(\"Standard Deviation: {0}\".format(std_score))"
      ],
      "metadata": {
        "id": "GLlDR_2JmQdi"
      },
      "execution_count": null,
      "outputs": []
    },
    {
      "cell_type": "code",
      "source": [
        "# grid search to find best hyperparameter value (alpha)\n",
        "from sklearn.metrics import make_scorer, r2_score, confusion_matrix\n",
        "from sklearn import linear_model\n",
        "\n",
        "reg_gridsearch = linear_model.Lasso(random_state=42)\n",
        "#Parameters to test\n",
        "parameters = {'alpha':np.arange(0.1,3,0.1)}, # Constant that multiplies the L1 term. Defaults to 1.0.\n",
        "\n",
        "# Compare parameters by score of model\n",
        "acc_scorer_lm = make_scorer(r2_score)\n",
        "\n",
        "# Run the grid search\n",
        "grid_obj_lm = GridSearchCV(reg_gridsearch, parameters, scoring=acc_scorer_lm)\n",
        "grid_obj_lm = grid_obj_lm.fit(X_train, y_train)\n",
        "\n",
        "reg_gridsearch = grid_obj_lm.best_params_  #Select best parameter combination"
      ],
      "metadata": {
        "id": "UuNB9IyhslNk"
      },
      "execution_count": null,
      "outputs": []
    },
    {
      "cell_type": "code",
      "source": [
        "reg_gridsearch # print out the optimal params so grid search does not need to be rerun"
      ],
      "metadata": {
        "colab": {
          "base_uri": "https://localhost:8080/"
        },
        "id": "nNBmJzDmtKez",
        "outputId": "0084ae8c-27e7-4328-e3eb-51c00d6807dc"
      },
      "execution_count": null,
      "outputs": [
        {
          "output_type": "execute_result",
          "data": {
            "text/plain": [
              "{'alpha': 0.1}"
            ]
          },
          "metadata": {},
          "execution_count": 25
        }
      ]
    },
    {
      "cell_type": "code",
      "source": [
        "# Lasso Regression with alpha = 0.1\n",
        "from sklearn import linear_model\n",
        "\n",
        "reg = linear_model.Lasso(alpha = 0.1,max_iter=10000)\n",
        "reg.fit(X_train, y_train)"
      ],
      "metadata": {
        "id": "zTHRmNc6pM4Q",
        "colab": {
          "base_uri": "https://localhost:8080/",
          "height": 74
        },
        "outputId": "2a2c9b80-497d-45c8-91e2-97299048aad1"
      },
      "execution_count": null,
      "outputs": [
        {
          "output_type": "execute_result",
          "data": {
            "text/plain": [
              "Lasso(alpha=0.1, max_iter=10000)"
            ],
            "text/html": [
              "<style>#sk-container-id-1 {color: black;background-color: white;}#sk-container-id-1 pre{padding: 0;}#sk-container-id-1 div.sk-toggleable {background-color: white;}#sk-container-id-1 label.sk-toggleable__label {cursor: pointer;display: block;width: 100%;margin-bottom: 0;padding: 0.3em;box-sizing: border-box;text-align: center;}#sk-container-id-1 label.sk-toggleable__label-arrow:before {content: \"▸\";float: left;margin-right: 0.25em;color: #696969;}#sk-container-id-1 label.sk-toggleable__label-arrow:hover:before {color: black;}#sk-container-id-1 div.sk-estimator:hover label.sk-toggleable__label-arrow:before {color: black;}#sk-container-id-1 div.sk-toggleable__content {max-height: 0;max-width: 0;overflow: hidden;text-align: left;background-color: #f0f8ff;}#sk-container-id-1 div.sk-toggleable__content pre {margin: 0.2em;color: black;border-radius: 0.25em;background-color: #f0f8ff;}#sk-container-id-1 input.sk-toggleable__control:checked~div.sk-toggleable__content {max-height: 200px;max-width: 100%;overflow: auto;}#sk-container-id-1 input.sk-toggleable__control:checked~label.sk-toggleable__label-arrow:before {content: \"▾\";}#sk-container-id-1 div.sk-estimator input.sk-toggleable__control:checked~label.sk-toggleable__label {background-color: #d4ebff;}#sk-container-id-1 div.sk-label input.sk-toggleable__control:checked~label.sk-toggleable__label {background-color: #d4ebff;}#sk-container-id-1 input.sk-hidden--visually {border: 0;clip: rect(1px 1px 1px 1px);clip: rect(1px, 1px, 1px, 1px);height: 1px;margin: -1px;overflow: hidden;padding: 0;position: absolute;width: 1px;}#sk-container-id-1 div.sk-estimator {font-family: monospace;background-color: #f0f8ff;border: 1px dotted black;border-radius: 0.25em;box-sizing: border-box;margin-bottom: 0.5em;}#sk-container-id-1 div.sk-estimator:hover {background-color: #d4ebff;}#sk-container-id-1 div.sk-parallel-item::after {content: \"\";width: 100%;border-bottom: 1px solid gray;flex-grow: 1;}#sk-container-id-1 div.sk-label:hover label.sk-toggleable__label {background-color: #d4ebff;}#sk-container-id-1 div.sk-serial::before {content: \"\";position: absolute;border-left: 1px solid gray;box-sizing: border-box;top: 0;bottom: 0;left: 50%;z-index: 0;}#sk-container-id-1 div.sk-serial {display: flex;flex-direction: column;align-items: center;background-color: white;padding-right: 0.2em;padding-left: 0.2em;position: relative;}#sk-container-id-1 div.sk-item {position: relative;z-index: 1;}#sk-container-id-1 div.sk-parallel {display: flex;align-items: stretch;justify-content: center;background-color: white;position: relative;}#sk-container-id-1 div.sk-item::before, #sk-container-id-1 div.sk-parallel-item::before {content: \"\";position: absolute;border-left: 1px solid gray;box-sizing: border-box;top: 0;bottom: 0;left: 50%;z-index: -1;}#sk-container-id-1 div.sk-parallel-item {display: flex;flex-direction: column;z-index: 1;position: relative;background-color: white;}#sk-container-id-1 div.sk-parallel-item:first-child::after {align-self: flex-end;width: 50%;}#sk-container-id-1 div.sk-parallel-item:last-child::after {align-self: flex-start;width: 50%;}#sk-container-id-1 div.sk-parallel-item:only-child::after {width: 0;}#sk-container-id-1 div.sk-dashed-wrapped {border: 1px dashed gray;margin: 0 0.4em 0.5em 0.4em;box-sizing: border-box;padding-bottom: 0.4em;background-color: white;}#sk-container-id-1 div.sk-label label {font-family: monospace;font-weight: bold;display: inline-block;line-height: 1.2em;}#sk-container-id-1 div.sk-label-container {text-align: center;}#sk-container-id-1 div.sk-container {/* jupyter's `normalize.less` sets `[hidden] { display: none; }` but bootstrap.min.css set `[hidden] { display: none !important; }` so we also need the `!important` here to be able to override the default hidden behavior on the sphinx rendered scikit-learn.org. See: https://github.com/scikit-learn/scikit-learn/issues/21755 */display: inline-block !important;position: relative;}#sk-container-id-1 div.sk-text-repr-fallback {display: none;}</style><div id=\"sk-container-id-1\" class=\"sk-top-container\"><div class=\"sk-text-repr-fallback\"><pre>Lasso(alpha=0.1, max_iter=10000)</pre><b>In a Jupyter environment, please rerun this cell to show the HTML representation or trust the notebook. <br />On GitHub, the HTML representation is unable to render, please try loading this page with nbviewer.org.</b></div><div class=\"sk-container\" hidden><div class=\"sk-item\"><div class=\"sk-estimator sk-toggleable\"><input class=\"sk-toggleable__control sk-hidden--visually\" id=\"sk-estimator-id-1\" type=\"checkbox\" checked><label for=\"sk-estimator-id-1\" class=\"sk-toggleable__label sk-toggleable__label-arrow\">Lasso</label><div class=\"sk-toggleable__content\"><pre>Lasso(alpha=0.1, max_iter=10000)</pre></div></div></div></div></div>"
            ]
          },
          "metadata": {},
          "execution_count": 26
        }
      ]
    },
    {
      "cell_type": "code",
      "source": [
        "run_kfold (reg, X_train, y_train)"
      ],
      "metadata": {
        "colab": {
          "base_uri": "https://localhost:8080/"
        },
        "id": "sulQt7verrr8",
        "outputId": "28852bf4-df2b-4eb1-cbc3-abf75f5b6fa0"
      },
      "execution_count": null,
      "outputs": [
        {
          "output_type": "stream",
          "name": "stdout",
          "text": [
            "Fold 1 R2 score: 0.517092174004113\n",
            "Fold 2 R2 score: 0.5054920600954624\n",
            "Fold 3 R2 score: 0.5357557792555097\n",
            "Fold 4 R2 score: 0.55861799252051\n",
            "Fold 5 R2 score: 0.5080734804686144\n",
            "Fold 6 R2 score: 0.47759609041998174\n",
            "Fold 7 R2 score: 0.5104703299761795\n",
            "Fold 8 R2 score: 0.5035509508257001\n",
            "Fold 9 R2 score: 0.5294664918875878\n",
            "Fold 10 R2 score: 0.5492230626935928\n",
            "Mean R2 score: 0.5195338412147252\n",
            "Standard Deviation: 0.02280718694969505\n"
          ]
        }
      ]
    },
    {
      "cell_type": "code",
      "source": [
        "# Get the coefficients of the model and sort them by magnitude\n",
        "# Get the top 10 features with highest absolute coefficients\n",
        "sorted(list(zip(abs(reg.coef_), X_train)),reverse=True)[0:10]"
      ],
      "metadata": {
        "colab": {
          "base_uri": "https://localhost:8080/"
        },
        "id": "jdvzLWBKucEt",
        "outputId": "60e2dc1b-0f23-41c3-e259-e442ea245dbd"
      },
      "execution_count": null,
      "outputs": [
        {
          "output_type": "execute_result",
          "data": {
            "text/plain": [
              "[(4.6221736139903875, 'Q4_United States of America'),\n",
              " (0.8781759465482667, 'Q4_India'),\n",
              " (0.3902320031090803, 'Q11'),\n",
              " (0.3572734688478671, 'Q27'),\n",
              " (0.34480623094867036, 'Q30'),\n",
              " (0.25497764794619615, 'Q25'),\n",
              " (0.22240063251172768, 'Q24_Academics/Education'),\n",
              " (0.20992172836810916, 'Q2'),\n",
              " (0.20769676378751775,\n",
              "  'Q28_3_Build prototypes to explore applying machine learning to new areas'),\n",
              " (0.18671514216732235, 'Q34_3_ Amazon Simple Storage Service (S3)  ')]"
            ]
          },
          "metadata": {},
          "execution_count": 28
        }
      ]
    },
    {
      "cell_type": "markdown",
      "source": [
        "### Q3. Model implementation"
      ],
      "metadata": {
        "id": "FlPlJYObx_P6"
      }
    },
    {
      "cell_type": "markdown",
      "source": [
        "The goal of this task is to build a ordinal logistic regression model to predict the currect yearly compensation bucket of a survey respondent. After finding the most important features through Lasso regression, we selected top 10 important features and created a new dataset, which will be used in ordinal logistic regression model.\n"
      ],
      "metadata": {
        "id": "Hn5LKjZA-xmd"
      }
    },
    {
      "cell_type": "markdown",
      "source": [
        "##### new dataset"
      ],
      "metadata": {
        "id": "BVEu8p-uiE0D"
      }
    },
    {
      "cell_type": "code",
      "source": [
        "import warnings\n",
        "#warnings.filterwarnings(\"ignore\", category=ConvergenceWarning)\n",
        "warnings.filterwarnings(\"ignore\")"
      ],
      "metadata": {
        "id": "IMpvSqPd4WyI"
      },
      "execution_count": null,
      "outputs": []
    },
    {
      "cell_type": "code",
      "source": [
        "# import libraries\n",
        "from sklearn.preprocessing import StandardScaler\n",
        "from sklearn.linear_model import LogisticRegression"
      ],
      "metadata": {
        "id": "zVTMpqgy4xao"
      },
      "execution_count": null,
      "outputs": []
    },
    {
      "cell_type": "code",
      "source": [
        "# select the top 10 features and create a new dataset\n",
        "# split the new dataset into training and testing dataset\n",
        "newdata2 = newdata[['Q29_Encoded', 'Q4_United States of America', 'Q4_India','Q11', 'Q27', 'Q30', 'Q25','Q24_Academics/Education','Q2','Q28_3_Build prototypes to explore applying machine learning to new areas','Q34_3_ Amazon Simple Storage Service (S3)  '  ]]\n",
        "\n",
        "target_data2 = newdata2['Q29_Encoded']\n",
        "feature_data2 = newdata2.drop(columns=['Q29_Encoded'])\n",
        "\n",
        "X_train2,X_test2, y_train2, y_test2= train_test_split(feature_data2, target_data2, test_size=0.33, random_state=13)"
      ],
      "metadata": {
        "id": "Ggdj5hzE8Nxz"
      },
      "execution_count": null,
      "outputs": []
    },
    {
      "cell_type": "markdown",
      "source": [
        "##### Implement ordinal logistic model and compute model accuracy, average and variance of accuracy"
      ],
      "metadata": {
        "id": "T9OHtB4xiSrp"
      }
    },
    {
      "cell_type": "markdown",
      "source": [
        "Since the target value(Q29_Encoded) is not binary, we need to build an ordinal logistics regression. However there is no built-in function supporting ordinal logistic regression in the Python library, I chose to build it by using multiple logistic regression models. We could treat each ordinal class as a binary classification problem, where we compared each class to all the lower classes combined. For example, if the current class is 0, then we will compare class 0 vs class 1-14. (there are 15 classes in Q29_encoded: 0,1,2,...,14). In this situation, we will encode class 0 as 0 and class 1-14 as 1.\n",
        "\n",
        "After fitting all the single logistic regression models, I merged and then subtracted the probability of next encoded class 0 to current encoded class 0 in order to get the true probability of the current class (Make predictions by comparing probabilities of adjacent encoded classes). The prediction of the ordinal logistic regression would be the class with the highest probability among all classes.\n",
        "\n",
        "It is worth mentioning that we also applied normalization on features since it could bring the features to the same scale and prevent features with large magnitudes from dominating the model.\n"
      ],
      "metadata": {
        "id": "i6rxl7M8wR2a"
      }
    },
    {
      "cell_type": "code",
      "source": [
        "newdata2.Q29_Encoded.nunique()"
      ],
      "metadata": {
        "colab": {
          "base_uri": "https://localhost:8080/"
        },
        "id": "Hk-c8xuQ-W2_",
        "outputId": "d4e5fa39-a989-4503-8cea-5eec530df92a"
      },
      "execution_count": null,
      "outputs": [
        {
          "output_type": "execute_result",
          "data": {
            "text/plain": [
              "15"
            ]
          },
          "metadata": {},
          "execution_count": 32
        }
      ]
    },
    {
      "cell_type": "code",
      "source": [
        "# implement ordinal logistic regression model using multiple logistic regression model\n",
        "# if the current state of Q29_Encoded is greater than setted class(n), set it to 1, otherwise set it to 0\n",
        "# source:https://www.kaggle.com/code/ronennakash/ordinal-logistic-regression-solution/notebook#Ordinal-Logistic-regression\n",
        "\n",
        "def single_lr(X_train, y_train, X_test, y_test, C, solver, n):\n",
        "  # n is the current state in Q29_Encoded. since there are 15 classes in Q29_Encoded(0,1,...,14)\n",
        "  #X_train = X_train2\n",
        "\n",
        "  # create X_train_t a new dataframe which contains target data of training dataset\n",
        "  X_train_t = X_train.copy()\n",
        "  X_train_t['Q29_Encoded'] = y_train\n",
        "\n",
        "  # copy X_train_t as a new dataframe  X_train_n.\n",
        "\n",
        "  X_train_n = X_train_t.copy()\n",
        "\n",
        "  # loop the target value of the dataset\n",
        "  # convert the Q29_Encoded of X_train_n so that we could transform the target into binary classification.\n",
        "  # if the current state of Q29_Encoded is greater than setted class(n), set it to 1, otherwise set it to 0\n",
        "  # (eg. class 12 vs. class 13,14,15)\n",
        "  for target in range (X_train.shape[0]):\n",
        "    if (X_train_t['Q29_Encoded'].iloc[target] > n):\n",
        "       X_train_n['Q29_Encoded'].iloc[target]=1\n",
        "    else:\n",
        "       X_train_n['Q29_Encoded'].iloc[target]=0\n",
        "\n",
        "  # divide the new dataframe into target value and data value.\n",
        "  ytrain = X_train_n[\"Q29_Encoded\"]\n",
        "  xtrain = X_train_n.drop(columns=['Q29_Encoded'])\n",
        "\n",
        "  # not using normalization since we need to set the result in the given range 0-1\n",
        "  scaler = StandardScaler()\n",
        "  xtrain = scaler.fit_transform(xtrain)\n",
        "  xtest = scaler.fit_transform(X_test)\n",
        "\n",
        "  model1 = LogisticRegression(C = C, solver = solver)\n",
        "  model1.fit(xtrain, ytrain)\n",
        "\n",
        "  # Probability estimates of xtest\n",
        "  probability = model1.predict_proba(xtest)\n",
        "  return probability\n"
      ],
      "metadata": {
        "id": "xR_ApCl4380H"
      },
      "execution_count": null,
      "outputs": []
    },
    {
      "cell_type": "markdown",
      "source": [
        "Combine all single logistic regression model to an ordinal logistic regression model"
      ],
      "metadata": {
        "id": "Vf-fE0O3C6Dp"
      }
    },
    {
      "cell_type": "code",
      "source": [
        "# implement ordinal logistic regression model by merging 14 logistic model (n = 0,1,2,...,13)\n",
        "def olr(X_train, y_train, X_test, y_test, C, solver):\n",
        "  prob_all = []\n",
        "  for n in range(newdata2.Q29_Encoded.nunique() - 1): #n = 0-13\n",
        "    prob = single_lr(X_train, y_train, X_test, y_test, C, solver, n)  #shape(2669, 2) represent probability of encoded class 0 vs. encoded class 1\n",
        "    prob_all.append(prob)\n",
        "\n",
        "  # Make predictions by comparing probabilities of adjacent encoded class.\n",
        "  # compute the probability of current class n.\n",
        "  prob_final = [] # class 0(n = 0)\n",
        "\n",
        "  for k in range(X_test.shape[0]): # loop all the rows in testing dataset k = 0-2668\n",
        "    prob_n = []\n",
        "    prob_n.append(prob_all[0][k][0]) #append probability of class 0\n",
        "\n",
        "    for i in range(len(prob_all)-1): # i = 0-12 # loop the predicted probability of logistic regression model\n",
        "      current = prob_all[i][k][0] # current loop index, prob of encoded class n-1\n",
        "      next = prob_all[i+1][k][0] # next loop index, prob of encoded class n\n",
        "      true_prob = next - current # prob of true class n (i+1)\n",
        "\n",
        "      prob_n.append(true_prob) # append probabilty of the current row\n",
        "\n",
        "    prob_n.append(prob_all[len(prob_all)-1][k][1]) #append probability of class 14\n",
        "\n",
        "    # find the class with highest probability for each row\n",
        "    maxvalue = max(prob_n)\n",
        "    maxindex = prob_n.index(maxvalue)\n",
        "    prob_final.append(maxindex)\n",
        "\n",
        "  return prob_final"
      ],
      "metadata": {
        "id": "1oNOJolIF7t5"
      },
      "execution_count": null,
      "outputs": []
    },
    {
      "cell_type": "code",
      "source": [
        "# set 10 cross-validation\n",
        "\n",
        "kfold = KFold(n_splits=10)\n",
        "kfold.get_n_splits(feature_data2)\n",
        "\n",
        "accuracy = np.zeros(10)\n",
        "np_idx = 0\n",
        "\n",
        "for train_idx, test_idx in kfold.split(feature_data2):\n",
        "    X_train, X_test = feature_data2.values[train_idx], feature_data2.values[test_idx]\n",
        "    y_train, y_test = target_data2.values[train_idx], target_data2.values[test_idx]\n",
        "\n",
        "    X_train = pd.DataFrame(X_train)\n",
        "    X_test = pd.DataFrame(X_test)\n",
        "\n",
        "    prob_final = olr(X_train, y_train, X_test, y_test, 0.1, \"newton-cg\")\n",
        "\n",
        "    # compute accuracy\n",
        "    count = 0\n",
        "    for i in range(len(y_test)):\n",
        "      if y_test[i] == prob_final[i]:\n",
        "        count += 1\n",
        "    accuracy[np_idx] = (count/len(y_test))*100\n",
        "    np_idx += 1\n",
        "\n",
        "    print (\"Fold {}: Accuracy: {}%\".format(np_idx, round(count/len(y_test),3)))\n",
        "\n",
        "print (\"Average Accuracy: {}%, Standard Deviation:{}%\".format(round(np.mean(accuracy),3),round(np.std(accuracy),3)))"
      ],
      "metadata": {
        "id": "PotnbBYTBpuy",
        "colab": {
          "base_uri": "https://localhost:8080/"
        },
        "outputId": "000f7573-ef8d-42d4-dba7-ba04538e47ab"
      },
      "execution_count": null,
      "outputs": [
        {
          "output_type": "stream",
          "name": "stdout",
          "text": [
            "Fold 1: Accuracy: 0.409%\n",
            "Fold 2: Accuracy: 0.377%\n",
            "Fold 3: Accuracy: 0.409%\n",
            "Fold 4: Accuracy: 0.435%\n",
            "Fold 5: Accuracy: 0.418%\n",
            "Fold 6: Accuracy: 0.396%\n",
            "Fold 7: Accuracy: 0.421%\n",
            "Fold 8: Accuracy: 0.41%\n",
            "Fold 9: Accuracy: 0.392%\n",
            "Fold 10: Accuracy: 0.4%\n",
            "Average Accuracy: 40.663%, Standard Deviation:1.552%\n"
          ]
        }
      ]
    },
    {
      "cell_type": "markdown",
      "source": [
        "Next we check the performance of the ordinal logistic regression with hyperparameters C=0.1 and solver = \"newton-cg\" via 10 fold cross validation. Based on the results, the fold 4 has the highest accuracy 43.5%, the average accuracy for all 10 folds is 40.663% and the corresponding standard deviation of accuracy is around 0.0155."
      ],
      "metadata": {
        "id": "TQS99Ca5Dxsb"
      }
    },
    {
      "cell_type": "markdown",
      "source": [
        "#### try several models and give reasons on bias-variance trade-off"
      ],
      "metadata": {
        "id": "nbr-suIF_uXc"
      }
    },
    {
      "cell_type": "markdown",
      "source": [
        "Since we could adjust the model performance by tuning the hyperparameters of the ordinal logistic regression. Hence I investigate several C values to find the model that performs the best. The selected C values are 0.01,0.05,0.1."
      ],
      "metadata": {
        "id": "0pQLpnT79Y61"
      }
    },
    {
      "cell_type": "code",
      "source": [
        "# compute bias and variance\n",
        "import statistics as st\n",
        "\n",
        "bias_all = []\n",
        "var_all = []\n",
        "\n",
        "for C in [0.01,0.05,0.1]:\n",
        "\n",
        "  accuracy = np.zeros(10)\n",
        "  np_idx = 0\n",
        "\n",
        "  for train_idx, test_idx in kfold.split(feature_data2):\n",
        "    X_train, X_test = feature_data2.values[train_idx], feature_data2.values[test_idx]\n",
        "    y_train, y_test = target_data2.values[train_idx], target_data2.values[test_idx]\n",
        "\n",
        "    X_train = pd.DataFrame(X_train)\n",
        "    X_test = pd.DataFrame(X_test)\n",
        "\n",
        "    prob_final = olr(X_train, y_train, X_test, y_test, C, \"newton-cg\")\n",
        "\n",
        "    # compute accuracy\n",
        "    count = 0\n",
        "    for i in range(len(y_test)):\n",
        "      if y_test[i] == prob_final[i]:\n",
        "        count += 1\n",
        "    accuracy[np_idx] = (count/len(y_test))*100\n",
        "    np_idx += 1\n",
        "\n",
        "    bias = np.mean(np.power(np.array(pd.to_numeric(prob_final)) - np.array(pd.to_numeric(y_test)), 2))\n",
        "    var = np.var(pd.to_numeric(np.array(prob_final)))\n",
        "\n",
        "    bias_all.append(bias)\n",
        "    var_all.append(var)\n",
        "\n",
        "  print(\"C:\", C, \"squared bias:\", st.mean(bias_all), \"variance:\",st.mean(var_all))\n",
        "  print (\"Average Accuracy: {}%, Standard Deviation:{}%\".format(round(np.mean(accuracy),3),round(np.std(accuracy),3)))"
      ],
      "metadata": {
        "colab": {
          "base_uri": "https://localhost:8080/"
        },
        "id": "CKkzP_OV_75J",
        "outputId": "19780205-ddb6-46b3-e9f7-78099e69df01"
      },
      "execution_count": null,
      "outputs": [
        {
          "output_type": "stream",
          "name": "stdout",
          "text": [
            "C: 0.01 squared bias: 16.24329434334039 variance: 19.145054579400867\n",
            "Average Accuracy: 40.712%, Standard Deviation:1.453%\n",
            "C: 0.05 squared bias: 15.944844432681835 variance: 19.59307287928967\n",
            "Average Accuracy: 40.626%, Standard Deviation:1.466%\n",
            "C: 0.1 squared bias: 15.828872788391324 variance: 19.796072824466886\n",
            "Average Accuracy: 40.663%, Standard Deviation:1.552%\n"
          ]
        }
      ]
    },
    {
      "cell_type": "markdown",
      "source": [
        "The bias-variance trade-off for the optimal model is analyzed below. For the multiclass classification problem, the bias is defined as the mean of the squared error between predictions and true value. The variance is the mean of the variance in each fold. The following result shows the bias and variance of logistic regression with different hyperparameter C.\n",
        "\n",
        "Based on the result, we could observe as the hypermeter C increases, the bias decreases and the variance increases. This is because smaller C values specify a stronger regularization and penalize the large weights. Hence a higher C is more likely leading to overfitting because of high model complexity. In this case, the model may have a high variance and capture lots of noise from training data. Therefore, it may not generalize on new testing data and get a lower accuracy. Viceversa, a higher C may lead to underfitting and have a small variance.\n",
        "\n",
        "By comparing the average accuracy of the models, the model with hyperparameters C = 0.01 and solver = \"newton-cg '' performed the best with the average accuracy 40.712%. It may be because the model achieved a better balance between bias and variance, leading to a relatively small probability of overfitting or underfitting.\n"
      ],
      "metadata": {
        "id": "HqGXrNev_raZ"
      }
    },
    {
      "cell_type": "markdown",
      "source": [
        "### Q4. Model tuning"
      ],
      "metadata": {
        "id": "IGVIcu_Aibsv"
      }
    },
    {
      "cell_type": "markdown",
      "source": [
        "##### optimal logistic regression model"
      ],
      "metadata": {
        "id": "_ruXe3wfiHVS"
      }
    },
    {
      "cell_type": "markdown",
      "source": [
        "When performing grid search to find the optimal ordinal logistic regression model, I used the F1 score as the evaluation metric instead of accuracy. This is because the model always predicts the majority class will have a high accuracy when the dataset is imbalanced. While F1 score takes into both precision and recall, leading to a less impact on an imbalanced dataset.\n",
        "\n",
        "The result of grid search on F1 showed when the hyperparameter C is tuned to 0.5 and solve is setted as newton-cg, the ordinal logistic regression model has the best performance.\n"
      ],
      "metadata": {
        "id": "0MRpeA2vDnIW"
      }
    },
    {
      "cell_type": "code",
      "source": [
        "from sklearn.metrics import f1_score\n",
        "# grid search on f1 score to find best hyperparameters of logistic regression.\n",
        "\n",
        "best_params = {}\n",
        "best_accuracy = 0\n",
        "best_std = 0\n",
        "\n",
        "for C in [0.1,0.5,1]:\n",
        "    for solver in ['newton-cg','lbfgs','liblinear','sag']:\n",
        "        accuracy = np.zeros(10)\n",
        "        np_idx = 0\n",
        "\n",
        "        for train_idx, test_idx in kfold.split(feature_data2):\n",
        "            X_train, X_test = feature_data2.values[train_idx], feature_data2.values[test_idx]\n",
        "            y_train, y_test = target_data2.values[train_idx], target_data2.values[test_idx]\n",
        "\n",
        "            X_train = pd.DataFrame(X_train)\n",
        "            X_test = pd.DataFrame(X_test)\n",
        "\n",
        "            prob_final = olr(X_train, y_train, X_test, y_test, C, solver)\n",
        "\n",
        "            f1 = f1_score(y_test, prob_final, average='weighted')\n",
        "\n",
        "            accuracy[np_idx] = f1\n",
        "            np_idx += 1\n",
        "\n",
        "        if np.mean(accuracy) > best_accuracy:\n",
        "            best_params = {'C':C, 'solver':solver}\n",
        "            best_accuracy = np.mean(accuracy)\n",
        "            best_std = np.std(accuracy)\n",
        "\n",
        "print (best_params)\n",
        "print (\"Best Score: {}%({}%)\".format(round(best_accuracy,3),round(best_std,3)))"
      ],
      "metadata": {
        "colab": {
          "base_uri": "https://localhost:8080/"
        },
        "id": "aLfbCUOp5xKJ",
        "outputId": "792dfcf3-c195-43f9-f152-7bb23ccd4b5d"
      },
      "execution_count": null,
      "outputs": [
        {
          "output_type": "stream",
          "name": "stdout",
          "text": [
            "{'C': 0.5, 'solver': 'newton-cg'}\n",
            "Best Score: 0.275%(0.02%)\n"
          ]
        }
      ]
    },
    {
      "cell_type": "markdown",
      "source": [
        "#### feature importance"
      ],
      "metadata": {
        "id": "R425tNHJqW9C"
      }
    },
    {
      "cell_type": "markdown",
      "source": [
        "To plot the feature importance of the ordinal logistic regression model, we compute the means of coefficients of logistic models."
      ],
      "metadata": {
        "id": "H6kvx1Rwca-U"
      }
    },
    {
      "cell_type": "code",
      "source": [
        "def single_lr_feature(X_train, y_train, X_test, y_test, C, solver, n):\n",
        "  # n is the current state in Q29_Encoded. since there are 15 classes in Q29_Encoded(0,1,...,14)\n",
        "  #X_train = X_train2\n",
        "\n",
        "  # create X_train_t a new dataframe which contains target data of training dataset\n",
        "  X_train_t = X_train.copy()\n",
        "  X_train_t['Q29_Encoded'] = y_train\n",
        "\n",
        "  # copy X_train_t as a new dataframe  X_train_n.\n",
        "\n",
        "  X_train_n = X_train_t.copy()\n",
        "\n",
        "  # loop the target value of the dataset\n",
        "  # convert the Q29_Encoded of X_train_n so that we could transform the target into binary classification.\n",
        "  # if the current state of Q29_Encoded is greater than setted class(n), set it to 1, otherwise set it to 0\n",
        "  # (eg. class 12 vs. class 13,14,15)\n",
        "  for target in range (X_train.shape[0]):\n",
        "    if (X_train_t['Q29_Encoded'].iloc[target] > n):\n",
        "       X_train_n['Q29_Encoded'].iloc[target]=1\n",
        "    else:\n",
        "       X_train_n['Q29_Encoded'].iloc[target]=0\n",
        "\n",
        "  # divide the new dataframe into target value and data value.\n",
        "  ytrain = X_train_n[\"Q29_Encoded\"]\n",
        "  xtrain = X_train_n.drop(columns=['Q29_Encoded'])\n",
        "\n",
        "  # not using normalization since we need to set the result in the given range 0-1\n",
        "  scaler = StandardScaler()\n",
        "  xtrain = scaler.fit_transform(xtrain)\n",
        "  xtest = scaler.fit_transform(X_test)\n",
        "\n",
        "  model1 = LogisticRegression(C = C, solver = solver)\n",
        "  model1.fit(xtrain, ytrain)\n",
        "\n",
        "  return model1.coef_[0]\n"
      ],
      "metadata": {
        "id": "mRhoeAFne9Q5"
      },
      "execution_count": null,
      "outputs": []
    },
    {
      "cell_type": "code",
      "source": [
        "feature_all = []\n",
        "for n in range(newdata2.Q29_Encoded.nunique() - 1): #n = 0-13\n",
        "  feature = single_lr_feature(X_train2, y_train2, X_test2, y_test2, 0.5, \"newton-cg\", n)\n",
        "  feature_all.append(feature)\n",
        "\n",
        "importance = []\n",
        "for i in range(10): # number of selected features\n",
        "  means = []\n",
        "  for k in feature_all:\n",
        "    means.append(k[i])\n",
        "  importance.append(abs(st.mean(means)))\n",
        "\n"
      ],
      "metadata": {
        "id": "wbeemQIKfZ6H"
      },
      "execution_count": null,
      "outputs": []
    },
    {
      "cell_type": "code",
      "source": [
        "# plot feature importance\n",
        "plt.barh(range(X_train2.shape[1]), importance)\n",
        "plt.yticks(range(X_train2.shape[1]), X_train2.columns)\n",
        "plt.show()"
      ],
      "metadata": {
        "colab": {
          "base_uri": "https://localhost:8080/",
          "height": 265
        },
        "id": "THTt5HW3m7UZ",
        "outputId": "e9940fb6-cc54-43c4-baf6-74e5bc8f0134"
      },
      "execution_count": null,
      "outputs": [
        {
          "output_type": "display_data",
          "data": {
            "text/plain": [
              "<Figure size 432x288 with 1 Axes>"
            ],
            "image/png": "[encoded data removed]"
          },
          "metadata": {
            "needs_background": "light"
          }
        }
      ]
    },
    {
      "cell_type": "markdown",
      "source": [
        " The bar plot of the feature importance is shown below. Compared with the previous correlation plot, the respondent living in the United States of America has the highest score in both plots. However, the degree of importance of other variables in the plots are slightly different. The degree of importance of Q11 and Q24_Academics/Education are higher to adjacent variables（Q11 vs. Q4_India; Q24_Academics/Education vs. Q2) in the feature importance plot generated using ordinal logistic regression, while not in correlation plot."
      ],
      "metadata": {
        "id": "qPyMAH8NihWs"
      }
    },
    {
      "cell_type": "markdown",
      "source": [
        "### Q5. Testing and Discussion"
      ],
      "metadata": {
        "id": "_bC8mIwAqOuv"
      }
    },
    {
      "cell_type": "markdown",
      "source": [
        "Overall, we have fine tuned the hyperparameters for ordinal logistic regression by setting C = 0.5 and solver = \"newton-cg\". In order to evaluate our model, we applied the model to the testing dataset."
      ],
      "metadata": {
        "id": "DBIh0ZtMqSIq"
      }
    },
    {
      "cell_type": "code",
      "source": [
        "# accuracy on tesing dataset\n",
        "prob_list_test = olr(X_train2, y_train2, X_test2, y_test2, 0.5, \"newton-cg\")\n",
        "# compute accuracy\n",
        "count_test = 0\n",
        "for i in range(len(y_test2.tolist())):\n",
        "  if y_test2.tolist()[i] == prob_list_test[i]:\n",
        "    count_test += 1\n",
        "accuracy_test = (count_test/len(y_test2.tolist()))*100\n",
        "print (\"Average Accuracy: {}%\".format(round(np.mean(accuracy_test),3)))"
      ],
      "metadata": {
        "colab": {
          "base_uri": "https://localhost:8080/"
        },
        "id": "FZSs3Dg0sR4V",
        "outputId": "8da4b346-8160-47ed-b454-fa280bea1b14"
      },
      "execution_count": null,
      "outputs": [
        {
          "output_type": "stream",
          "name": "stdout",
          "text": [
            "Average Accuracy: 40.614%\n"
          ]
        }
      ]
    },
    {
      "cell_type": "code",
      "source": [
        "# accuracy on training dataset\n",
        "prob_list_train = olr(X_train2, y_train2, X_train2, y_train2, 0.5, \"newton-cg\")\n",
        "# compute accuracy\n",
        "count_train = 0\n",
        "for i in range(len(y_train2.tolist())):\n",
        "  if y_train2.tolist()[i] == prob_list_train[i]:\n",
        "    count_train += 1\n",
        "accuracy_train = (count_train/len(y_train2.tolist()))*100\n",
        "print (\"Average Accuracy: {}%\".format(round(np.mean(accuracy_train),3)))"
      ],
      "metadata": {
        "colab": {
          "base_uri": "https://localhost:8080/"
        },
        "id": "Jk2shot9uo0Q",
        "outputId": "8a6e66ec-2fcb-4743-8ed1-e2c38f8624d0"
      },
      "execution_count": null,
      "outputs": [
        {
          "output_type": "stream",
          "name": "stdout",
          "text": [
            "Average Accuracy: 40.964%\n"
          ]
        }
      ]
    },
    {
      "cell_type": "markdown",
      "source": [
        "By comparing the average accuracy on training dataset and testing dataset, the model performed better on training dataset(40.964% vs. 40.614%). However, both average accuracy are not a good result. This may indicate that the model is too simple to capture the important patterns in the data, resulting in poor performance on both training and testing data. Hence we may conclude the model is underfitting. One way to improve performance is to increase the model complexity by using other complex machine learning algorithms such as neural networks.\n"
      ],
      "metadata": {
        "id": "Qo0x5Y9xvaII"
      }
    },
    {
      "cell_type": "code",
      "source": [
        "# Plot training set distributions\n",
        "plt.hist(y_train2.tolist(), alpha=0.5, label='True')\n",
        "plt.hist(prob_list_train, alpha=0.5, label='Predicted')\n",
        "plt.title('Training Set')\n",
        "plt.legend()\n",
        "plt.show()\n",
        "\n",
        "# Plot test set distributions\n",
        "plt.hist(y_test2.tolist(), alpha=0.5, label='True')\n",
        "plt.hist(prob_list_test, alpha=0.5, label='Predicted')\n",
        "plt.title('Test Set')\n",
        "plt.legend()\n",
        "plt.show()"
      ],
      "metadata": {
        "colab": {
          "base_uri": "https://localhost:8080/",
          "height": 545
        },
        "id": "Mc7XO5-cxzZO",
        "outputId": "60a85e10-14f3-41af-83b6-bd85cdd63654"
      },
      "execution_count": null,
      "outputs": [
        {
          "output_type": "display_data",
          "data": {
            "text/plain": [
              "<Figure size 432x288 with 1 Axes>"
            ],
            "image/png": "[encoded data removed]"
          },
          "metadata": {
            "needs_background": "light"
          }
        },
        {
          "output_type": "display_data",
          "data": {
            "text/plain": [
              "<Figure size 432x288 with 1 Axes>"
            ],
            "image/png": "[encoded data removed]"
          },
          "metadata": {
            "needs_background": "light"
          }
        }
      ]
    }
  ]
}